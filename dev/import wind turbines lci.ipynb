{
 "cells": [
  {
   "metadata": {
    "ExecuteTime": {
     "end_time": "2025-02-12T14:13:31.938346Z",
     "start_time": "2025-02-12T14:13:30.140210Z"
    }
   },
   "cell_type": "code",
   "source": [
    "import pandas as pd\n",
    "import bw2io, bw2data\n",
    "import numpy as np"
   ],
   "id": "8e4db023fb290ea2",
   "outputs": [],
   "execution_count": 1
  },
  {
   "metadata": {},
   "cell_type": "code",
   "outputs": [],
   "execution_count": null,
   "source": "np.__version__",
   "id": "6a0a31423ef44efb"
  },
  {
   "metadata": {},
   "cell_type": "code",
   "outputs": [],
   "execution_count": null,
   "source": "bw2io.__version__",
   "id": "63519e63a4773163"
  },
  {
   "metadata": {},
   "cell_type": "code",
   "outputs": [],
   "execution_count": null,
   "source": "bw2data.__version__",
   "id": "f105dac72181ebbd"
  },
  {
   "metadata": {
    "ExecuteTime": {
     "end_time": "2025-02-12T14:13:32.057170Z",
     "start_time": "2025-02-12T14:13:31.942041Z"
    }
   },
   "cell_type": "code",
   "source": "bw2data.projects.set_current(\"ecoinvent-3.10-cutoff\")",
   "id": "f09c87c21c2e779d",
   "outputs": [],
   "execution_count": 2
  },
  {
   "metadata": {},
   "cell_type": "code",
   "outputs": [],
   "execution_count": null,
   "source": "bw2data.databases",
   "id": "5dea015fa322e2"
  },
  {
   "metadata": {
    "ExecuteTime": {
     "end_time": "2025-02-12T14:23:21.683898Z",
     "start_time": "2025-02-12T14:23:21.633884Z"
    }
   },
   "cell_type": "code",
   "source": [
    "fp=\"../windisch/data/lcia/lci-wind-turbines.xlsx\"\n",
    "i = bw2io.ExcelImporter(fp)"
   ],
   "id": "560af7f6cbe0b58e",
   "outputs": [
    {
     "name": "stdout",
     "output_type": "stream",
     "text": [
      "Extracted 1 worksheets in 0.04 seconds\n"
     ]
    }
   ],
   "execution_count": 16
  },
  {
   "metadata": {},
   "cell_type": "code",
   "outputs": [],
   "execution_count": null,
   "source": "bw2io.create_core_migrations()",
   "id": "3dc1f23f1dc53ae2"
  },
  {
   "metadata": {
    "ExecuteTime": {
     "end_time": "2025-02-12T14:23:25.748394Z",
     "start_time": "2025-02-12T14:23:23.129218Z"
    }
   },
   "cell_type": "code",
   "source": "i.apply_strategies()",
   "id": "763a35cfe1e006e8",
   "outputs": [
    {
     "name": "stdout",
     "output_type": "stream",
     "text": [
      "Applying strategy: csv_restore_tuples\n",
      "Applying strategy: csv_restore_booleans\n",
      "Applying strategy: csv_numerize\n",
      "Applying strategy: csv_drop_unknown\n",
      "Applying strategy: csv_add_missing_exchanges_section\n",
      "Applying strategy: normalize_units\n",
      "Applying strategy: normalize_biosphere_categories\n",
      "Applying strategy: normalize_biosphere_names\n",
      "Applying strategy: strip_biosphere_exc_locations\n",
      "Applying strategy: set_code_by_activity_hash\n",
      "Applying strategy: link_iterable_by_fields\n",
      "Applying strategy: assign_only_product_as_production\n",
      "Applying strategy: link_technosphere_by_activity_hash\n",
      "Applying strategy: drop_falsey_uncertainty_fields_but_keep_zeros\n",
      "Applying strategy: convert_uncertainty_types_to_integers\n",
      "Applying strategy: convert_activity_parameters_to_list\n",
      "Applied 16 strategies in 2.62 seconds\n"
     ]
    }
   ],
   "execution_count": 17
  },
  {
   "metadata": {
    "ExecuteTime": {
     "end_time": "2025-02-12T14:23:25.764326Z",
     "start_time": "2025-02-12T14:23:25.761298Z"
    }
   },
   "cell_type": "code",
   "source": "i.match_database(fields=[\"name\", \"reference product\", \"unit\", \"location\"])",
   "id": "716681ad4859d48b",
   "outputs": [
    {
     "name": "stdout",
     "output_type": "stream",
     "text": [
      "Applying strategy: link_iterable_by_fields\n"
     ]
    }
   ],
   "execution_count": 18
  },
  {
   "metadata": {
    "ExecuteTime": {
     "end_time": "2025-02-12T14:23:26.828504Z",
     "start_time": "2025-02-12T14:23:25.774736Z"
    }
   },
   "cell_type": "code",
   "source": "i.match_database(\"ecoinvent-3.10.1-cutoff\", fields=[\"name\", \"reference product\", \"unit\", \"location\"])",
   "id": "148e3b7c73714809",
   "outputs": [
    {
     "name": "stdout",
     "output_type": "stream",
     "text": [
      "Applying strategy: link_iterable_by_fields\n"
     ]
    }
   ],
   "execution_count": 19
  },
  {
   "metadata": {
    "ExecuteTime": {
     "end_time": "2025-02-12T14:23:26.892354Z",
     "start_time": "2025-02-12T14:23:26.889779Z"
    }
   },
   "cell_type": "code",
   "source": "i.statistics()",
   "id": "98a6635038b06b23",
   "outputs": [
    {
     "name": "stdout",
     "output_type": "stream",
     "text": [
      "24 datasets\n",
      "162 exchanges\n",
      "0 unlinked exchanges\n",
      "  \n"
     ]
    },
    {
     "data": {
      "text/plain": [
       "(24, 162, 0)"
      ]
     },
     "execution_count": 20,
     "metadata": {},
     "output_type": "execute_result"
    }
   ],
   "execution_count": 20
  },
  {
   "metadata": {
    "ExecuteTime": {
     "end_time": "2025-02-12T14:23:27.922549Z",
     "start_time": "2025-02-12T14:23:27.727359Z"
    }
   },
   "cell_type": "code",
   "source": "i.write_database()",
   "id": "2460998f67a4fc91",
   "outputs": [
    {
     "name": "stdout",
     "output_type": "stream",
     "text": [
      "Warning: No valid output stream.\n",
      "Title: Writing activities to SQLite3 database:\n",
      "  Started: 02/12/2025 15:23:27\n",
      "  Finished: 02/12/2025 15:23:27\n",
      "  Total time elapsed: 00:00:00\n",
      "  CPU %: 99.00\n",
      "  Memory %: 2.89\n",
      "Created database: wind turbines\n"
     ]
    }
   ],
   "execution_count": 21
  },
  {
   "metadata": {},
   "cell_type": "code",
   "outputs": [],
   "execution_count": null,
   "source": [
    "import numpy as np\n",
    "np.__version__"
   ],
   "id": "a4137366f4dbed08"
  },
  {
   "metadata": {},
   "cell_type": "code",
   "outputs": [],
   "execution_count": null,
   "source": "",
   "id": "fd0e634404f5b9d8"
  }
 ],
 "metadata": {
  "kernelspec": {
   "name": "python3",
   "language": "python",
   "display_name": "Python 3 (ipykernel)"
  }
 },
 "nbformat": 5,
 "nbformat_minor": 9
}
