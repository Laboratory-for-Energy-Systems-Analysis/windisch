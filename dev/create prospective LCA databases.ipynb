{
 "cells": [
  {
   "metadata": {
    "ExecuteTime": {
     "end_time": "2025-02-12T18:24:14.364762Z",
     "start_time": "2025-02-12T18:24:11.982082Z"
    }
   },
   "cell_type": "code",
   "source": [
    "import bw2data, bw2io, bw2calc\n",
    "from premise import *\n",
    "bw2data.projects.set_current(\"ecoinvent-3.10-cutoff\")"
   ],
   "id": "5e5c91691a867ab1",
   "outputs": [],
   "execution_count": 1
  },
  {
   "metadata": {
    "ExecuteTime": {
     "end_time": "2025-02-12T18:24:14.393206Z",
     "start_time": "2025-02-12T18:24:14.390017Z"
    }
   },
   "cell_type": "code",
   "source": [
    "from premise import __version__\n",
    "__version__\n"
   ],
   "id": "fae3e0ad5bd25fa9",
   "outputs": [
    {
     "data": {
      "text/plain": [
       "(2, 2, 6)"
      ]
     },
     "execution_count": 2,
     "metadata": {},
     "output_type": "execute_result"
    }
   ],
   "execution_count": 2
  },
  {
   "metadata": {
    "ExecuteTime": {
     "end_time": "2025-02-12T18:24:14.506499Z",
     "start_time": "2025-02-12T18:24:14.504282Z"
    }
   },
   "cell_type": "code",
   "source": [
    "# ndb = NewDatabase(scenarios = [\n",
    "#         {\"model\":\"remind\", \"pathway\":\"SSP2-NPi\", \"year\":2005},\n",
    "#         {\"model\":\"remind\", \"pathway\":\"SSP2-NPi\", \"year\":2010},\n",
    "#         {\"model\":\"remind\", \"pathway\":\"SSP2-NPi\", \"year\":2020},\n",
    "#         {\"model\":\"remind\", \"pathway\":\"SSP2-NPi\", \"year\":2030},\n",
    "#         {\"model\":\"remind\", \"pathway\":\"SSP2-NPi\", \"year\":2040},\n",
    "#         {\"model\":\"remind\", \"pathway\":\"SSP2-NPi\", \"year\":2050},\n",
    "#         {\"model\":\"remind\", \"pathway\":\"SSP2-PkBudg1150\", \"year\":2030},\n",
    "#         {\"model\":\"remind\", \"pathway\":\"SSP2-PkBudg1150\", \"year\":2040},\n",
    "#         {\"model\":\"remind\", \"pathway\":\"SSP2-PkBudg1150\", \"year\":2050},\n",
    "#         {\"model\":\"remind\", \"pathway\":\"SSP2-PkBudg500\", \"year\":2030},\n",
    "#         {\"model\":\"remind\", \"pathway\":\"SSP2-PkBudg500\", \"year\":2040},\n",
    "#         {\"model\":\"remind\", \"pathway\":\"SSP2-PkBudg500\", \"year\":2050},\n",
    "#     ],\n",
    "#   source_db = 'ecoinvent-3.10.1-cutoff',\n",
    "#   source_version = \"3.10\",\n",
    "#   biosphere_name=\"biosphere3\",\n",
    "#   key='tUePmX_S5B8ieZkkM7WUU2CnO8SmShwmAeWK9x2rTFo='\n",
    "#  )\n",
    "#\n",
    "# ndb.update()\n",
    "# ndb.write_db_to_brightway()"
   ],
   "id": "de7271de8440b768",
   "outputs": [],
   "execution_count": 3
  },
  {
   "metadata": {
    "ExecuteTime": {
     "end_time": "2025-02-12T18:24:14.522084Z",
     "start_time": "2025-02-12T18:24:14.517361Z"
    }
   },
   "cell_type": "code",
   "source": [
    "own_acts = [\n",
    "    [a[\"name\"], a[\"reference product\"], a[\"unit\"], a[\"location\"]]\n",
    "    for a in bw2data.Database(\"wind turbines\")\n",
    "]\n",
    "\n",
    "ei_acts = [\n",
    "    [\n",
    "        \"market for concrete, normal strength\",\n",
    "        \"concrete, normal strength\",\n",
    "        \"cubic meter\",\t\"CH\",\n",
    "    ],\n",
    "    [\n",
    "        \"market group for electricity, medium voltage\",\n",
    "        \"electricity, medium voltage\",\n",
    "        \"kilowatt hour\",    \"RER\",\n",
    "    ],\n",
    "    [\n",
    "        \"market for reinforcing steel\", \"reinforcing steel\", \"kilogram\", \"GLO\"\n",
    "    ],\n",
    "    [\n",
    "        \"chromium steel removed by milling, small parts\",\n",
    "        \"chromium steel milling, small parts\",\n",
    "        \"kilogram\",\n",
    "        \"RER\",\n",
    "    ],\n",
    "    [\n",
    "        \"market for steel, chromium steel 18/8\",\n",
    "        \"steel, chromium steel 18/8\",\n",
    "        \"kilogram\",\n",
    "        \"GLO\",\n",
    "    ],\n",
    "    [\n",
    "        \"market for transport, freight, lorry, unspecified\",\n",
    "        \"transport, freight, lorry, unspecified\",\n",
    "        \"ton kilometer\",\n",
    "        \"RER\",\n",
    "    ],\n",
    "    [\n",
    "        \"market for lubricating oil\",\n",
    "        \"lubricating oil\",\n",
    "        \"kilogram\",\n",
    "        \"RoW\",\n",
    "    ]\n",
    "]\n",
    "\n",
    "bio_flows = [\n",
    "    (\n",
    "        \"oxygen\", (\"air\",), \"kilogram\"\n",
    "    ),\n",
    "]"
   ],
   "id": "b6043e9e051db382",
   "outputs": [],
   "execution_count": 4
  },
  {
   "metadata": {
    "ExecuteTime": {
     "end_time": "2025-02-12T18:24:14.547695Z",
     "start_time": "2025-02-12T18:24:14.536446Z"
    }
   },
   "cell_type": "code",
   "source": [
    "for act in bw2data.Database(\"wind turbines\"):\n",
    "    for exc in act.exchanges():\n",
    "        if exc[\"type\"] == \"technosphere\":\n",
    "            key = [exc[\"name\"], exc[\"reference product\"], exc[\"unit\"], exc[\"location\"]]\n",
    "            if key not in ei_acts:\n",
    "                ei_acts.append(key)\n"
   ],
   "id": "32897ad4411d9a4d",
   "outputs": [],
   "execution_count": 5
  },
  {
   "metadata": {
    "ExecuteTime": {
     "end_time": "2025-02-12T18:24:14.556277Z",
     "start_time": "2025-02-12T18:24:14.553989Z"
    }
   },
   "cell_type": "code",
   "source": "len(own_acts), len(ei_acts)",
   "id": "b85a0d08e9d08e41",
   "outputs": [
    {
     "data": {
      "text/plain": [
       "(24, 49)"
      ]
     },
     "execution_count": 6,
     "metadata": {},
     "output_type": "execute_result"
    }
   ],
   "execution_count": 6
  },
  {
   "metadata": {
    "ExecuteTime": {
     "end_time": "2025-02-12T18:24:14.582930Z",
     "start_time": "2025-02-12T18:24:14.577128Z"
    }
   },
   "cell_type": "code",
   "source": [
    "import csv\n",
    "import numpy as np\n",
    "from pathlib import Path\n",
    "\n",
    "def create_index(db, filepath):\n",
    "    filepath = Path(filepath)\n",
    "\n",
    "    all_acts = []\n",
    "    for act in own_acts:\n",
    "        if act not in all_acts:\n",
    "            all_acts.append((act[0], act[-1], act[2], act[1]))\n",
    "\n",
    "    for act in ei_acts:\n",
    "        if act not in all_acts:\n",
    "            all_acts.append((act[0], act[-1], act[2], act[1]))\n",
    "\n",
    "    for act in bio_flows:\n",
    "        if act not in all_acts:\n",
    "            all_acts.append(act)\n",
    "\n",
    "    index = {}\n",
    "    i = 0\n",
    "    for act in all_acts:\n",
    "        if act not in index:\n",
    "            index[act] = i\n",
    "            i += 1\n",
    "\n",
    "    with open(filepath / f'dict_inputs_A_matrix.csv', 'w', newline='') as myfile:\n",
    "        wr = csv.writer(myfile, quoting=csv.QUOTE_NONE, delimiter=';')\n",
    "        for act in index:\n",
    "            wr.writerow(act)\n",
    "    return index\n",
    "\n",
    "def create_A_matrix(db, filepath, index):\n",
    "\n",
    "    all_acts = list(index.keys())\n",
    "\n",
    "    arr = np.zeros((len(all_acts), len(all_acts)))\n",
    "\n",
    "    for act in bw2data.Database(db):\n",
    "        key = [act[\"name\"], act[\"reference product\"], act[\"unit\"], act[\"location\"]]\n",
    "        if key in own_acts:\n",
    "            ix = index[(key[0], key[-1], key[2], key[1])]\n",
    "            #print(key[0])\n",
    "            for exc in act.exchanges():\n",
    "                if exc[\"type\"] in [\"production\", \"technosphere\"]:\n",
    "                    try:\n",
    "                        ix_ = index[(exc[\"name\"], exc[\"location\"], exc[\"unit\"], exc[\"reference product\"])]\n",
    "                    except:\n",
    "                        print(exc.as_dict())\n",
    "                        ix_ = 0\n",
    "                else:\n",
    "                    try:\n",
    "                        ix_ = index[(exc[\"name\"], exc[\"categories\"], exc[\"unit\"])]\n",
    "                    except:\n",
    "                        print((exc[\"name\"], exc[\"categories\"], exc[\"unit\"]))\n",
    "                        ix_ = 0\n",
    "\n",
    "                if exc[\"type\"] == \"production\":\n",
    "                    arr[ix_, ix] += exc[\"amount\"]\n",
    "                else:\n",
    "                    arr[ix_, ix] += exc[\"amount\"] * -1\n",
    "\n",
    "    for i in range(arr.shape[0]):\n",
    "        if arr[i, i] == 0:\n",
    "            arr[i, i] = 1\n",
    "\n",
    "    print(f\"A matrix shape: {arr.shape}\")\n",
    "\n",
    "    sarr = sparse.csr_matrix(arr)\n",
    "    sparse.save_npz(Path(filepath) / f'A_matrix.npz', sarr)\n"
   ],
   "id": "859e4418826d5229",
   "outputs": [],
   "execution_count": 7
  },
  {
   "metadata": {
    "ExecuteTime": {
     "end_time": "2025-02-12T18:24:14.730359Z",
     "start_time": "2025-02-12T18:24:14.727305Z"
    }
   },
   "cell_type": "code",
   "source": [
    "def get_midpoint_methods(method_name):\n",
    "\n",
    "    if method_name == \"recipe\":\n",
    "        methods = [\n",
    "            m for m in bw2data.methods\n",
    "            if m[0] == 'ReCiPe 2016 v1.03, midpoint (H)'\n",
    "        ]\n",
    "\n",
    "        methods.extend(\n",
    "           [\n",
    "                ('Cumulative Energy Demand (CED)', 'energy resources: non-renewable','energy content (HHV)'),\n",
    "                ('Cumulative Energy Demand (CED)', 'energy resources: renewable','energy content (HHV)'),\n",
    "                ('Cumulative Energy Demand (CED)', 'total', 'energy content (HHV)'),\n",
    "           ]\n",
    "        )\n",
    "\n",
    "        return methods\n",
    "\n",
    "    if method_name == \"ef\":\n",
    "        methods = [\n",
    "            m for m in bw2data.methods if \"ef v3.1\" in m[0].lower()\n",
    "            and \"LT\" not in m[0]\n",
    "            and \"15804\" not in m[0]\n",
    "        ]\n",
    "        return methods\n",
    "\n",
    "def get_endpoint_methods():\n",
    "    methods = [m for m in bw2data.methods\n",
    "               if 'recipe 2016' in m[0].lower()\n",
    "               and 'lt' not in m[0].lower()\n",
    "               and \"(h)\" in m[0].lower()\n",
    "               and \"endpoint\" in m[0]\n",
    "              ]\n",
    "    return methods"
   ],
   "id": "a79ed2c8029d5f34",
   "outputs": [],
   "execution_count": 8
  },
  {
   "metadata": {
    "ExecuteTime": {
     "end_time": "2025-02-12T18:24:15.268623Z",
     "start_time": "2025-02-12T18:24:15.259678Z"
    }
   },
   "cell_type": "code",
   "source": [
    "import pandas as pd\n",
    "from pathlib import Path\n",
    "from scipy import sparse\n",
    "import bw2calc\n",
    "\n",
    "\n",
    "LIST_DATABASES = [\n",
    "    \"ei_cutoff_3.10_remind_SSP2-NPi_2005 2025-02-11\",\n",
    "\t\"ei_cutoff_3.10_remind_SSP2-NPi_2010 2025-02-11\",\n",
    "\t\"ei_cutoff_3.10_remind_SSP2-NPi_2020 2025-02-11\",\n",
    "\t\"ei_cutoff_3.10_remind_SSP2-NPi_2030 2025-02-11\",\n",
    "\t\"ei_cutoff_3.10_remind_SSP2-NPi_2040 2025-02-11\",\n",
    "\t\"ei_cutoff_3.10_remind_SSP2-NPi_2050 2025-02-11\",\n",
    "\t\"ei_cutoff_3.10_remind_SSP2-PkBudg1150_2030 2025-02-11\",\n",
    "\t\"ei_cutoff_3.10_remind_SSP2-PkBudg1150_2040 2025-02-11\",\n",
    "\t\"ei_cutoff_3.10_remind_SSP2-PkBudg1150_2050 2025-02-11\",\n",
    "\t\"ei_cutoff_3.10_remind_SSP2-PkBudg500_2030 2025-02-11\",\n",
    "\t\"ei_cutoff_3.10_remind_SSP2-PkBudg500_2040 2025-02-11\",\n",
    "\t\"ei_cutoff_3.10_remind_SSP2-PkBudg500_2050 2025-02-11\",\n",
    "    \"ecoinvent-3.10.1-cutoff\"\n",
    "]\n",
    "\n",
    "def generate_calculated_values(ei_acts, index, method_name, indicator, filepath):\n",
    "\n",
    "    if indicator == \"midpoint\":\n",
    "        methods = get_midpoint_methods(method_name)\n",
    "    else:\n",
    "        methods = get_endpoint_methods()\n",
    "\n",
    "    print(f\"Number of methods: {len(methods)}\")\n",
    "\n",
    "    for l in LIST_DATABASES:\n",
    "        FU = []\n",
    "        for act in bw2data.Database(l):\n",
    "            if[act['name'], act['reference product'], act['unit'], act['location']] in ei_acts:\n",
    "                FU.append({act:1})\n",
    "\n",
    "        print(f\"Calculating impacts for {len(FU)} activities\")\n",
    "        bw2data.calculation_setups['multiLCA'] = {'inv': FU, 'ia': methods}\n",
    "        myMultiLCA = bw2calc.MultiLCA('multiLCA')\n",
    "\n",
    "        results = {\n",
    "            (f[\"name\"], f[\"location\"], f[\"unit\"], f[\"reference product\"]): r\n",
    "            for f, r in zip([list(x.keys())[0]\n",
    "            for x in myMultiLCA.func_units], np.squeeze(myMultiLCA.results).tolist())\n",
    "        }\n",
    "\n",
    "        B = np.zeros(\n",
    "            (\n",
    "                len(methods) + (1 if method_name==\"recipe\" else 0), # + noise\n",
    "                len(index)\n",
    "            )\n",
    "        )\n",
    "\n",
    "        print(f\"B shape: {B.shape}\")\n",
    "\n",
    "        for key, value in results.items():\n",
    "            idx = index[key]\n",
    "            if method_name==\"recipe\":\n",
    "                B[: -1, idx] = value\n",
    "            else:\n",
    "                B[:, idx] = value\n",
    "\n",
    "        for i, method in enumerate(methods):\n",
    "            m = bw2data.Method(method)\n",
    "\n",
    "            for code, cf in m.load():\n",
    "                try:\n",
    "                    act = bw2data.get_activity(code)\n",
    "                    key = (act[\"name\"], act[\"categories\"], act[\"unit\"])\n",
    "                    if key in bio_flows:\n",
    "                        flow = [f for f in bio_flows if f==key][0]\n",
    "                        idx = index[flow]\n",
    "                        B[i, idx] = cf\n",
    "                except:\n",
    "                    print(f\"Skipping: {code} in {method}\")\n",
    "                    continue\n",
    "\n",
    "        filepath = Path(filepath)\n",
    "\n",
    "        sB = sparse.csr_matrix(B)\n",
    "\n",
    "\n",
    "        sparse.save_npz(filepath / f'B_matrix_{method_name}_{indicator}_{l.replace(\"ei_cutoff_3.10_\", \"\").replace(\"ecoinvent-3.10.1-cutoff\", \"static\").split(\" \")[0]}.npz', sB)\n",
    "\n",
    "        if any(x in l for x in [\"2005\", \"2010\", \"2020\"]):\n",
    "            sparse.save_npz(filepath / f'B_matrix_{method_name}_{indicator}_{l.replace(\"ei_cutoff_3.10_\", \"\").replace(\"NPi\", \"PkBudg1150\").split(\" \")[0]}.npz', sB)\n",
    "            sparse.save_npz(filepath / f'B_matrix_{method_name}_{indicator}_{l.replace(\"ei_cutoff_3.10_\", \"\").replace(\"NPi\", \"PkBudg500\").split(\" \")[0]}.npz', sB)\n"
   ],
   "id": "d48700ec32c70653",
   "outputs": [],
   "execution_count": 9
  },
  {
   "metadata": {
    "ExecuteTime": {
     "end_time": "2025-02-12T19:19:19.556983Z",
     "start_time": "2025-02-12T18:24:15.902547Z"
    }
   },
   "cell_type": "code",
   "source": [
    "fp = r\"../windisch/data/lcia\"\n",
    "index = create_index(\"wind turbines\", fp)\n",
    "create_A_matrix(\"wind turbines\", fp, index)\n",
    "generate_calculated_values(ei_acts, index, \"recipe\", \"midpoint\", fp)\n",
    "generate_calculated_values(ei_acts, index, \"ef\", \"midpoint\", fp)\n",
    "generate_calculated_values(ei_acts, index, \"recipe\", \"endpoint\", fp)"
   ],
   "id": "47016ff4425e5fa5",
   "outputs": [
    {
     "name": "stdout",
     "output_type": "stream",
     "text": [
      "A matrix shape: (74, 74)\n",
      "Number of methods: 21\n",
      "Calculating impacts for 48 activities\n",
      "B shape: (22, 74)\n",
      "Calculating impacts for 48 activities\n",
      "B shape: (22, 74)\n",
      "Calculating impacts for 48 activities\n",
      "B shape: (22, 74)\n",
      "Calculating impacts for 48 activities\n",
      "B shape: (22, 74)\n",
      "Calculating impacts for 48 activities\n",
      "B shape: (22, 74)\n",
      "Calculating impacts for 48 activities\n",
      "B shape: (22, 74)\n",
      "Calculating impacts for 48 activities\n",
      "B shape: (22, 74)\n",
      "Calculating impacts for 48 activities\n",
      "B shape: (22, 74)\n",
      "Calculating impacts for 48 activities\n",
      "B shape: (22, 74)\n",
      "Calculating impacts for 48 activities\n",
      "B shape: (22, 74)\n",
      "Calculating impacts for 48 activities\n",
      "B shape: (22, 74)\n",
      "Calculating impacts for 48 activities\n",
      "B shape: (22, 74)\n",
      "Calculating impacts for 48 activities\n",
      "B shape: (22, 74)\n",
      "Number of methods: 25\n",
      "Calculating impacts for 48 activities\n",
      "B shape: (25, 74)\n",
      "Calculating impacts for 48 activities\n",
      "B shape: (25, 74)\n",
      "Calculating impacts for 48 activities\n",
      "B shape: (25, 74)\n",
      "Calculating impacts for 48 activities\n",
      "B shape: (25, 74)\n",
      "Calculating impacts for 48 activities\n",
      "B shape: (25, 74)\n",
      "Calculating impacts for 48 activities\n",
      "B shape: (25, 74)\n",
      "Calculating impacts for 48 activities\n",
      "B shape: (25, 74)\n",
      "Calculating impacts for 48 activities\n",
      "B shape: (25, 74)\n",
      "Calculating impacts for 48 activities\n",
      "B shape: (25, 74)\n",
      "Calculating impacts for 48 activities\n",
      "B shape: (25, 74)\n",
      "Calculating impacts for 48 activities\n",
      "B shape: (25, 74)\n",
      "Calculating impacts for 48 activities\n",
      "B shape: (25, 74)\n",
      "Calculating impacts for 48 activities\n",
      "B shape: (25, 74)\n",
      "Number of methods: 25\n",
      "Calculating impacts for 48 activities\n",
      "B shape: (26, 74)\n",
      "Calculating impacts for 48 activities\n",
      "B shape: (26, 74)\n",
      "Calculating impacts for 48 activities\n",
      "B shape: (26, 74)\n",
      "Calculating impacts for 48 activities\n",
      "B shape: (26, 74)\n",
      "Calculating impacts for 48 activities\n",
      "B shape: (26, 74)\n",
      "Calculating impacts for 48 activities\n",
      "B shape: (26, 74)\n",
      "Calculating impacts for 48 activities\n",
      "B shape: (26, 74)\n",
      "Calculating impacts for 48 activities\n",
      "B shape: (26, 74)\n",
      "Calculating impacts for 48 activities\n",
      "B shape: (26, 74)\n",
      "Calculating impacts for 48 activities\n",
      "B shape: (26, 74)\n",
      "Calculating impacts for 48 activities\n",
      "B shape: (26, 74)\n",
      "Calculating impacts for 48 activities\n",
      "B shape: (26, 74)\n",
      "Calculating impacts for 48 activities\n",
      "B shape: (26, 74)\n"
     ]
    }
   ],
   "execution_count": 10
  },
  {
   "metadata": {
    "ExecuteTime": {
     "end_time": "2025-02-12T13:31:09.997895Z",
     "start_time": "2025-02-12T13:20:40.242959Z"
    }
   },
   "cell_type": "code",
   "source": "",
   "id": "b5d3d52fb50efbb7",
   "outputs": [],
   "execution_count": null
  },
  {
   "metadata": {
    "ExecuteTime": {
     "end_time": "2025-02-12T13:22:11.096536Z",
     "start_time": "2025-02-12T13:22:11.093561Z"
    }
   },
   "cell_type": "code",
   "source": [
    "for c in get_midpoint_methods(\"recipe\"):\n",
    "    print(c[1])"
   ],
   "id": "a7d958df54749864",
   "outputs": [
    {
     "name": "stdout",
     "output_type": "stream",
     "text": [
      "acidification: terrestrial\n",
      "climate change\n",
      "ecotoxicity: freshwater\n",
      "ecotoxicity: marine\n",
      "ecotoxicity: terrestrial\n",
      "energy resources: non-renewable, fossil\n",
      "eutrophication: freshwater\n",
      "eutrophication: marine\n",
      "human toxicity: carcinogenic\n",
      "human toxicity: non-carcinogenic\n",
      "ionising radiation\n",
      "land use\n",
      "material resources: metals/minerals\n",
      "ozone depletion\n",
      "particulate matter formation\n",
      "photochemical oxidant formation: human health\n",
      "photochemical oxidant formation: terrestrial ecosystems\n",
      "water use\n",
      "energy resources: non-renewable\n",
      "energy resources: renewable\n",
      "total\n"
     ]
    }
   ],
   "execution_count": 19
  },
  {
   "metadata": {},
   "cell_type": "code",
   "outputs": [],
   "execution_count": null,
   "source": "",
   "id": "f613983f08ba2db"
  }
 ],
 "metadata": {
  "kernelspec": {
   "name": "python3",
   "language": "python",
   "display_name": "Python 3 (ipykernel)"
  }
 },
 "nbformat": 5,
 "nbformat_minor": 9
}
