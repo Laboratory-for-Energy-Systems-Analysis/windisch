{
 "cells": [
  {
   "cell_type": "code",
   "execution_count": 20,
   "metadata": {
    "ExecuteTime": {
     "end_time": "2025-01-23T13:50:45.243280Z",
     "start_time": "2025-01-23T13:50:45.198207Z"
    }
   },
   "outputs": [],
   "source": [
    "from windisch import *\n",
    "import matplotlib.pyplot as plt"
   ]
  },
  {
   "cell_type": "code",
   "execution_count": 21,
   "metadata": {},
   "outputs": [],
   "source": [
    "#update_input_parameters()\n",
    "tip = TurbinesInputParameters()\n",
    "tip.static()\n",
    "#tip.stochastic(3)\n",
    "_, array = fill_xarray_from_input_parameters(\n",
    "    tip,\n",
    "    scope={\"year\": [2020, ], \"size\": [1000,]}\n",
    ")"
   ]
  },
  {
   "cell_type": "code",
   "execution_count": 22,
   "metadata": {},
   "outputs": [
    {
     "name": "stdout",
     "output_type": "stream",
     "text": [
      "Downloaded 830.84 kB for location (55.602164360115104, 12.491974627997108)\n",
      "Onshore wind turbines\n"
     ]
    }
   ],
   "source": [
    "wt = WindTurbineModel(\n",
    "    array,\n",
    "    location=(55.602164360115104, 12.491974627997108)\n",
    ")"
   ]
  },
  {
   "cell_type": "code",
   "execution_count": 23,
   "metadata": {},
   "outputs": [
    {
     "data": {
      "text/html": [
       "<div><svg style=\"position: absolute; width: 0; height: 0; overflow: hidden\">\n",
       "<defs>\n",
       "<symbol id=\"icon-database\" viewBox=\"0 0 32 32\">\n",
       "<path d=\"M16 0c-8.837 0-16 2.239-16 5v4c0 2.761 7.163 5 16 5s16-2.239 16-5v-4c0-2.761-7.163-5-16-5z\"></path>\n",
       "<path d=\"M16 17c-8.837 0-16-2.239-16-5v6c0 2.761 7.163 5 16 5s16-2.239 16-5v-6c0 2.761-7.163 5-16 5z\"></path>\n",
       "<path d=\"M16 26c-8.837 0-16-2.239-16-5v6c0 2.761 7.163 5 16 5s16-2.239 16-5v-6c0 2.761-7.163 5-16 5z\"></path>\n",
       "</symbol>\n",
       "<symbol id=\"icon-file-text2\" viewBox=\"0 0 32 32\">\n",
       "<path d=\"M28.681 7.159c-0.694-0.947-1.662-2.053-2.724-3.116s-2.169-2.030-3.116-2.724c-1.612-1.182-2.393-1.319-2.841-1.319h-15.5c-1.378 0-2.5 1.121-2.5 2.5v27c0 1.378 1.122 2.5 2.5 2.5h23c1.378 0 2.5-1.122 2.5-2.5v-19.5c0-0.448-0.137-1.23-1.319-2.841zM24.543 5.457c0.959 0.959 1.712 1.825 2.268 2.543h-4.811v-4.811c0.718 0.556 1.584 1.309 2.543 2.268zM28 29.5c0 0.271-0.229 0.5-0.5 0.5h-23c-0.271 0-0.5-0.229-0.5-0.5v-27c0-0.271 0.229-0.5 0.5-0.5 0 0 15.499-0 15.5 0v7c0 0.552 0.448 1 1 1h7v19.5z\"></path>\n",
       "<path d=\"M23 26h-14c-0.552 0-1-0.448-1-1s0.448-1 1-1h14c0.552 0 1 0.448 1 1s-0.448 1-1 1z\"></path>\n",
       "<path d=\"M23 22h-14c-0.552 0-1-0.448-1-1s0.448-1 1-1h14c0.552 0 1 0.448 1 1s-0.448 1-1 1z\"></path>\n",
       "<path d=\"M23 18h-14c-0.552 0-1-0.448-1-1s0.448-1 1-1h14c0.552 0 1 0.448 1 1s-0.448 1-1 1z\"></path>\n",
       "</symbol>\n",
       "</defs>\n",
       "</svg>\n",
       "<style>/* CSS stylesheet for displaying xarray objects in jupyterlab.\n",
       " *\n",
       " */\n",
       "\n",
       ":root {\n",
       "  --xr-font-color0: var(--jp-content-font-color0, rgba(0, 0, 0, 1));\n",
       "  --xr-font-color2: var(--jp-content-font-color2, rgba(0, 0, 0, 0.54));\n",
       "  --xr-font-color3: var(--jp-content-font-color3, rgba(0, 0, 0, 0.38));\n",
       "  --xr-border-color: var(--jp-border-color2, #e0e0e0);\n",
       "  --xr-disabled-color: var(--jp-layout-color3, #bdbdbd);\n",
       "  --xr-background-color: var(--jp-layout-color0, white);\n",
       "  --xr-background-color-row-even: var(--jp-layout-color1, white);\n",
       "  --xr-background-color-row-odd: var(--jp-layout-color2, #eeeeee);\n",
       "}\n",
       "\n",
       "html[theme=\"dark\"],\n",
       "html[data-theme=\"dark\"],\n",
       "body[data-theme=\"dark\"],\n",
       "body.vscode-dark {\n",
       "  --xr-font-color0: rgba(255, 255, 255, 1);\n",
       "  --xr-font-color2: rgba(255, 255, 255, 0.54);\n",
       "  --xr-font-color3: rgba(255, 255, 255, 0.38);\n",
       "  --xr-border-color: #1f1f1f;\n",
       "  --xr-disabled-color: #515151;\n",
       "  --xr-background-color: #111111;\n",
       "  --xr-background-color-row-even: #111111;\n",
       "  --xr-background-color-row-odd: #313131;\n",
       "}\n",
       "\n",
       ".xr-wrap {\n",
       "  display: block !important;\n",
       "  min-width: 300px;\n",
       "  max-width: 700px;\n",
       "}\n",
       "\n",
       ".xr-text-repr-fallback {\n",
       "  /* fallback to plain text repr when CSS is not injected (untrusted notebook) */\n",
       "  display: none;\n",
       "}\n",
       "\n",
       ".xr-header {\n",
       "  padding-top: 6px;\n",
       "  padding-bottom: 6px;\n",
       "  margin-bottom: 4px;\n",
       "  border-bottom: solid 1px var(--xr-border-color);\n",
       "}\n",
       "\n",
       ".xr-header > div,\n",
       ".xr-header > ul {\n",
       "  display: inline;\n",
       "  margin-top: 0;\n",
       "  margin-bottom: 0;\n",
       "}\n",
       "\n",
       ".xr-obj-type,\n",
       ".xr-array-name {\n",
       "  margin-left: 2px;\n",
       "  margin-right: 10px;\n",
       "}\n",
       "\n",
       ".xr-obj-type {\n",
       "  color: var(--xr-font-color2);\n",
       "}\n",
       "\n",
       ".xr-sections {\n",
       "  padding-left: 0 !important;\n",
       "  display: grid;\n",
       "  grid-template-columns: 150px auto auto 1fr 0 20px 0 20px;\n",
       "}\n",
       "\n",
       ".xr-section-item {\n",
       "  display: contents;\n",
       "}\n",
       "\n",
       ".xr-section-item input {\n",
       "  display: inline-block;\n",
       "  opacity: 0;\n",
       "  height: 0;\n",
       "}\n",
       "\n",
       ".xr-section-item input + label {\n",
       "  color: var(--xr-disabled-color);\n",
       "}\n",
       "\n",
       ".xr-section-item input:enabled + label {\n",
       "  cursor: pointer;\n",
       "  color: var(--xr-font-color2);\n",
       "}\n",
       "\n",
       ".xr-section-item input:focus + label {\n",
       "  border: 2px solid var(--xr-font-color0);\n",
       "}\n",
       "\n",
       ".xr-section-item input:enabled + label:hover {\n",
       "  color: var(--xr-font-color0);\n",
       "}\n",
       "\n",
       ".xr-section-summary {\n",
       "  grid-column: 1;\n",
       "  color: var(--xr-font-color2);\n",
       "  font-weight: 500;\n",
       "}\n",
       "\n",
       ".xr-section-summary > span {\n",
       "  display: inline-block;\n",
       "  padding-left: 0.5em;\n",
       "}\n",
       "\n",
       ".xr-section-summary-in:disabled + label {\n",
       "  color: var(--xr-font-color2);\n",
       "}\n",
       "\n",
       ".xr-section-summary-in + label:before {\n",
       "  display: inline-block;\n",
       "  content: \"►\";\n",
       "  font-size: 11px;\n",
       "  width: 15px;\n",
       "  text-align: center;\n",
       "}\n",
       "\n",
       ".xr-section-summary-in:disabled + label:before {\n",
       "  color: var(--xr-disabled-color);\n",
       "}\n",
       "\n",
       ".xr-section-summary-in:checked + label:before {\n",
       "  content: \"▼\";\n",
       "}\n",
       "\n",
       ".xr-section-summary-in:checked + label > span {\n",
       "  display: none;\n",
       "}\n",
       "\n",
       ".xr-section-summary,\n",
       ".xr-section-inline-details {\n",
       "  padding-top: 4px;\n",
       "  padding-bottom: 4px;\n",
       "}\n",
       "\n",
       ".xr-section-inline-details {\n",
       "  grid-column: 2 / -1;\n",
       "}\n",
       "\n",
       ".xr-section-details {\n",
       "  display: none;\n",
       "  grid-column: 1 / -1;\n",
       "  margin-bottom: 5px;\n",
       "}\n",
       "\n",
       ".xr-section-summary-in:checked ~ .xr-section-details {\n",
       "  display: contents;\n",
       "}\n",
       "\n",
       ".xr-array-wrap {\n",
       "  grid-column: 1 / -1;\n",
       "  display: grid;\n",
       "  grid-template-columns: 20px auto;\n",
       "}\n",
       "\n",
       ".xr-array-wrap > label {\n",
       "  grid-column: 1;\n",
       "  vertical-align: top;\n",
       "}\n",
       "\n",
       ".xr-preview {\n",
       "  color: var(--xr-font-color3);\n",
       "}\n",
       "\n",
       ".xr-array-preview,\n",
       ".xr-array-data {\n",
       "  padding: 0 5px !important;\n",
       "  grid-column: 2;\n",
       "}\n",
       "\n",
       ".xr-array-data,\n",
       ".xr-array-in:checked ~ .xr-array-preview {\n",
       "  display: none;\n",
       "}\n",
       "\n",
       ".xr-array-in:checked ~ .xr-array-data,\n",
       ".xr-array-preview {\n",
       "  display: inline-block;\n",
       "}\n",
       "\n",
       ".xr-dim-list {\n",
       "  display: inline-block !important;\n",
       "  list-style: none;\n",
       "  padding: 0 !important;\n",
       "  margin: 0;\n",
       "}\n",
       "\n",
       ".xr-dim-list li {\n",
       "  display: inline-block;\n",
       "  padding: 0;\n",
       "  margin: 0;\n",
       "}\n",
       "\n",
       ".xr-dim-list:before {\n",
       "  content: \"(\";\n",
       "}\n",
       "\n",
       ".xr-dim-list:after {\n",
       "  content: \")\";\n",
       "}\n",
       "\n",
       ".xr-dim-list li:not(:last-child):after {\n",
       "  content: \",\";\n",
       "  padding-right: 5px;\n",
       "}\n",
       "\n",
       ".xr-has-index {\n",
       "  font-weight: bold;\n",
       "}\n",
       "\n",
       ".xr-var-list,\n",
       ".xr-var-item {\n",
       "  display: contents;\n",
       "}\n",
       "\n",
       ".xr-var-item > div,\n",
       ".xr-var-item label,\n",
       ".xr-var-item > .xr-var-name span {\n",
       "  background-color: var(--xr-background-color-row-even);\n",
       "  margin-bottom: 0;\n",
       "}\n",
       "\n",
       ".xr-var-item > .xr-var-name:hover span {\n",
       "  padding-right: 5px;\n",
       "}\n",
       "\n",
       ".xr-var-list > li:nth-child(odd) > div,\n",
       ".xr-var-list > li:nth-child(odd) > label,\n",
       ".xr-var-list > li:nth-child(odd) > .xr-var-name span {\n",
       "  background-color: var(--xr-background-color-row-odd);\n",
       "}\n",
       "\n",
       ".xr-var-name {\n",
       "  grid-column: 1;\n",
       "}\n",
       "\n",
       ".xr-var-dims {\n",
       "  grid-column: 2;\n",
       "}\n",
       "\n",
       ".xr-var-dtype {\n",
       "  grid-column: 3;\n",
       "  text-align: right;\n",
       "  color: var(--xr-font-color2);\n",
       "}\n",
       "\n",
       ".xr-var-preview {\n",
       "  grid-column: 4;\n",
       "}\n",
       "\n",
       ".xr-index-preview {\n",
       "  grid-column: 2 / 5;\n",
       "  color: var(--xr-font-color2);\n",
       "}\n",
       "\n",
       ".xr-var-name,\n",
       ".xr-var-dims,\n",
       ".xr-var-dtype,\n",
       ".xr-preview,\n",
       ".xr-attrs dt {\n",
       "  white-space: nowrap;\n",
       "  overflow: hidden;\n",
       "  text-overflow: ellipsis;\n",
       "  padding-right: 10px;\n",
       "}\n",
       "\n",
       ".xr-var-name:hover,\n",
       ".xr-var-dims:hover,\n",
       ".xr-var-dtype:hover,\n",
       ".xr-attrs dt:hover {\n",
       "  overflow: visible;\n",
       "  width: auto;\n",
       "  z-index: 1;\n",
       "}\n",
       "\n",
       ".xr-var-attrs,\n",
       ".xr-var-data,\n",
       ".xr-index-data {\n",
       "  display: none;\n",
       "  background-color: var(--xr-background-color) !important;\n",
       "  padding-bottom: 5px !important;\n",
       "}\n",
       "\n",
       ".xr-var-attrs-in:checked ~ .xr-var-attrs,\n",
       ".xr-var-data-in:checked ~ .xr-var-data,\n",
       ".xr-index-data-in:checked ~ .xr-index-data {\n",
       "  display: block;\n",
       "}\n",
       "\n",
       ".xr-var-data > table {\n",
       "  float: right;\n",
       "}\n",
       "\n",
       ".xr-var-name span,\n",
       ".xr-var-data,\n",
       ".xr-index-name div,\n",
       ".xr-index-data,\n",
       ".xr-attrs {\n",
       "  padding-left: 25px !important;\n",
       "}\n",
       "\n",
       ".xr-attrs,\n",
       ".xr-var-attrs,\n",
       ".xr-var-data,\n",
       ".xr-index-data {\n",
       "  grid-column: 1 / -1;\n",
       "}\n",
       "\n",
       "dl.xr-attrs {\n",
       "  padding: 0;\n",
       "  margin: 0;\n",
       "  display: grid;\n",
       "  grid-template-columns: 125px auto;\n",
       "}\n",
       "\n",
       ".xr-attrs dt,\n",
       ".xr-attrs dd {\n",
       "  padding: 0;\n",
       "  margin: 0;\n",
       "  float: left;\n",
       "  padding-right: 10px;\n",
       "  width: auto;\n",
       "}\n",
       "\n",
       ".xr-attrs dt {\n",
       "  font-weight: normal;\n",
       "  grid-column: 1;\n",
       "}\n",
       "\n",
       ".xr-attrs dt:hover span {\n",
       "  display: inline-block;\n",
       "  background: var(--xr-background-color);\n",
       "  padding-right: 10px;\n",
       "}\n",
       "\n",
       ".xr-attrs dd {\n",
       "  grid-column: 2;\n",
       "  white-space: pre-wrap;\n",
       "  word-break: break-all;\n",
       "}\n",
       "\n",
       ".xr-icon-database,\n",
       ".xr-icon-file-text2,\n",
       ".xr-no-icon {\n",
       "  display: inline-block;\n",
       "  vertical-align: middle;\n",
       "  width: 1em;\n",
       "  height: 1.5em !important;\n",
       "  stroke-width: 0;\n",
       "  stroke: currentColor;\n",
       "  fill: currentColor;\n",
       "}\n",
       "</style><pre class='xr-text-repr-fallback'>&lt;xarray.Dataset&gt; Size: 526kB\n",
       "Dimensions:      (group: 8760, size: 1, application: 2, year: 1, value: 1,\n",
       "                  time: 8760)\n",
       "Coordinates:\n",
       "    XLAT         float32 4B 55.6\n",
       "    XLON         float32 4B 12.47\n",
       "    crs          int8 1B 0\n",
       "    south_north  float64 8B 1.77e+05\n",
       "    west_east    float64 8B -1.56e+05\n",
       "  * group        (group) int64 70kB 0 1 2 3 4 5 ... 8755 8756 8757 8758 8759\n",
       "  * time         (time) object 70kB 2000-01-01 00:00:00 ... 2000-12-30 23:00:00\n",
       "  * size         (size) int64 8B 1000\n",
       "  * application  (application) &lt;U8 64B &#x27;offshore&#x27; &#x27;onshore&#x27;\n",
       "    parameter    &lt;U36 144B &#x27;tower height&#x27;\n",
       "  * year         (year) int64 8B 2020\n",
       "  * value        (value) int64 8B 0\n",
       "Data variables:\n",
       "    TKE          (group, size, application, year, value) float64 140kB 1.874 ...\n",
       "    WS           (group, size, application, year, value) float64 140kB 8.914 ...\n",
       "    RHO          (group) float32 35kB 1.242 1.242 1.242 ... 1.246 1.246 1.245\n",
       "    LANDMASK     (group) float64 70kB 1.0 1.0 1.0 1.0 1.0 ... 1.0 1.0 1.0 1.0\n",
       "Attributes: (12/138)\n",
       "    ADAPT_DT_MAX:                    15.0\n",
       "    ADAPT_DT_MIN:                    3.0\n",
       "    ADAPT_DT_START:                  13.0\n",
       "    AER_ANGEXP_OPT:                  1\n",
       "    AER_ANGEXP_VAL:                  1.2999999523162842\n",
       "    AER_AOD550_OPT:                  1\n",
       "    ...                              ...\n",
       "    eastBoundLongitude:              12.491974627997108\n",
       "    verticalExtentMinimum:           50.0\n",
       "    verticalExtentMaximum:           150.0\n",
       "    temporalExtentMinimum:           2017-01-01T00:30:00\n",
       "    temporalExtentMaximum:           2018-12-31T23:30:00\n",
       "    subset_pid:                      https://wps.neweuropeanwindatlas.eu/api/...</pre><div class='xr-wrap' style='display:none'><div class='xr-header'><div class='xr-obj-type'>xarray.Dataset</div></div><ul class='xr-sections'><li class='xr-section-item'><input id='section-645361a2-272b-4492-a5b6-127f67a1a62c' class='xr-section-summary-in' type='checkbox' disabled ><label for='section-645361a2-272b-4492-a5b6-127f67a1a62c' class='xr-section-summary'  title='Expand/collapse section'>Dimensions:</label><div class='xr-section-inline-details'><ul class='xr-dim-list'><li><span class='xr-has-index'>group</span>: 8760</li><li><span class='xr-has-index'>size</span>: 1</li><li><span class='xr-has-index'>application</span>: 2</li><li><span class='xr-has-index'>year</span>: 1</li><li><span class='xr-has-index'>value</span>: 1</li><li><span class='xr-has-index'>time</span>: 8760</li></ul></div><div class='xr-section-details'></div></li><li class='xr-section-item'><input id='section-4ceb8dd9-4a28-4983-a249-e38b90cd5485' class='xr-section-summary-in' type='checkbox'  checked><label for='section-4ceb8dd9-4a28-4983-a249-e38b90cd5485' class='xr-section-summary' >Coordinates: <span>(12)</span></label><div class='xr-section-inline-details'></div><div class='xr-section-details'><ul class='xr-var-list'><li class='xr-var-item'><div class='xr-var-name'><span>XLAT</span></div><div class='xr-var-dims'>()</div><div class='xr-var-dtype'>float32</div><div class='xr-var-preview xr-preview'>55.6</div><input id='attrs-55f872d4-6d97-40f7-9ff3-a4fb5f39bf2d' class='xr-var-attrs-in' type='checkbox' disabled><label for='attrs-55f872d4-6d97-40f7-9ff3-a4fb5f39bf2d' title='Show/Hide attributes'><svg class='icon xr-icon-file-text2'><use xlink:href='#icon-file-text2'></use></svg></label><input id='data-76330b35-c84c-43f6-9f9e-dda35b809f6b' class='xr-var-data-in' type='checkbox'><label for='data-76330b35-c84c-43f6-9f9e-dda35b809f6b' title='Show/Hide data repr'><svg class='icon xr-icon-database'><use xlink:href='#icon-database'></use></svg></label><div class='xr-var-attrs'><dl class='xr-attrs'></dl></div><div class='xr-var-data'><pre>array(55.60386, dtype=float32)</pre></div></li><li class='xr-var-item'><div class='xr-var-name'><span>XLON</span></div><div class='xr-var-dims'>()</div><div class='xr-var-dtype'>float32</div><div class='xr-var-preview xr-preview'>12.47</div><input id='attrs-d2065e2b-9492-43af-896c-70cee4cfe712' class='xr-var-attrs-in' type='checkbox' disabled><label for='attrs-d2065e2b-9492-43af-896c-70cee4cfe712' title='Show/Hide attributes'><svg class='icon xr-icon-file-text2'><use xlink:href='#icon-file-text2'></use></svg></label><input id='data-089455ba-9df1-4eea-9945-550aef0ca771' class='xr-var-data-in' type='checkbox'><label for='data-089455ba-9df1-4eea-9945-550aef0ca771' title='Show/Hide data repr'><svg class='icon xr-icon-database'><use xlink:href='#icon-database'></use></svg></label><div class='xr-var-attrs'><dl class='xr-attrs'></dl></div><div class='xr-var-data'><pre>array(12.468414, dtype=float32)</pre></div></li><li class='xr-var-item'><div class='xr-var-name'><span>crs</span></div><div class='xr-var-dims'>()</div><div class='xr-var-dtype'>int8</div><div class='xr-var-preview xr-preview'>0</div><input id='attrs-6f452a31-49c6-4fe9-8633-1d26c455c03f' class='xr-var-attrs-in' type='checkbox' ><label for='attrs-6f452a31-49c6-4fe9-8633-1d26c455c03f' title='Show/Hide attributes'><svg class='icon xr-icon-file-text2'><use xlink:href='#icon-file-text2'></use></svg></label><input id='data-e864145c-c7cc-4e5f-b62f-5829ae719148' class='xr-var-data-in' type='checkbox'><label for='data-e864145c-c7cc-4e5f-b62f-5829ae719148' title='Show/Hide data repr'><svg class='icon xr-icon-database'><use xlink:href='#icon-database'></use></svg></label><div class='xr-var-attrs'><dl class='xr-attrs'><dt><span>crs_wkt :</span></dt><dd>PROJCRS[&quot;unknown&quot;,BASEGEOGCRS[&quot;unknown&quot;,DATUM[&quot;unknown&quot;,ELLIPSOID[&quot;unknown&quot;,6370000,0,LENGTHUNIT[&quot;metre&quot;,1,ID[&quot;EPSG&quot;,9001]]]],PRIMEM[&quot;Greenwich&quot;,0,ANGLEUNIT[&quot;degree&quot;,0.0174532925199433],ID[&quot;EPSG&quot;,8901]]],CONVERSION[&quot;unknown&quot;,METHOD[&quot;Lambert Conic Conformal (2SP)&quot;,ID[&quot;EPSG&quot;,9802]],PARAMETER[&quot;Latitude of false origin&quot;,54,ANGLEUNIT[&quot;degree&quot;,0.0174532925199433],ID[&quot;EPSG&quot;,8821]],PARAMETER[&quot;Longitude of false origin&quot;,15,ANGLEUNIT[&quot;degree&quot;,0.0174532925199433],ID[&quot;EPSG&quot;,8822]],PARAMETER[&quot;Latitude of 1st standard parallel&quot;,30,ANGLEUNIT[&quot;degree&quot;,0.0174532925199433],ID[&quot;EPSG&quot;,8823]],PARAMETER[&quot;Latitude of 2nd standard parallel&quot;,60,ANGLEUNIT[&quot;degree&quot;,0.0174532925199433],ID[&quot;EPSG&quot;,8824]],PARAMETER[&quot;Easting at false origin&quot;,0,LENGTHUNIT[&quot;metre&quot;,1],ID[&quot;EPSG&quot;,8826]],PARAMETER[&quot;Northing at false origin&quot;,0,LENGTHUNIT[&quot;metre&quot;,1],ID[&quot;EPSG&quot;,8827]]],CS[Cartesian,2],AXIS[&quot;(E)&quot;,east,ORDER[1],LENGTHUNIT[&quot;metre&quot;,1,ID[&quot;EPSG&quot;,9001]]],AXIS[&quot;(N)&quot;,north,ORDER[2],LENGTHUNIT[&quot;metre&quot;,1,ID[&quot;EPSG&quot;,9001]]]]</dd><dt><span>semi_major_axis :</span></dt><dd>6370000.0</dd><dt><span>semi_minor_axis :</span></dt><dd>6370000.0</dd><dt><span>inverse_flattening :</span></dt><dd>0.0</dd><dt><span>reference_ellipsoid_name :</span></dt><dd>unknown</dd><dt><span>longitude_of_prime_meridian :</span></dt><dd>0.0</dd><dt><span>prime_meridian_name :</span></dt><dd>Greenwich</dd><dt><span>geographic_crs_name :</span></dt><dd>unknown</dd><dt><span>horizontal_datum_name :</span></dt><dd>unknown</dd><dt><span>projected_crs_name :</span></dt><dd>unknown</dd><dt><span>grid_mapping_name :</span></dt><dd>lambert_conformal_conic</dd><dt><span>standard_parallel :</span></dt><dd>[30. 60.]</dd><dt><span>latitude_of_projection_origin :</span></dt><dd>54.0</dd><dt><span>longitude_of_central_meridian :</span></dt><dd>15.0</dd><dt><span>false_easting :</span></dt><dd>0.0</dd><dt><span>false_northing :</span></dt><dd>0.0</dd><dt><span>long_name :</span></dt><dd>CRS definition</dd><dt><span>spatial_ref :</span></dt><dd>PROJCS[&quot;unknown&quot;,GEOGCS[&quot;unknown&quot;,DATUM[&quot;unknown&quot;,SPHEROID[&quot;unknown&quot;,6370000,0]],PRIMEM[&quot;Greenwich&quot;,0,AUTHORITY[&quot;EPSG&quot;,&quot;8901&quot;]],UNIT[&quot;degree&quot;,0.0174532925199433,AUTHORITY[&quot;EPSG&quot;,&quot;9122&quot;]]],PROJECTION[&quot;Lambert_Conformal_Conic_2SP&quot;],PARAMETER[&quot;latitude_of_origin&quot;,54],PARAMETER[&quot;central_meridian&quot;,15],PARAMETER[&quot;standard_parallel_1&quot;,30],PARAMETER[&quot;standard_parallel_2&quot;,60],PARAMETER[&quot;false_easting&quot;,0],PARAMETER[&quot;false_northing&quot;,0],UNIT[&quot;metre&quot;,1,AUTHORITY[&quot;EPSG&quot;,&quot;9001&quot;]],AXIS[&quot;Easting&quot;,EAST],AXIS[&quot;Northing&quot;,NORTH]]</dd></dl></div><div class='xr-var-data'><pre>array(0, dtype=int8)</pre></div></li><li class='xr-var-item'><div class='xr-var-name'><span>south_north</span></div><div class='xr-var-dims'>()</div><div class='xr-var-dtype'>float64</div><div class='xr-var-preview xr-preview'>1.77e+05</div><input id='attrs-c6758111-c245-4cae-9e8e-c9cd09b3f3cb' class='xr-var-attrs-in' type='checkbox' ><label for='attrs-c6758111-c245-4cae-9e8e-c9cd09b3f3cb' title='Show/Hide attributes'><svg class='icon xr-icon-file-text2'><use xlink:href='#icon-file-text2'></use></svg></label><input id='data-56eef6db-297b-4ee0-b3ba-c1b14b2a5fbf' class='xr-var-data-in' type='checkbox'><label for='data-56eef6db-297b-4ee0-b3ba-c1b14b2a5fbf' title='Show/Hide data repr'><svg class='icon xr-icon-database'><use xlink:href='#icon-database'></use></svg></label><div class='xr-var-attrs'><dl class='xr-attrs'><dt><span>URI :</span></dt><dd></dd><dt><span>axis :</span></dt><dd>Y</dd><dt><span>long_name :</span></dt><dd>Projected south to north coordinate</dd><dt><span>standard_name :</span></dt><dd>projection_y_coordinate</dd><dt><span>units :</span></dt><dd>m</dd></dl></div><div class='xr-var-data'><pre>array(177000.)</pre></div></li><li class='xr-var-item'><div class='xr-var-name'><span>west_east</span></div><div class='xr-var-dims'>()</div><div class='xr-var-dtype'>float64</div><div class='xr-var-preview xr-preview'>-1.56e+05</div><input id='attrs-cd1230b6-cca7-404f-aba3-030de2242d80' class='xr-var-attrs-in' type='checkbox' ><label for='attrs-cd1230b6-cca7-404f-aba3-030de2242d80' title='Show/Hide attributes'><svg class='icon xr-icon-file-text2'><use xlink:href='#icon-file-text2'></use></svg></label><input id='data-c143f54d-0af8-4678-b82a-765631005183' class='xr-var-data-in' type='checkbox'><label for='data-c143f54d-0af8-4678-b82a-765631005183' title='Show/Hide data repr'><svg class='icon xr-icon-database'><use xlink:href='#icon-database'></use></svg></label><div class='xr-var-attrs'><dl class='xr-attrs'><dt><span>URI :</span></dt><dd></dd><dt><span>axis :</span></dt><dd>X</dd><dt><span>long_name :</span></dt><dd>Projected west to east coordinate</dd><dt><span>standard_name :</span></dt><dd>projection_x_coordinate</dd><dt><span>units :</span></dt><dd>m</dd></dl></div><div class='xr-var-data'><pre>array(-156000.)</pre></div></li><li class='xr-var-item'><div class='xr-var-name'><span class='xr-has-index'>group</span></div><div class='xr-var-dims'>(group)</div><div class='xr-var-dtype'>int64</div><div class='xr-var-preview xr-preview'>0 1 2 3 4 ... 8756 8757 8758 8759</div><input id='attrs-d3faaf03-29c4-460d-b546-a160b304833d' class='xr-var-attrs-in' type='checkbox' disabled><label for='attrs-d3faaf03-29c4-460d-b546-a160b304833d' title='Show/Hide attributes'><svg class='icon xr-icon-file-text2'><use xlink:href='#icon-file-text2'></use></svg></label><input id='data-5bdd8d72-d2e4-4fa3-ad66-c4d336b08217' class='xr-var-data-in' type='checkbox'><label for='data-5bdd8d72-d2e4-4fa3-ad66-c4d336b08217' title='Show/Hide data repr'><svg class='icon xr-icon-database'><use xlink:href='#icon-database'></use></svg></label><div class='xr-var-attrs'><dl class='xr-attrs'></dl></div><div class='xr-var-data'><pre>array([   0,    1,    2, ..., 8757, 8758, 8759], shape=(8760,))</pre></div></li><li class='xr-var-item'><div class='xr-var-name'><span class='xr-has-index'>time</span></div><div class='xr-var-dims'>(time)</div><div class='xr-var-dtype'>object</div><div class='xr-var-preview xr-preview'>2000-01-01 00:00:00 ... 2000-12-...</div><input id='attrs-ed10d456-b1a2-42dd-ade5-951edaa4b470' class='xr-var-attrs-in' type='checkbox' disabled><label for='attrs-ed10d456-b1a2-42dd-ade5-951edaa4b470' title='Show/Hide attributes'><svg class='icon xr-icon-file-text2'><use xlink:href='#icon-file-text2'></use></svg></label><input id='data-83e5bcf7-a51b-4a6a-8a85-b8d5a6fbcaa1' class='xr-var-data-in' type='checkbox'><label for='data-83e5bcf7-a51b-4a6a-8a85-b8d5a6fbcaa1' title='Show/Hide data repr'><svg class='icon xr-icon-database'><use xlink:href='#icon-database'></use></svg></label><div class='xr-var-attrs'><dl class='xr-attrs'></dl></div><div class='xr-var-data'><pre>array([cftime.DatetimeGregorian(2000, 1, 1, 0, 0, 0, 0, has_year_zero=False),\n",
       "       cftime.DatetimeGregorian(2000, 1, 1, 1, 0, 0, 0, has_year_zero=False),\n",
       "       cftime.DatetimeGregorian(2000, 1, 1, 2, 0, 0, 0, has_year_zero=False),\n",
       "       ...,\n",
       "       cftime.DatetimeGregorian(2000, 12, 30, 21, 0, 0, 0, has_year_zero=False),\n",
       "       cftime.DatetimeGregorian(2000, 12, 30, 22, 0, 0, 0, has_year_zero=False),\n",
       "       cftime.DatetimeGregorian(2000, 12, 30, 23, 0, 0, 0, has_year_zero=False)],\n",
       "      shape=(8760,), dtype=object)</pre></div></li><li class='xr-var-item'><div class='xr-var-name'><span class='xr-has-index'>size</span></div><div class='xr-var-dims'>(size)</div><div class='xr-var-dtype'>int64</div><div class='xr-var-preview xr-preview'>1000</div><input id='attrs-01e06c43-f77d-4cea-8c52-f4d3a4997edb' class='xr-var-attrs-in' type='checkbox' disabled><label for='attrs-01e06c43-f77d-4cea-8c52-f4d3a4997edb' title='Show/Hide attributes'><svg class='icon xr-icon-file-text2'><use xlink:href='#icon-file-text2'></use></svg></label><input id='data-70ece1a7-686f-4191-9b0a-3aaf3b69c9bc' class='xr-var-data-in' type='checkbox'><label for='data-70ece1a7-686f-4191-9b0a-3aaf3b69c9bc' title='Show/Hide data repr'><svg class='icon xr-icon-database'><use xlink:href='#icon-database'></use></svg></label><div class='xr-var-attrs'><dl class='xr-attrs'></dl></div><div class='xr-var-data'><pre>array([1000])</pre></div></li><li class='xr-var-item'><div class='xr-var-name'><span class='xr-has-index'>application</span></div><div class='xr-var-dims'>(application)</div><div class='xr-var-dtype'>&lt;U8</div><div class='xr-var-preview xr-preview'>&#x27;offshore&#x27; &#x27;onshore&#x27;</div><input id='attrs-2edebbdd-222c-43ef-ab23-37ea83226c80' class='xr-var-attrs-in' type='checkbox' disabled><label for='attrs-2edebbdd-222c-43ef-ab23-37ea83226c80' title='Show/Hide attributes'><svg class='icon xr-icon-file-text2'><use xlink:href='#icon-file-text2'></use></svg></label><input id='data-ec18af04-5aad-46fa-8444-3f274778e731' class='xr-var-data-in' type='checkbox'><label for='data-ec18af04-5aad-46fa-8444-3f274778e731' title='Show/Hide data repr'><svg class='icon xr-icon-database'><use xlink:href='#icon-database'></use></svg></label><div class='xr-var-attrs'><dl class='xr-attrs'></dl></div><div class='xr-var-data'><pre>array([&#x27;offshore&#x27;, &#x27;onshore&#x27;], dtype=&#x27;&lt;U8&#x27;)</pre></div></li><li class='xr-var-item'><div class='xr-var-name'><span>parameter</span></div><div class='xr-var-dims'>()</div><div class='xr-var-dtype'>&lt;U36</div><div class='xr-var-preview xr-preview'>&#x27;tower height&#x27;</div><input id='attrs-6cda4396-9505-450c-99ee-a5eb21bf5280' class='xr-var-attrs-in' type='checkbox' disabled><label for='attrs-6cda4396-9505-450c-99ee-a5eb21bf5280' title='Show/Hide attributes'><svg class='icon xr-icon-file-text2'><use xlink:href='#icon-file-text2'></use></svg></label><input id='data-f1118720-9ec2-463c-8aef-88d15b2fac69' class='xr-var-data-in' type='checkbox'><label for='data-f1118720-9ec2-463c-8aef-88d15b2fac69' title='Show/Hide data repr'><svg class='icon xr-icon-database'><use xlink:href='#icon-database'></use></svg></label><div class='xr-var-attrs'><dl class='xr-attrs'></dl></div><div class='xr-var-data'><pre>array(&#x27;tower height&#x27;, dtype=&#x27;&lt;U36&#x27;)</pre></div></li><li class='xr-var-item'><div class='xr-var-name'><span class='xr-has-index'>year</span></div><div class='xr-var-dims'>(year)</div><div class='xr-var-dtype'>int64</div><div class='xr-var-preview xr-preview'>2020</div><input id='attrs-69ce2f00-81e6-4f12-a6ca-d7f5dec45901' class='xr-var-attrs-in' type='checkbox' disabled><label for='attrs-69ce2f00-81e6-4f12-a6ca-d7f5dec45901' title='Show/Hide attributes'><svg class='icon xr-icon-file-text2'><use xlink:href='#icon-file-text2'></use></svg></label><input id='data-9065cb70-6453-4117-bbac-b88bc2cf80e8' class='xr-var-data-in' type='checkbox'><label for='data-9065cb70-6453-4117-bbac-b88bc2cf80e8' title='Show/Hide data repr'><svg class='icon xr-icon-database'><use xlink:href='#icon-database'></use></svg></label><div class='xr-var-attrs'><dl class='xr-attrs'></dl></div><div class='xr-var-data'><pre>array([2020])</pre></div></li><li class='xr-var-item'><div class='xr-var-name'><span class='xr-has-index'>value</span></div><div class='xr-var-dims'>(value)</div><div class='xr-var-dtype'>int64</div><div class='xr-var-preview xr-preview'>0</div><input id='attrs-38281330-ed8a-4566-bd3f-74b81bf8a160' class='xr-var-attrs-in' type='checkbox' disabled><label for='attrs-38281330-ed8a-4566-bd3f-74b81bf8a160' title='Show/Hide attributes'><svg class='icon xr-icon-file-text2'><use xlink:href='#icon-file-text2'></use></svg></label><input id='data-a20a4860-f256-45a6-9a08-bc5b68b2df31' class='xr-var-data-in' type='checkbox'><label for='data-a20a4860-f256-45a6-9a08-bc5b68b2df31' title='Show/Hide data repr'><svg class='icon xr-icon-database'><use xlink:href='#icon-database'></use></svg></label><div class='xr-var-attrs'><dl class='xr-attrs'></dl></div><div class='xr-var-data'><pre>array([0])</pre></div></li></ul></div></li><li class='xr-section-item'><input id='section-963fde23-5922-441f-84a4-0888ef4170bf' class='xr-section-summary-in' type='checkbox'  checked><label for='section-963fde23-5922-441f-84a4-0888ef4170bf' class='xr-section-summary' >Data variables: <span>(4)</span></label><div class='xr-section-inline-details'></div><div class='xr-section-details'><ul class='xr-var-list'><li class='xr-var-item'><div class='xr-var-name'><span>TKE</span></div><div class='xr-var-dims'>(group, size, application, year, value)</div><div class='xr-var-dtype'>float64</div><div class='xr-var-preview xr-preview'>1.874 1.874 1.738 ... 1.847 1.847</div><input id='attrs-94da1aa5-039b-4c53-97d2-d4dee5d5daec' class='xr-var-attrs-in' type='checkbox' ><label for='attrs-94da1aa5-039b-4c53-97d2-d4dee5d5daec' title='Show/Hide attributes'><svg class='icon xr-icon-file-text2'><use xlink:href='#icon-file-text2'></use></svg></label><input id='data-2d638452-481a-4ce7-aa1b-90a3f3efdd49' class='xr-var-data-in' type='checkbox'><label for='data-2d638452-481a-4ce7-aa1b-90a3f3efdd49' title='Show/Hide data repr'><svg class='icon xr-icon-database'><use xlink:href='#icon-database'></use></svg></label><div class='xr-var-attrs'><dl class='xr-attrs'><dt><span>grid_mapping :</span></dt><dd>crs</dd><dt><span>long_name :</span></dt><dd>Turbulent Kinetic Energy</dd><dt><span>units :</span></dt><dd>m2 s-2</dd></dl></div><div class='xr-var-data'><pre>array([[[[[1.87355685]],\n",
       "\n",
       "         [[1.87355685]]]],\n",
       "\n",
       "\n",
       "\n",
       "       [[[[1.73785436]],\n",
       "\n",
       "         [[1.73785436]]]],\n",
       "\n",
       "\n",
       "\n",
       "       [[[[1.973683  ]],\n",
       "\n",
       "         [[1.973683  ]]]],\n",
       "\n",
       "\n",
       "\n",
       "       ...,\n",
       "\n",
       "\n",
       "\n",
       "       [[[[1.49669862]],\n",
       "\n",
       "         [[1.49669862]]]],\n",
       "\n",
       "\n",
       "\n",
       "       [[[[1.82991886]],\n",
       "\n",
       "         [[1.82991886]]]],\n",
       "\n",
       "\n",
       "\n",
       "       [[[[1.84718108]],\n",
       "\n",
       "         [[1.84718108]]]]], shape=(8760, 1, 2, 1, 1))</pre></div></li><li class='xr-var-item'><div class='xr-var-name'><span>WS</span></div><div class='xr-var-dims'>(group, size, application, year, value)</div><div class='xr-var-dtype'>float64</div><div class='xr-var-preview xr-preview'>8.914 8.914 8.436 ... 8.576 8.576</div><input id='attrs-d4ee0876-c6ea-4de2-a5b1-2881762f48d4' class='xr-var-attrs-in' type='checkbox' ><label for='attrs-d4ee0876-c6ea-4de2-a5b1-2881762f48d4' title='Show/Hide attributes'><svg class='icon xr-icon-file-text2'><use xlink:href='#icon-file-text2'></use></svg></label><input id='data-98fb0be4-0660-466d-9306-bbf34234e025' class='xr-var-data-in' type='checkbox'><label for='data-98fb0be4-0660-466d-9306-bbf34234e025' title='Show/Hide data repr'><svg class='icon xr-icon-database'><use xlink:href='#icon-database'></use></svg></label><div class='xr-var-attrs'><dl class='xr-attrs'><dt><span>grid_mapping :</span></dt><dd>crs</dd><dt><span>long_name :</span></dt><dd>Wind Speed</dd><dt><span>standard_name :</span></dt><dd>wind_speed</dd><dt><span>units :</span></dt><dd>m s-1</dd></dl></div><div class='xr-var-data'><pre>array([[[[[8.91418839]],\n",
       "\n",
       "         [[8.91418839]]]],\n",
       "\n",
       "\n",
       "\n",
       "       [[[[8.43638325]],\n",
       "\n",
       "         [[8.43638325]]]],\n",
       "\n",
       "\n",
       "\n",
       "       [[[[9.12485123]],\n",
       "\n",
       "         [[9.12485123]]]],\n",
       "\n",
       "\n",
       "\n",
       "       ...,\n",
       "\n",
       "\n",
       "\n",
       "       [[[[7.87480831]],\n",
       "\n",
       "         [[7.87480831]]]],\n",
       "\n",
       "\n",
       "\n",
       "       [[[[8.37145805]],\n",
       "\n",
       "         [[8.37145805]]]],\n",
       "\n",
       "\n",
       "\n",
       "       [[[[8.57613087]],\n",
       "\n",
       "         [[8.57613087]]]]], shape=(8760, 1, 2, 1, 1))</pre></div></li><li class='xr-var-item'><div class='xr-var-name'><span>RHO</span></div><div class='xr-var-dims'>(group)</div><div class='xr-var-dtype'>float32</div><div class='xr-var-preview xr-preview'>1.242 1.242 1.242 ... 1.246 1.245</div><input id='attrs-66d55240-df3e-4d2b-8955-2fc9a739bfeb' class='xr-var-attrs-in' type='checkbox' ><label for='attrs-66d55240-df3e-4d2b-8955-2fc9a739bfeb' title='Show/Hide attributes'><svg class='icon xr-icon-file-text2'><use xlink:href='#icon-file-text2'></use></svg></label><input id='data-bd8eddca-fba6-40d0-98ba-25d73b202f4b' class='xr-var-data-in' type='checkbox'><label for='data-bd8eddca-fba6-40d0-98ba-25d73b202f4b' title='Show/Hide data repr'><svg class='icon xr-icon-database'><use xlink:href='#icon-database'></use></svg></label><div class='xr-var-attrs'><dl class='xr-attrs'><dt><span>grid_mapping :</span></dt><dd>crs</dd><dt><span>long_name :</span></dt><dd>Air Density</dd><dt><span>standard_name :</span></dt><dd>air_density</dd><dt><span>units :</span></dt><dd>kg m-3</dd></dl></div><div class='xr-var-data'><pre>array([1.2419733, 1.2417066, 1.2415595, ..., 1.2464132, 1.2460872,\n",
       "       1.2450441], shape=(8760,), dtype=float32)</pre></div></li><li class='xr-var-item'><div class='xr-var-name'><span>LANDMASK</span></div><div class='xr-var-dims'>(group)</div><div class='xr-var-dtype'>float64</div><div class='xr-var-preview xr-preview'>1.0 1.0 1.0 1.0 ... 1.0 1.0 1.0 1.0</div><input id='attrs-0a3eb11c-98bd-46c8-b412-cb4305607773' class='xr-var-attrs-in' type='checkbox' ><label for='attrs-0a3eb11c-98bd-46c8-b412-cb4305607773' title='Show/Hide attributes'><svg class='icon xr-icon-file-text2'><use xlink:href='#icon-file-text2'></use></svg></label><input id='data-44846ab6-bc33-43e5-85bc-0c155b76cec1' class='xr-var-data-in' type='checkbox'><label for='data-44846ab6-bc33-43e5-85bc-0c155b76cec1' title='Show/Hide data repr'><svg class='icon xr-icon-database'><use xlink:href='#icon-database'></use></svg></label><div class='xr-var-attrs'><dl class='xr-attrs'><dt><span>grid_mapping :</span></dt><dd>crs</dd><dt><span>long_name :</span></dt><dd>Landmask (1 FOR LAND, 0 FOR WATER)</dd><dt><span>standard_name :</span></dt><dd>land_binary_mask</dd><dt><span>units :</span></dt><dd>1</dd></dl></div><div class='xr-var-data'><pre>array([1., 1., 1., ..., 1., 1., 1.], shape=(8760,))</pre></div></li></ul></div></li><li class='xr-section-item'><input id='section-eff765b9-92c3-4269-ad13-aa41cdfcb3cc' class='xr-section-summary-in' type='checkbox'  ><label for='section-eff765b9-92c3-4269-ad13-aa41cdfcb3cc' class='xr-section-summary' >Indexes: <span>(6)</span></label><div class='xr-section-inline-details'></div><div class='xr-section-details'><ul class='xr-var-list'><li class='xr-var-item'><div class='xr-index-name'><div>group</div></div><div class='xr-index-preview'>PandasIndex</div><input type='checkbox' disabled/><label></label><input id='index-ec0f03d7-b07f-4cf5-b3f9-331babe8f5e2' class='xr-index-data-in' type='checkbox'/><label for='index-ec0f03d7-b07f-4cf5-b3f9-331babe8f5e2' title='Show/Hide index repr'><svg class='icon xr-icon-database'><use xlink:href='#icon-database'></use></svg></label><div class='xr-index-data'><pre>PandasIndex(Index([   0,    1,    2,    3,    4,    5,    6,    7,    8,    9,\n",
       "       ...\n",
       "       8750, 8751, 8752, 8753, 8754, 8755, 8756, 8757, 8758, 8759],\n",
       "      dtype=&#x27;int64&#x27;, name=&#x27;group&#x27;, length=8760))</pre></div></li><li class='xr-var-item'><div class='xr-index-name'><div>time</div></div><div class='xr-index-preview'>PandasIndex</div><input type='checkbox' disabled/><label></label><input id='index-389c039a-d747-43a2-ad19-7751bb394ce8' class='xr-index-data-in' type='checkbox'/><label for='index-389c039a-d747-43a2-ad19-7751bb394ce8' title='Show/Hide index repr'><svg class='icon xr-icon-database'><use xlink:href='#icon-database'></use></svg></label><div class='xr-index-data'><pre>PandasIndex(CFTimeIndex([2000-01-01 00:00:00, 2000-01-01 01:00:00, 2000-01-01 02:00:00,\n",
       "             2000-01-01 03:00:00, 2000-01-01 04:00:00, 2000-01-01 05:00:00,\n",
       "             2000-01-01 06:00:00, 2000-01-01 07:00:00, 2000-01-01 08:00:00,\n",
       "             2000-01-01 09:00:00,\n",
       "             ...\n",
       "             2000-12-30 14:00:00, 2000-12-30 15:00:00, 2000-12-30 16:00:00,\n",
       "             2000-12-30 17:00:00, 2000-12-30 18:00:00, 2000-12-30 19:00:00,\n",
       "             2000-12-30 20:00:00, 2000-12-30 21:00:00, 2000-12-30 22:00:00,\n",
       "             2000-12-30 23:00:00],\n",
       "            dtype=&#x27;object&#x27;, length=8760, calendar=&#x27;standard&#x27;, freq=&#x27;h&#x27;))</pre></div></li><li class='xr-var-item'><div class='xr-index-name'><div>size</div></div><div class='xr-index-preview'>PandasIndex</div><input type='checkbox' disabled/><label></label><input id='index-59fa9a11-632f-4d62-9c2e-fbac0872783c' class='xr-index-data-in' type='checkbox'/><label for='index-59fa9a11-632f-4d62-9c2e-fbac0872783c' title='Show/Hide index repr'><svg class='icon xr-icon-database'><use xlink:href='#icon-database'></use></svg></label><div class='xr-index-data'><pre>PandasIndex(Index([1000], dtype=&#x27;int64&#x27;, name=&#x27;size&#x27;))</pre></div></li><li class='xr-var-item'><div class='xr-index-name'><div>application</div></div><div class='xr-index-preview'>PandasIndex</div><input type='checkbox' disabled/><label></label><input id='index-5501f568-b9d3-41c0-ad73-a257a47def0b' class='xr-index-data-in' type='checkbox'/><label for='index-5501f568-b9d3-41c0-ad73-a257a47def0b' title='Show/Hide index repr'><svg class='icon xr-icon-database'><use xlink:href='#icon-database'></use></svg></label><div class='xr-index-data'><pre>PandasIndex(Index([&#x27;offshore&#x27;, &#x27;onshore&#x27;], dtype=&#x27;object&#x27;, name=&#x27;application&#x27;))</pre></div></li><li class='xr-var-item'><div class='xr-index-name'><div>year</div></div><div class='xr-index-preview'>PandasIndex</div><input type='checkbox' disabled/><label></label><input id='index-ae2077e8-998a-4065-a366-88bf07d78920' class='xr-index-data-in' type='checkbox'/><label for='index-ae2077e8-998a-4065-a366-88bf07d78920' title='Show/Hide index repr'><svg class='icon xr-icon-database'><use xlink:href='#icon-database'></use></svg></label><div class='xr-index-data'><pre>PandasIndex(Index([2020], dtype=&#x27;int64&#x27;, name=&#x27;year&#x27;))</pre></div></li><li class='xr-var-item'><div class='xr-index-name'><div>value</div></div><div class='xr-index-preview'>PandasIndex</div><input type='checkbox' disabled/><label></label><input id='index-319657a7-2711-4416-8640-f87994abf621' class='xr-index-data-in' type='checkbox'/><label for='index-319657a7-2711-4416-8640-f87994abf621' title='Show/Hide index repr'><svg class='icon xr-icon-database'><use xlink:href='#icon-database'></use></svg></label><div class='xr-index-data'><pre>PandasIndex(Index([0], dtype=&#x27;int64&#x27;, name=&#x27;value&#x27;))</pre></div></li></ul></div></li><li class='xr-section-item'><input id='section-91343d92-1358-4a57-b525-a793ef1436c1' class='xr-section-summary-in' type='checkbox'  ><label for='section-91343d92-1358-4a57-b525-a793ef1436c1' class='xr-section-summary' >Attributes: <span>(138)</span></label><div class='xr-section-inline-details'></div><div class='xr-section-details'><dl class='xr-attrs'><dt><span>ADAPT_DT_MAX :</span></dt><dd>15.0</dd><dt><span>ADAPT_DT_MIN :</span></dt><dd>3.0</dd><dt><span>ADAPT_DT_START :</span></dt><dd>13.0</dd><dt><span>AER_ANGEXP_OPT :</span></dt><dd>1</dd><dt><span>AER_ANGEXP_VAL :</span></dt><dd>1.2999999523162842</dd><dt><span>AER_AOD550_OPT :</span></dt><dd>1</dd><dt><span>AER_AOD550_VAL :</span></dt><dd>0.11999999731779099</dd><dt><span>AER_ASY_OPT :</span></dt><dd>1</dd><dt><span>AER_ASY_VAL :</span></dt><dd>1.401298464324817e-45</dd><dt><span>AER_OPT :</span></dt><dd>0</dd><dt><span>AER_SSA_OPT :</span></dt><dd>1</dd><dt><span>AER_SSA_VAL :</span></dt><dd>1.401298464324817e-45</dd><dt><span>AER_TYPE :</span></dt><dd>1</dd><dt><span>BLDT :</span></dt><dd>0.0</dd><dt><span>BL_PBL_PHYSICS :</span></dt><dd>5</dd><dt><span>BOTTOM-TOP_GRID_DIMENSION :</span></dt><dd>61</dd><dt><span>BUCKET_J :</span></dt><dd>-1.0</dd><dt><span>BUCKET_MM :</span></dt><dd>-1.0</dd><dt><span>CEN_LAT :</span></dt><dd>45.415611267089844</dd><dt><span>CEN_LON :</span></dt><dd>24.03564453125</dd><dt><span>CONST_Cp_DRY_AIR :</span></dt><dd>1004.5</dd><dt><span>CONST_GRAVITY :</span></dt><dd>9.81</dd><dt><span>CONST_RATIO_Rd_Rw :</span></dt><dd>0.622</dd><dt><span>CONST_R_DRY_AIR :</span></dt><dd>287.0</dd><dt><span>CONST_R_WATER :</span></dt><dd>461.4</dd><dt><span>CUDT :</span></dt><dd>5.0</dd><dt><span>CU_PHYSICS :</span></dt><dd>0</dd><dt><span>Conventions :</span></dt><dd>CF-1.8</dd><dt><span>DAMPCOEF :</span></dt><dd>0.15000000596046448</dd><dt><span>DAMP_OPT :</span></dt><dd>0</dd><dt><span>DFI_OPT :</span></dt><dd>0</dd><dt><span>DIFF_6TH_FACTOR :</span></dt><dd>0.10000000149011612</dd><dt><span>DIFF_6TH_OPT :</span></dt><dd>2</dd><dt><span>DIFF_OPT :</span></dt><dd>1</dd><dt><span>DT :</span></dt><dd>14.945833206176758</dd><dt><span>DX :</span></dt><dd>3000.0</dd><dt><span>DY :</span></dt><dd>3000.0</dd><dt><span>EXPERIMENT :</span></dt><dd>Production Run</dd><dt><span>FEEDBACK :</span></dt><dd>0</dd><dt><span>GFDDA_END_H :</span></dt><dd>0</dd><dt><span>GFDDA_INTERVAL_M :</span></dt><dd>0</dd><dt><span>GMT :</span></dt><dd>0.0</dd><dt><span>GRAV_SETTLING :</span></dt><dd>0</dd><dt><span>GRIDTYPE :</span></dt><dd>C</dd><dt><span>GRID_FDDA :</span></dt><dd>0</dd><dt><span>GRID_ID :</span></dt><dd>3</dd><dt><span>GRID_SFDDA :</span></dt><dd>0</dd><dt><span>HYPSOMETRIC_OPT :</span></dt><dd>2</dd><dt><span>ICLOUD :</span></dt><dd>1</dd><dt><span>ICLOUD_CU :</span></dt><dd>0</dd><dt><span>INSTITUTION :</span></dt><dd>The NEWA Consortium</dd><dt><span>ISFFLX :</span></dt><dd>1</dd><dt><span>ISFTCFLX :</span></dt><dd>0</dd><dt><span>ISHALLOW :</span></dt><dd>0</dd><dt><span>ISICE :</span></dt><dd>24</dd><dt><span>ISLAKE :</span></dt><dd>28</dd><dt><span>ISOILWATER :</span></dt><dd>14</dd><dt><span>ISURBAN :</span></dt><dd>1</dd><dt><span>ISWATER :</span></dt><dd>16</dd><dt><span>I_PARENT_START :</span></dt><dd>39</dd><dt><span>JULDAY :</span></dt><dd>178</dd><dt><span>JULYR :</span></dt><dd>2018</dd><dt><span>J_PARENT_START :</span></dt><dd>39</dd><dt><span>KHDIF :</span></dt><dd>0.0</dd><dt><span>KM_OPT :</span></dt><dd>4</dd><dt><span>KVDIF :</span></dt><dd>0.0</dd><dt><span>MAP_PROJ :</span></dt><dd>1</dd><dt><span>MAP_PROJ_CHAR :</span></dt><dd>Lambert Conformal</dd><dt><span>MFSHCONV :</span></dt><dd>0</dd><dt><span>MMINLU :</span></dt><dd>USGS</dd><dt><span>MOAD_CEN_LAT :</span></dt><dd>54.0</dd><dt><span>MOIST_ADV_OPT :</span></dt><dd>1</dd><dt><span>MP_PHYSICS :</span></dt><dd>4</dd><dt><span>NUM_LAND_CAT :</span></dt><dd>28</dd><dt><span>OBS_NUDGE_OPT :</span></dt><dd>0</dd><dt><span>PARENT_GRID_RATIO :</span></dt><dd>3</dd><dt><span>PARENT_ID :</span></dt><dd>2</dd><dt><span>POLE_LAT :</span></dt><dd>90.0</dd><dt><span>POLE_LON :</span></dt><dd>0.0</dd><dt><span>PREC_ACC_DT :</span></dt><dd>30.0</dd><dt><span>RADT :</span></dt><dd>12.0</dd><dt><span>RA_LW_PHYSICS :</span></dt><dd>4</dd><dt><span>RA_SW_PHYSICS :</span></dt><dd>4</dd><dt><span>SCALAR_ADV_OPT :</span></dt><dd>1</dd><dt><span>SCALAR_PBLMIX :</span></dt><dd>0</dd><dt><span>SF_LAKE_PHYSICS :</span></dt><dd>0</dd><dt><span>SF_OCEAN_PHYSICS :</span></dt><dd>0</dd><dt><span>SF_SFCLAY_PHYSICS :</span></dt><dd>2</dd><dt><span>SF_SURFACE_PHYSICS :</span></dt><dd>2</dd><dt><span>SF_URBAN_PHYSICS :</span></dt><dd>0</dd><dt><span>SGFDDA_END_H :</span></dt><dd>0</dd><dt><span>SGFDDA_INTERVAL_M :</span></dt><dd>0</dd><dt><span>SHCU_PHYSICS :</span></dt><dd>0</dd><dt><span>SIMULATION_INITIALIZATION_TYPE :</span></dt><dd>REAL-DATA CASE</dd><dt><span>SIMULATION_START_DATE :</span></dt><dd>2018-06-27_00:00:00</dd><dt><span>SKEBS_ON :</span></dt><dd>0</dd><dt><span>SMOOTH_OPTION :</span></dt><dd>2</dd><dt><span>SOUTH-NORTH_GRID_DIMENSION :</span></dt><dd>1382</dd><dt><span>SPEC_BDY_FINAL_MU :</span></dt><dd>1</dd><dt><span>SST_UPDATE :</span></dt><dd>1</dd><dt><span>STAND_LON :</span></dt><dd>15.0</dd><dt><span>START_DATE :</span></dt><dd>2018-06-27_00:00:00</dd><dt><span>SURFACE_INPUT_SOURCE :</span></dt><dd>1</dd><dt><span>SWINT_OPT :</span></dt><dd>1</dd><dt><span>SWRAD_SCAT :</span></dt><dd>1.0</dd><dt><span>TITLE :</span></dt><dd>Timeseries of the New European Wind Atlas from WRF V3.8.1</dd><dt><span>TKE_ADV_OPT :</span></dt><dd>1</dd><dt><span>TRACER_PBLMIX :</span></dt><dd>1</dd><dt><span>TRUELAT1 :</span></dt><dd>30.0</dd><dt><span>TRUELAT2 :</span></dt><dd>60.0</dd><dt><span>USE_Q_DIABATIC :</span></dt><dd>0</dd><dt><span>USE_THETA_M :</span></dt><dd>0</dd><dt><span>WEST-EAST_GRID_DIMENSION :</span></dt><dd>1598</dd><dt><span>W_DAMPING :</span></dt><dd>1</dd><dt><span>YSU_TOPDOWN_PBLMIX :</span></dt><dd>0</dd><dt><span>title :</span></dt><dd>New European Wind Atlas: Mesoscale Time-Series</dd><dt><span>authors :</span></dt><dd>Andrea N. Hahmann</dd><dt><span>summary :</span></dt><dd>To be added\n",
       "</dd><dt><span>dataset_pid :</span></dt><dd>https://doi.org/10.11583/DTU.xxx</dd><dt><span>institution :</span></dt><dd>DTU Wind Energy</dd><dt><span>license :</span></dt><dd>CC BY NC 4.0</dd><dt><span>distribution_statement :</span></dt><dd>These data follow DTU Wind Energy standards; they are public and free of charge.\n",
       "User assumes all risk for use of data. User must display citation in any publication or product using data.\n",
       "User must contact DTU Wind Energy prior to any commercial use of data.\n",
       "</dd><dt><span>cdm_data_type :</span></dt><dd>Grid</dd><dt><span>data_mode :</span></dt><dd>Delayed-mode</dd><dt><span>date_create :</span></dt><dd>2025-01-23T17:33:34</dd><dt><span>date_update :</span></dt><dd>2025-01-23T17:33:34</dd><dt><span>subject :</span></dt><dd>Sitting, Wind Mapping, Wind Atlases, Resource assessment, Design conditions</dd><dt><span>variable :</span></dt><dd>TKE, WS, RHO, LANDMASK</dd><dt><span>history :</span></dt><dd>2025-01-25T22:35:12\tdaTap v0.2.0a4\thttps://wps.neweuropeanwindatlas.eu/api/mesoscale-ts/v1/get-data-point?latitude=55.602164360115104&amp;longitude=12.491974627997108&amp;height=50&amp;height=150&amp;variable=TKE&amp;variable=WS&amp;variable=RHO&amp;variable=LANDMASK&amp;dt_start=2017-01-01T00%3A30%3A00&amp;dt_stop=2018-12-31T23%3A30%3A00\n",
       "2025-01-25T22:35:12\tdaTap v0.2.0a4\tTKE, WS, RHO, LANDMASK subsetted\n",
       "2025-01-25T22:35:12\tdaTap v0.2.0a4\tdataset aggregated</dd><dt><span>southBoundLatitude :</span></dt><dd>55.602164360115104</dd><dt><span>northBoundLatitude :</span></dt><dd>55.602164360115104</dd><dt><span>westBoundLongitude :</span></dt><dd>12.491974627997108</dd><dt><span>eastBoundLongitude :</span></dt><dd>12.491974627997108</dd><dt><span>verticalExtentMinimum :</span></dt><dd>50.0</dd><dt><span>verticalExtentMaximum :</span></dt><dd>150.0</dd><dt><span>temporalExtentMinimum :</span></dt><dd>2017-01-01T00:30:00</dd><dt><span>temporalExtentMaximum :</span></dt><dd>2018-12-31T23:30:00</dd><dt><span>subset_pid :</span></dt><dd>https://wps.neweuropeanwindatlas.eu/api/mesoscale-ts/v1/get-data-point?latitude=55.602164360115104&amp;longitude=12.491974627997108&amp;height=50&amp;height=150&amp;variable=TKE&amp;variable=WS&amp;variable=RHO&amp;variable=LANDMASK&amp;dt_start=2017-01-01T00%3A30%3A00&amp;dt_stop=2018-12-31T23%3A30%3A00</dd></dl></div></li></ul></div></div>"
      ],
      "text/plain": [
       "<xarray.Dataset> Size: 526kB\n",
       "Dimensions:      (group: 8760, size: 1, application: 2, year: 1, value: 1,\n",
       "                  time: 8760)\n",
       "Coordinates:\n",
       "    XLAT         float32 4B 55.6\n",
       "    XLON         float32 4B 12.47\n",
       "    crs          int8 1B 0\n",
       "    south_north  float64 8B 1.77e+05\n",
       "    west_east    float64 8B -1.56e+05\n",
       "  * group        (group) int64 70kB 0 1 2 3 4 5 ... 8755 8756 8757 8758 8759\n",
       "  * time         (time) object 70kB 2000-01-01 00:00:00 ... 2000-12-30 23:00:00\n",
       "  * size         (size) int64 8B 1000\n",
       "  * application  (application) <U8 64B 'offshore' 'onshore'\n",
       "    parameter    <U36 144B 'tower height'\n",
       "  * year         (year) int64 8B 2020\n",
       "  * value        (value) int64 8B 0\n",
       "Data variables:\n",
       "    TKE          (group, size, application, year, value) float64 140kB 1.874 ...\n",
       "    WS           (group, size, application, year, value) float64 140kB 8.914 ...\n",
       "    RHO          (group) float32 35kB 1.242 1.242 1.242 ... 1.246 1.246 1.245\n",
       "    LANDMASK     (group) float64 70kB 1.0 1.0 1.0 1.0 1.0 ... 1.0 1.0 1.0 1.0\n",
       "Attributes: (12/138)\n",
       "    ADAPT_DT_MAX:                    15.0\n",
       "    ADAPT_DT_MIN:                    3.0\n",
       "    ADAPT_DT_START:                  13.0\n",
       "    AER_ANGEXP_OPT:                  1\n",
       "    AER_ANGEXP_VAL:                  1.2999999523162842\n",
       "    AER_AOD550_OPT:                  1\n",
       "    ...                              ...\n",
       "    eastBoundLongitude:              12.491974627997108\n",
       "    verticalExtentMinimum:           50.0\n",
       "    verticalExtentMaximum:           150.0\n",
       "    temporalExtentMinimum:           2017-01-01T00:30:00\n",
       "    temporalExtentMaximum:           2018-12-31T23:30:00\n",
       "    subset_pid:                      https://wps.neweuropeanwindatlas.eu/api/..."
      ]
     },
     "execution_count": 23,
     "metadata": {},
     "output_type": "execute_result"
    }
   ],
   "source": [
    "wt.terrain_vars"
   ]
  },
  {
   "cell_type": "code",
   "execution_count": 24,
   "metadata": {},
   "outputs": [],
   "source": [
    "wt.set_all()"
   ]
  },
  {
   "cell_type": "code",
   "execution_count": 25,
   "metadata": {},
   "outputs": [
    {
     "data": {
      "text/plain": [
       "[<matplotlib.lines.Line2D at 0x157f912d0>]"
      ]
     },
     "execution_count": 25,
     "metadata": {},
     "output_type": "execute_result"
    },
    {
     "data": {
      "image/png": "[encoded data removed]",
      "text/plain": [
       "<Figure size 640x480 with 1 Axes>"
      ]
     },
     "metadata": {},
     "output_type": "display_data"
    }
   ],
   "source": [
    "wt.power_curve.sel(application=\"onshore\", year=2020).plot()"
   ]
  },
  {
   "cell_type": "code",
   "execution_count": 26,
   "metadata": {},
   "outputs": [],
   "source": [
    "import pandas as pd\n",
    "from pyproj import Transformer\n",
    "transformer = Transformer.from_crs(\"EPSG:25832\", \"EPSG:4326\", always_xy=True)"
   ]
  },
  {
   "cell_type": "code",
   "execution_count": 27,
   "metadata": {},
   "outputs": [],
   "source": [
    "dk = pd.read_excel(\"/Users/romain/GitHub/windisch/dev/danish_wind_turbine_registry.xlsx\", header=13)"
   ]
  },
  {
   "cell_type": "code",
   "execution_count": 28,
   "metadata": {},
   "outputs": [],
   "source": [
    "dk = dk.iloc[:, [3, 12, 13, 55, 56, 57, 58, 59, 60, 61]]\n",
    "dk.columns = [\n",
    "    \"Power (kW)\",\n",
    "    \"X\",\n",
    "    \"Y\",\n",
    "    \"Production 2017\",\n",
    "    \"Production 2018\",\n",
    "    \"Production 2019\",\n",
    "    \"Production 2020\",\n",
    "    \"Production 2021\",\n",
    "    \"Production 2022\",\n",
    "    \"Production 2023\"\n",
    "]\n",
    "dk[\"Production\"] = dk[[\n",
    "    \"Production 2017\",\n",
    "    \"Production 2018\",\n",
    "    \"Production 2019\",\n",
    "    \"Production 2020\",\n",
    "    \"Production 2021\",\n",
    "    \"Production 2022\",\n",
    "    \"Production 2023\"\n",
    "]].mean(skipna=True, axis=1)\n",
    "dk = dk.loc[dk[\"Production\"] > 1e3]\n",
    "dk = dk.loc[dk[\"X\"] > 0]\n",
    "dk = dk.loc[dk[\"Power (kW)\"] > 500]\n",
    "dk[\"Load factor\"] = dk[\"Production 2023\"] / (dk[\"Power (kW)\"] * 8760)"
   ]
  },
  {
   "cell_type": "code",
   "execution_count": 30,
   "metadata": {},
   "outputs": [],
   "source": [
    "dk = dk.sort_values(by=\"Power (kW)\", ascending=False)"
   ]
  },
  {
   "cell_type": "code",
   "execution_count": 31,
   "metadata": {},
   "outputs": [
    {
     "data": {
      "text/html": [
       "<div>\n",
       "<style scoped>\n",
       "    .dataframe tbody tr th:only-of-type {\n",
       "        vertical-align: middle;\n",
       "    }\n",
       "\n",
       "    .dataframe tbody tr th {\n",
       "        vertical-align: top;\n",
       "    }\n",
       "\n",
       "    .dataframe thead th {\n",
       "        text-align: right;\n",
       "    }\n",
       "</style>\n",
       "<table border=\"1\" class=\"dataframe\">\n",
       "  <thead>\n",
       "    <tr style=\"text-align: right;\">\n",
       "      <th></th>\n",
       "      <th>Power (kW)</th>\n",
       "      <th>X</th>\n",
       "      <th>Y</th>\n",
       "      <th>Production 2017</th>\n",
       "      <th>Production 2018</th>\n",
       "      <th>Production 2019</th>\n",
       "      <th>Production 2020</th>\n",
       "      <th>Production 2021</th>\n",
       "      <th>Production 2022</th>\n",
       "      <th>Production 2023</th>\n",
       "      <th>Production</th>\n",
       "      <th>Load factor</th>\n",
       "    </tr>\n",
       "  </thead>\n",
       "  <tbody>\n",
       "    <tr>\n",
       "      <th>5108</th>\n",
       "      <td>15000.0</td>\n",
       "      <td>492926.99</td>\n",
       "      <td>6325569.19</td>\n",
       "      <td>NaN</td>\n",
       "      <td>NaN</td>\n",
       "      <td>NaN</td>\n",
       "      <td>NaN</td>\n",
       "      <td>NaN</td>\n",
       "      <td>6.000000e+00</td>\n",
       "      <td>3.129594e+07</td>\n",
       "      <td>1.564797e+07</td>\n",
       "      <td>0.238173</td>\n",
       "    </tr>\n",
       "    <tr>\n",
       "      <th>5109</th>\n",
       "      <td>15000.0</td>\n",
       "      <td>492926.99</td>\n",
       "      <td>6323769.20</td>\n",
       "      <td>NaN</td>\n",
       "      <td>NaN</td>\n",
       "      <td>NaN</td>\n",
       "      <td>NaN</td>\n",
       "      <td>NaN</td>\n",
       "      <td>0.000000e+00</td>\n",
       "      <td>2.069166e+07</td>\n",
       "      <td>1.034583e+07</td>\n",
       "      <td>0.157471</td>\n",
       "    </tr>\n",
       "    <tr>\n",
       "      <th>5106</th>\n",
       "      <td>14000.0</td>\n",
       "      <td>492928.99</td>\n",
       "      <td>6323167.20</td>\n",
       "      <td>NaN</td>\n",
       "      <td>NaN</td>\n",
       "      <td>NaN</td>\n",
       "      <td>NaN</td>\n",
       "      <td>NaN</td>\n",
       "      <td>4.413073e+07</td>\n",
       "      <td>4.508336e+07</td>\n",
       "      <td>4.460705e+07</td>\n",
       "      <td>0.367607</td>\n",
       "    </tr>\n",
       "    <tr>\n",
       "      <th>5087</th>\n",
       "      <td>10000.0</td>\n",
       "      <td>492926.99</td>\n",
       "      <td>6322569.20</td>\n",
       "      <td>NaN</td>\n",
       "      <td>NaN</td>\n",
       "      <td>0.000</td>\n",
       "      <td>2.291887e+07</td>\n",
       "      <td>3.485599e+07</td>\n",
       "      <td>3.147918e+07</td>\n",
       "      <td>2.473467e+07</td>\n",
       "      <td>2.279774e+07</td>\n",
       "      <td>0.282359</td>\n",
       "    </tr>\n",
       "    <tr>\n",
       "      <th>5266</th>\n",
       "      <td>9525.0</td>\n",
       "      <td>469033.00</td>\n",
       "      <td>6145290.00</td>\n",
       "      <td>NaN</td>\n",
       "      <td>1.056714e+07</td>\n",
       "      <td>786640.600</td>\n",
       "      <td>NaN</td>\n",
       "      <td>NaN</td>\n",
       "      <td>NaN</td>\n",
       "      <td>NaN</td>\n",
       "      <td>5.676890e+06</td>\n",
       "      <td>NaN</td>\n",
       "    </tr>\n",
       "    <tr>\n",
       "      <th>...</th>\n",
       "      <td>...</td>\n",
       "      <td>...</td>\n",
       "      <td>...</td>\n",
       "      <td>...</td>\n",
       "      <td>...</td>\n",
       "      <td>...</td>\n",
       "      <td>...</td>\n",
       "      <td>...</td>\n",
       "      <td>...</td>\n",
       "      <td>...</td>\n",
       "      <td>...</td>\n",
       "      <td>...</td>\n",
       "    </tr>\n",
       "    <tr>\n",
       "      <th>677</th>\n",
       "      <td>550.0</td>\n",
       "      <td>677830.67</td>\n",
       "      <td>6087156.56</td>\n",
       "      <td>1332692.109</td>\n",
       "      <td>1.082480e+06</td>\n",
       "      <td>1248161.548</td>\n",
       "      <td>1.190312e+06</td>\n",
       "      <td>1.028937e+06</td>\n",
       "      <td>1.104627e+06</td>\n",
       "      <td>1.008226e+06</td>\n",
       "      <td>1.142205e+06</td>\n",
       "      <td>0.209262</td>\n",
       "    </tr>\n",
       "    <tr>\n",
       "      <th>1302</th>\n",
       "      <td>525.0</td>\n",
       "      <td>476992.43</td>\n",
       "      <td>6331396.09</td>\n",
       "      <td>1020242.570</td>\n",
       "      <td>NaN</td>\n",
       "      <td>NaN</td>\n",
       "      <td>NaN</td>\n",
       "      <td>NaN</td>\n",
       "      <td>NaN</td>\n",
       "      <td>NaN</td>\n",
       "      <td>1.020243e+06</td>\n",
       "      <td>NaN</td>\n",
       "    </tr>\n",
       "    <tr>\n",
       "      <th>8518</th>\n",
       "      <td>525.0</td>\n",
       "      <td>477324.05</td>\n",
       "      <td>6331243.28</td>\n",
       "      <td>1012760.000</td>\n",
       "      <td>NaN</td>\n",
       "      <td>NaN</td>\n",
       "      <td>NaN</td>\n",
       "      <td>NaN</td>\n",
       "      <td>NaN</td>\n",
       "      <td>NaN</td>\n",
       "      <td>1.012760e+06</td>\n",
       "      <td>NaN</td>\n",
       "    </tr>\n",
       "    <tr>\n",
       "      <th>8519</th>\n",
       "      <td>525.0</td>\n",
       "      <td>477169.77</td>\n",
       "      <td>6331369.31</td>\n",
       "      <td>1012760.000</td>\n",
       "      <td>NaN</td>\n",
       "      <td>NaN</td>\n",
       "      <td>NaN</td>\n",
       "      <td>NaN</td>\n",
       "      <td>NaN</td>\n",
       "      <td>NaN</td>\n",
       "      <td>1.012760e+06</td>\n",
       "      <td>NaN</td>\n",
       "    </tr>\n",
       "    <tr>\n",
       "      <th>8520</th>\n",
       "      <td>525.0</td>\n",
       "      <td>476794.38</td>\n",
       "      <td>6331371.94</td>\n",
       "      <td>1012760.000</td>\n",
       "      <td>NaN</td>\n",
       "      <td>NaN</td>\n",
       "      <td>NaN</td>\n",
       "      <td>NaN</td>\n",
       "      <td>NaN</td>\n",
       "      <td>NaN</td>\n",
       "      <td>1.012760e+06</td>\n",
       "      <td>NaN</td>\n",
       "    </tr>\n",
       "  </tbody>\n",
       "</table>\n",
       "<p>4196 rows × 12 columns</p>\n",
       "</div>"
      ],
      "text/plain": [
       "      Power (kW)          X           Y  Production 2017  Production 2018  \\\n",
       "5108     15000.0  492926.99  6325569.19              NaN              NaN   \n",
       "5109     15000.0  492926.99  6323769.20              NaN              NaN   \n",
       "5106     14000.0  492928.99  6323167.20              NaN              NaN   \n",
       "5087     10000.0  492926.99  6322569.20              NaN              NaN   \n",
       "5266      9525.0  469033.00  6145290.00              NaN     1.056714e+07   \n",
       "...          ...        ...         ...              ...              ...   \n",
       "677        550.0  677830.67  6087156.56      1332692.109     1.082480e+06   \n",
       "1302       525.0  476992.43  6331396.09      1020242.570              NaN   \n",
       "8518       525.0  477324.05  6331243.28      1012760.000              NaN   \n",
       "8519       525.0  477169.77  6331369.31      1012760.000              NaN   \n",
       "8520       525.0  476794.38  6331371.94      1012760.000              NaN   \n",
       "\n",
       "      Production 2019  Production 2020  Production 2021  Production 2022  \\\n",
       "5108              NaN              NaN              NaN     6.000000e+00   \n",
       "5109              NaN              NaN              NaN     0.000000e+00   \n",
       "5106              NaN              NaN              NaN     4.413073e+07   \n",
       "5087            0.000     2.291887e+07     3.485599e+07     3.147918e+07   \n",
       "5266       786640.600              NaN              NaN              NaN   \n",
       "...               ...              ...              ...              ...   \n",
       "677       1248161.548     1.190312e+06     1.028937e+06     1.104627e+06   \n",
       "1302              NaN              NaN              NaN              NaN   \n",
       "8518              NaN              NaN              NaN              NaN   \n",
       "8519              NaN              NaN              NaN              NaN   \n",
       "8520              NaN              NaN              NaN              NaN   \n",
       "\n",
       "      Production 2023    Production  Load factor  \n",
       "5108     3.129594e+07  1.564797e+07     0.238173  \n",
       "5109     2.069166e+07  1.034583e+07     0.157471  \n",
       "5106     4.508336e+07  4.460705e+07     0.367607  \n",
       "5087     2.473467e+07  2.279774e+07     0.282359  \n",
       "5266              NaN  5.676890e+06          NaN  \n",
       "...               ...           ...          ...  \n",
       "677      1.008226e+06  1.142205e+06     0.209262  \n",
       "1302              NaN  1.020243e+06          NaN  \n",
       "8518              NaN  1.012760e+06          NaN  \n",
       "8519              NaN  1.012760e+06          NaN  \n",
       "8520              NaN  1.012760e+06          NaN  \n",
       "\n",
       "[4196 rows x 12 columns]"
      ]
     },
     "execution_count": 31,
     "metadata": {},
     "output_type": "execute_result"
    }
   ],
   "source": [
    "dk"
   ]
  },
  {
   "cell_type": "code",
   "execution_count": 32,
   "metadata": {},
   "outputs": [],
   "source": [
    "# Convert X, Y to Longitude (LON) and Latitude (LAT)\n",
    "def convert_to_lat_lon(row):\n",
    "    if pd.notnull(row['X']) and pd.notnull(row['Y']):\n",
    "        lon, lat = transformer.transform(row['X'], row['Y'])\n",
    "        return pd.Series([lon, lat])\n",
    "    else:\n",
    "        return pd.Series([None, None])\n",
    "\n",
    "dk[['LAT', 'LON']] = dk.apply(convert_to_lat_lon, axis=1)"
   ]
  },
  {
   "cell_type": "code",
   "execution_count": 33,
   "metadata": {},
   "outputs": [],
   "source": [
    "import numpy as np\n",
    "def get_load_factor(row):\n",
    "    tip = TurbinesInputParameters()\n",
    "    tip.static()\n",
    "    _, array = fill_xarray_from_input_parameters(\n",
    "        tip,\n",
    "        scope={\"year\": [2020, ],}\n",
    "    )\n",
    "    array = array.interp(size=[row[\"Power (kW)\"]])\n",
    "    wt = WindTurbineModel(\n",
    "        array,\n",
    "        location=(row[\"LON\"], row[\"LAT\"])\n",
    "    )\n",
    "    wt.set_all()\n",
    "    return np.squeeze(np.nan_to_num(wt[\"average load factor\"].values, 0)).max()\n"
   ]
  },
  {
   "cell_type": "code",
   "execution_count": 34,
   "metadata": {},
   "outputs": [
    {
     "name": "stdout",
     "output_type": "stream",
     "text": [
      "Error: HTTPSConnectionPool(host='wps.neweuropeanwindatlas.eu', port=443): Read timed out. (read timeout=25). Retrying (1/10)...\n",
      "Error: HTTPSConnectionPool(host='wps.neweuropeanwindatlas.eu', port=443): Read timed out. (read timeout=25). Retrying (2/10)...\n",
      "Error: HTTPSConnectionPool(host='wps.neweuropeanwindatlas.eu', port=443): Read timed out. (read timeout=25). Retrying (3/10)...\n",
      "Error: HTTPSConnectionPool(host='wps.neweuropeanwindatlas.eu', port=443): Read timed out. (read timeout=25). Retrying (4/10)...\n",
      "Error: HTTPSConnectionPool(host='wps.neweuropeanwindatlas.eu', port=443): Read timed out. (read timeout=25). Retrying (5/10)...\n",
      "Error: HTTPSConnectionPool(host='wps.neweuropeanwindatlas.eu', port=443): Read timed out. (read timeout=25). Retrying (6/10)...\n",
      "Error: HTTPSConnectionPool(host='wps.neweuropeanwindatlas.eu', port=443): Read timed out. (read timeout=25). Retrying (7/10)...\n",
      "Error: HTTPSConnectionPool(host='wps.neweuropeanwindatlas.eu', port=443): Read timed out. (read timeout=25). Retrying (8/10)...\n",
      "Downloaded 830.83 kB for location (57.07345957548103, 8.883337787778)\n"
     ]
    },
    {
     "name": "stderr",
     "output_type": "stream",
     "text": [
      "/opt/homebrew/Caskroom/miniforge/base/envs/windisch/lib/python3.11/site-packages/xarray/core/missing.py:589: RuntimeWarning: All-NaN slice encountered\n",
      "  minval = np.nanmin(new_x_loaded)\n",
      "/opt/homebrew/Caskroom/miniforge/base/envs/windisch/lib/python3.11/site-packages/xarray/core/missing.py:590: RuntimeWarning: All-NaN slice encountered\n",
      "  maxval = np.nanmax(new_x_loaded)\n"
     ]
    },
    {
     "name": "stdout",
     "output_type": "stream",
     "text": [
      "Onshore wind turbines\n",
      "Downloaded 830.84 kB for location (57.05728958950061, 8.883388501694306)\n"
     ]
    },
    {
     "name": "stderr",
     "output_type": "stream",
     "text": [
      "/opt/homebrew/Caskroom/miniforge/base/envs/windisch/lib/python3.11/site-packages/xarray/core/missing.py:589: RuntimeWarning: All-NaN slice encountered\n",
      "  minval = np.nanmin(new_x_loaded)\n",
      "/opt/homebrew/Caskroom/miniforge/base/envs/windisch/lib/python3.11/site-packages/xarray/core/missing.py:590: RuntimeWarning: All-NaN slice encountered\n",
      "  maxval = np.nanmax(new_x_loaded)\n"
     ]
    },
    {
     "name": "stdout",
     "output_type": "stream",
     "text": [
      "Onshore wind turbines\n",
      "Downloaded 830.84 kB for location (57.051881618771674, 8.883438419656386)\n"
     ]
    },
    {
     "name": "stderr",
     "output_type": "stream",
     "text": [
      "/opt/homebrew/Caskroom/miniforge/base/envs/windisch/lib/python3.11/site-packages/xarray/core/missing.py:589: RuntimeWarning: All-NaN slice encountered\n",
      "  minval = np.nanmin(new_x_loaded)\n",
      "/opt/homebrew/Caskroom/miniforge/base/envs/windisch/lib/python3.11/site-packages/xarray/core/missing.py:590: RuntimeWarning: All-NaN slice encountered\n",
      "  maxval = np.nanmax(new_x_loaded)\n"
     ]
    },
    {
     "name": "stdout",
     "output_type": "stream",
     "text": [
      "Onshore wind turbines\n",
      "Downloaded 830.84 kB for location (57.04650951559564, 8.883422281524895)\n"
     ]
    },
    {
     "name": "stderr",
     "output_type": "stream",
     "text": [
      "/opt/homebrew/Caskroom/miniforge/base/envs/windisch/lib/python3.11/site-packages/xarray/core/missing.py:589: RuntimeWarning: All-NaN slice encountered\n",
      "  minval = np.nanmin(new_x_loaded)\n",
      "/opt/homebrew/Caskroom/miniforge/base/envs/windisch/lib/python3.11/site-packages/xarray/core/missing.py:590: RuntimeWarning: All-NaN slice encountered\n",
      "  maxval = np.nanmax(new_x_loaded)\n"
     ]
    },
    {
     "name": "stdout",
     "output_type": "stream",
     "text": [
      "Onshore wind turbines\n",
      "Downloaded 830.84 kB for location (55.45280520510544, 8.510371088004975)\n"
     ]
    },
    {
     "name": "stderr",
     "output_type": "stream",
     "text": [
      "/opt/homebrew/Caskroom/miniforge/base/envs/windisch/lib/python3.11/site-packages/xarray/core/missing.py:589: RuntimeWarning: All-NaN slice encountered\n",
      "  minval = np.nanmin(new_x_loaded)\n",
      "/opt/homebrew/Caskroom/miniforge/base/envs/windisch/lib/python3.11/site-packages/xarray/core/missing.py:590: RuntimeWarning: All-NaN slice encountered\n",
      "  maxval = np.nanmax(new_x_loaded)\n"
     ]
    },
    {
     "name": "stdout",
     "output_type": "stream",
     "text": [
      "Offshore wind turbines\n",
      "Downloaded 830.84 kB for location (57.07345785344116, 8.883321464115278)\n"
     ]
    },
    {
     "name": "stderr",
     "output_type": "stream",
     "text": [
      "/opt/homebrew/Caskroom/miniforge/base/envs/windisch/lib/python3.11/site-packages/xarray/core/missing.py:589: RuntimeWarning: All-NaN slice encountered\n",
      "  minval = np.nanmin(new_x_loaded)\n",
      "/opt/homebrew/Caskroom/miniforge/base/envs/windisch/lib/python3.11/site-packages/xarray/core/missing.py:590: RuntimeWarning: All-NaN slice encountered\n",
      "  maxval = np.nanmax(new_x_loaded)\n"
     ]
    },
    {
     "name": "stdout",
     "output_type": "stream",
     "text": [
      "Onshore wind turbines\n",
      "Downloaded 830.84 kB for location (57.07312556763144, 8.884009476173542)\n"
     ]
    },
    {
     "name": "stderr",
     "output_type": "stream",
     "text": [
      "/opt/homebrew/Caskroom/miniforge/base/envs/windisch/lib/python3.11/site-packages/xarray/core/missing.py:589: RuntimeWarning: All-NaN slice encountered\n",
      "  minval = np.nanmin(new_x_loaded)\n",
      "/opt/homebrew/Caskroom/miniforge/base/envs/windisch/lib/python3.11/site-packages/xarray/core/missing.py:590: RuntimeWarning: All-NaN slice encountered\n",
      "  maxval = np.nanmax(new_x_loaded)\n"
     ]
    },
    {
     "name": "stdout",
     "output_type": "stream",
     "text": [
      "Onshore wind turbines\n",
      "Downloaded 830.84 kB for location (57.05698286296366, 8.88393368916837)\n"
     ]
    },
    {
     "name": "stderr",
     "output_type": "stream",
     "text": [
      "/opt/homebrew/Caskroom/miniforge/base/envs/windisch/lib/python3.11/site-packages/xarray/core/missing.py:589: RuntimeWarning: All-NaN slice encountered\n",
      "  minval = np.nanmin(new_x_loaded)\n",
      "/opt/homebrew/Caskroom/miniforge/base/envs/windisch/lib/python3.11/site-packages/xarray/core/missing.py:590: RuntimeWarning: All-NaN slice encountered\n",
      "  maxval = np.nanmax(new_x_loaded)\n"
     ]
    },
    {
     "name": "stdout",
     "output_type": "stream",
     "text": [
      "Onshore wind turbines\n",
      "Error: HTTPSConnectionPool(host='wps.neweuropeanwindatlas.eu', port=443): Read timed out. (read timeout=25). Retrying (1/10)...\n",
      "Error: HTTPSConnectionPool(host='wps.neweuropeanwindatlas.eu', port=443): Read timed out. (read timeout=25). Retrying (2/10)...\n",
      "Downloaded 830.84 kB for location (55.01327859440665, 13.060155731445906)\n"
     ]
    },
    {
     "name": "stderr",
     "output_type": "stream",
     "text": [
      "/opt/homebrew/Caskroom/miniforge/base/envs/windisch/lib/python3.11/site-packages/xarray/core/missing.py:589: RuntimeWarning: All-NaN slice encountered\n",
      "  minval = np.nanmin(new_x_loaded)\n",
      "/opt/homebrew/Caskroom/miniforge/base/envs/windisch/lib/python3.11/site-packages/xarray/core/missing.py:590: RuntimeWarning: All-NaN slice encountered\n",
      "  maxval = np.nanmax(new_x_loaded)\n"
     ]
    },
    {
     "name": "stdout",
     "output_type": "stream",
     "text": [
      "Offshore wind turbines\n",
      "Downloaded 830.84 kB for location (55.01742552070035, 12.987899907989208)\n"
     ]
    },
    {
     "name": "stderr",
     "output_type": "stream",
     "text": [
      "/opt/homebrew/Caskroom/miniforge/base/envs/windisch/lib/python3.11/site-packages/xarray/core/missing.py:589: RuntimeWarning: All-NaN slice encountered\n",
      "  minval = np.nanmin(new_x_loaded)\n",
      "/opt/homebrew/Caskroom/miniforge/base/envs/windisch/lib/python3.11/site-packages/xarray/core/missing.py:590: RuntimeWarning: All-NaN slice encountered\n",
      "  maxval = np.nanmax(new_x_loaded)\n"
     ]
    },
    {
     "name": "stdout",
     "output_type": "stream",
     "text": [
      "Offshore wind turbines\n",
      "Downloaded 830.84 kB for location (55.02356506964554, 12.972072777617326)\n"
     ]
    },
    {
     "name": "stderr",
     "output_type": "stream",
     "text": [
      "/opt/homebrew/Caskroom/miniforge/base/envs/windisch/lib/python3.11/site-packages/xarray/core/missing.py:589: RuntimeWarning: All-NaN slice encountered\n",
      "  minval = np.nanmin(new_x_loaded)\n",
      "/opt/homebrew/Caskroom/miniforge/base/envs/windisch/lib/python3.11/site-packages/xarray/core/missing.py:590: RuntimeWarning: All-NaN slice encountered\n",
      "  maxval = np.nanmax(new_x_loaded)\n"
     ]
    },
    {
     "name": "stdout",
     "output_type": "stream",
     "text": [
      "Offshore wind turbines\n",
      "Downloaded 830.84 kB for location (55.02703144908507, 13.054205113165256)\n"
     ]
    },
    {
     "name": "stderr",
     "output_type": "stream",
     "text": [
      "/opt/homebrew/Caskroom/miniforge/base/envs/windisch/lib/python3.11/site-packages/xarray/core/missing.py:589: RuntimeWarning: All-NaN slice encountered\n",
      "  minval = np.nanmin(new_x_loaded)\n",
      "/opt/homebrew/Caskroom/miniforge/base/envs/windisch/lib/python3.11/site-packages/xarray/core/missing.py:590: RuntimeWarning: All-NaN slice encountered\n",
      "  maxval = np.nanmax(new_x_loaded)\n"
     ]
    },
    {
     "name": "stdout",
     "output_type": "stream",
     "text": [
      "Offshore wind turbines\n",
      "Downloaded 830.84 kB for location (55.03303962359087, 13.004015350678726)\n"
     ]
    },
    {
     "name": "stderr",
     "output_type": "stream",
     "text": [
      "/opt/homebrew/Caskroom/miniforge/base/envs/windisch/lib/python3.11/site-packages/xarray/core/missing.py:589: RuntimeWarning: All-NaN slice encountered\n",
      "  minval = np.nanmin(new_x_loaded)\n",
      "/opt/homebrew/Caskroom/miniforge/base/envs/windisch/lib/python3.11/site-packages/xarray/core/missing.py:590: RuntimeWarning: All-NaN slice encountered\n",
      "  maxval = np.nanmax(new_x_loaded)\n"
     ]
    },
    {
     "name": "stdout",
     "output_type": "stream",
     "text": [
      "Offshore wind turbines\n",
      "Downloaded 830.84 kB for location (54.99454160079072, 13.043774375043196)\n"
     ]
    },
    {
     "name": "stderr",
     "output_type": "stream",
     "text": [
      "/opt/homebrew/Caskroom/miniforge/base/envs/windisch/lib/python3.11/site-packages/xarray/core/missing.py:589: RuntimeWarning: All-NaN slice encountered\n",
      "  minval = np.nanmin(new_x_loaded)\n",
      "/opt/homebrew/Caskroom/miniforge/base/envs/windisch/lib/python3.11/site-packages/xarray/core/missing.py:590: RuntimeWarning: All-NaN slice encountered\n",
      "  maxval = np.nanmax(new_x_loaded)\n"
     ]
    },
    {
     "name": "stdout",
     "output_type": "stream",
     "text": [
      "Offshore wind turbines\n",
      "Downloaded 830.84 kB for location (54.98367102830226, 13.052579796204352)\n"
     ]
    },
    {
     "name": "stderr",
     "output_type": "stream",
     "text": [
      "/opt/homebrew/Caskroom/miniforge/base/envs/windisch/lib/python3.11/site-packages/xarray/core/missing.py:589: RuntimeWarning: All-NaN slice encountered\n",
      "  minval = np.nanmin(new_x_loaded)\n",
      "/opt/homebrew/Caskroom/miniforge/base/envs/windisch/lib/python3.11/site-packages/xarray/core/missing.py:590: RuntimeWarning: All-NaN slice encountered\n",
      "  maxval = np.nanmax(new_x_loaded)\n"
     ]
    },
    {
     "name": "stdout",
     "output_type": "stream",
     "text": [
      "Offshore wind turbines\n",
      "Downloaded 830.84 kB for location (54.979716838069166, 13.025439744929772)\n"
     ]
    },
    {
     "name": "stderr",
     "output_type": "stream",
     "text": [
      "/opt/homebrew/Caskroom/miniforge/base/envs/windisch/lib/python3.11/site-packages/xarray/core/missing.py:589: RuntimeWarning: All-NaN slice encountered\n",
      "  minval = np.nanmin(new_x_loaded)\n",
      "/opt/homebrew/Caskroom/miniforge/base/envs/windisch/lib/python3.11/site-packages/xarray/core/missing.py:590: RuntimeWarning: All-NaN slice encountered\n",
      "  maxval = np.nanmax(new_x_loaded)\n"
     ]
    },
    {
     "name": "stdout",
     "output_type": "stream",
     "text": [
      "Offshore wind turbines\n",
      "Downloaded 830.84 kB for location (55.087610631063434, 12.952446705027073)\n"
     ]
    },
    {
     "name": "stderr",
     "output_type": "stream",
     "text": [
      "/opt/homebrew/Caskroom/miniforge/base/envs/windisch/lib/python3.11/site-packages/xarray/core/missing.py:589: RuntimeWarning: All-NaN slice encountered\n",
      "  minval = np.nanmin(new_x_loaded)\n",
      "/opt/homebrew/Caskroom/miniforge/base/envs/windisch/lib/python3.11/site-packages/xarray/core/missing.py:590: RuntimeWarning: All-NaN slice encountered\n",
      "  maxval = np.nanmax(new_x_loaded)\n"
     ]
    },
    {
     "name": "stdout",
     "output_type": "stream",
     "text": [
      "Offshore wind turbines\n",
      "Downloaded 830.84 kB for location (54.98553090881186, 13.014996085934264)\n"
     ]
    },
    {
     "name": "stderr",
     "output_type": "stream",
     "text": [
      "/opt/homebrew/Caskroom/miniforge/base/envs/windisch/lib/python3.11/site-packages/xarray/core/missing.py:589: RuntimeWarning: All-NaN slice encountered\n",
      "  minval = np.nanmin(new_x_loaded)\n",
      "/opt/homebrew/Caskroom/miniforge/base/envs/windisch/lib/python3.11/site-packages/xarray/core/missing.py:590: RuntimeWarning: All-NaN slice encountered\n",
      "  maxval = np.nanmax(new_x_loaded)\n"
     ]
    },
    {
     "name": "stdout",
     "output_type": "stream",
     "text": [
      "Offshore wind turbines\n",
      "Downloaded 830.84 kB for location (55.09610662298213, 12.9566893803782)\n"
     ]
    },
    {
     "name": "stderr",
     "output_type": "stream",
     "text": [
      "/opt/homebrew/Caskroom/miniforge/base/envs/windisch/lib/python3.11/site-packages/xarray/core/missing.py:589: RuntimeWarning: All-NaN slice encountered\n",
      "  minval = np.nanmin(new_x_loaded)\n",
      "/opt/homebrew/Caskroom/miniforge/base/envs/windisch/lib/python3.11/site-packages/xarray/core/missing.py:590: RuntimeWarning: All-NaN slice encountered\n",
      "  maxval = np.nanmax(new_x_loaded)\n"
     ]
    },
    {
     "name": "stdout",
     "output_type": "stream",
     "text": [
      "Offshore wind turbines\n",
      "Downloaded 830.84 kB for location (55.091614018980046, 12.970358281678065)\n"
     ]
    },
    {
     "name": "stderr",
     "output_type": "stream",
     "text": [
      "/opt/homebrew/Caskroom/miniforge/base/envs/windisch/lib/python3.11/site-packages/xarray/core/missing.py:589: RuntimeWarning: All-NaN slice encountered\n",
      "  minval = np.nanmin(new_x_loaded)\n",
      "/opt/homebrew/Caskroom/miniforge/base/envs/windisch/lib/python3.11/site-packages/xarray/core/missing.py:590: RuntimeWarning: All-NaN slice encountered\n",
      "  maxval = np.nanmax(new_x_loaded)\n"
     ]
    },
    {
     "name": "stdout",
     "output_type": "stream",
     "text": [
      "Offshore wind turbines\n",
      "Downloaded 830.84 kB for location (55.08213670797267, 12.962849061528818)\n"
     ]
    },
    {
     "name": "stderr",
     "output_type": "stream",
     "text": [
      "/opt/homebrew/Caskroom/miniforge/base/envs/windisch/lib/python3.11/site-packages/xarray/core/missing.py:589: RuntimeWarning: All-NaN slice encountered\n",
      "  minval = np.nanmin(new_x_loaded)\n",
      "/opt/homebrew/Caskroom/miniforge/base/envs/windisch/lib/python3.11/site-packages/xarray/core/missing.py:590: RuntimeWarning: All-NaN slice encountered\n",
      "  maxval = np.nanmax(new_x_loaded)\n"
     ]
    },
    {
     "name": "stdout",
     "output_type": "stream",
     "text": [
      "Offshore wind turbines\n",
      "Downloaded 830.84 kB for location (55.069526649087194, 12.95265181945381)\n"
     ]
    },
    {
     "name": "stderr",
     "output_type": "stream",
     "text": [
      "/opt/homebrew/Caskroom/miniforge/base/envs/windisch/lib/python3.11/site-packages/xarray/core/missing.py:589: RuntimeWarning: All-NaN slice encountered\n",
      "  minval = np.nanmin(new_x_loaded)\n",
      "/opt/homebrew/Caskroom/miniforge/base/envs/windisch/lib/python3.11/site-packages/xarray/core/missing.py:590: RuntimeWarning: All-NaN slice encountered\n",
      "  maxval = np.nanmax(new_x_loaded)\n"
     ]
    },
    {
     "name": "stdout",
     "output_type": "stream",
     "text": [
      "Offshore wind turbines\n",
      "Downloaded 830.84 kB for location (55.08198268577012, 12.893273366589895)\n"
     ]
    },
    {
     "name": "stderr",
     "output_type": "stream",
     "text": [
      "/opt/homebrew/Caskroom/miniforge/base/envs/windisch/lib/python3.11/site-packages/xarray/core/missing.py:589: RuntimeWarning: All-NaN slice encountered\n",
      "  minval = np.nanmin(new_x_loaded)\n",
      "/opt/homebrew/Caskroom/miniforge/base/envs/windisch/lib/python3.11/site-packages/xarray/core/missing.py:590: RuntimeWarning: All-NaN slice encountered\n",
      "  maxval = np.nanmax(new_x_loaded)\n"
     ]
    },
    {
     "name": "stdout",
     "output_type": "stream",
     "text": [
      "Offshore wind turbines\n",
      "Downloaded 830.84 kB for location (55.07627449082164, 12.868673035335)\n"
     ]
    },
    {
     "name": "stderr",
     "output_type": "stream",
     "text": [
      "/opt/homebrew/Caskroom/miniforge/base/envs/windisch/lib/python3.11/site-packages/xarray/core/missing.py:589: RuntimeWarning: All-NaN slice encountered\n",
      "  minval = np.nanmin(new_x_loaded)\n",
      "/opt/homebrew/Caskroom/miniforge/base/envs/windisch/lib/python3.11/site-packages/xarray/core/missing.py:590: RuntimeWarning: All-NaN slice encountered\n",
      "  maxval = np.nanmax(new_x_loaded)\n"
     ]
    },
    {
     "name": "stdout",
     "output_type": "stream",
     "text": [
      "Offshore wind turbines\n",
      "Downloaded 830.84 kB for location (55.07327077258153, 12.886720920553696)\n"
     ]
    },
    {
     "name": "stderr",
     "output_type": "stream",
     "text": [
      "/opt/homebrew/Caskroom/miniforge/base/envs/windisch/lib/python3.11/site-packages/xarray/core/missing.py:589: RuntimeWarning: All-NaN slice encountered\n",
      "  minval = np.nanmin(new_x_loaded)\n",
      "/opt/homebrew/Caskroom/miniforge/base/envs/windisch/lib/python3.11/site-packages/xarray/core/missing.py:590: RuntimeWarning: All-NaN slice encountered\n",
      "  maxval = np.nanmax(new_x_loaded)\n"
     ]
    },
    {
     "name": "stdout",
     "output_type": "stream",
     "text": [
      "Offshore wind turbines\n",
      "Downloaded 830.84 kB for location (55.05649371334685, 12.930214705909014)\n"
     ]
    },
    {
     "name": "stderr",
     "output_type": "stream",
     "text": [
      "/opt/homebrew/Caskroom/miniforge/base/envs/windisch/lib/python3.11/site-packages/xarray/core/missing.py:589: RuntimeWarning: All-NaN slice encountered\n",
      "  minval = np.nanmin(new_x_loaded)\n",
      "/opt/homebrew/Caskroom/miniforge/base/envs/windisch/lib/python3.11/site-packages/xarray/core/missing.py:590: RuntimeWarning: All-NaN slice encountered\n",
      "  maxval = np.nanmax(new_x_loaded)\n"
     ]
    },
    {
     "name": "stdout",
     "output_type": "stream",
     "text": [
      "Offshore wind turbines\n",
      "Downloaded 830.84 kB for location (55.45404066900646, 8.50245977355802)\n"
     ]
    },
    {
     "name": "stderr",
     "output_type": "stream",
     "text": [
      "/opt/homebrew/Caskroom/miniforge/base/envs/windisch/lib/python3.11/site-packages/xarray/core/missing.py:589: RuntimeWarning: All-NaN slice encountered\n",
      "  minval = np.nanmin(new_x_loaded)\n",
      "/opt/homebrew/Caskroom/miniforge/base/envs/windisch/lib/python3.11/site-packages/xarray/core/missing.py:590: RuntimeWarning: All-NaN slice encountered\n",
      "  maxval = np.nanmax(new_x_loaded)\n"
     ]
    },
    {
     "name": "stdout",
     "output_type": "stream",
     "text": [
      "Offshore wind turbines\n",
      "Downloaded 830.84 kB for location (54.98553058053322, 12.9964624904054)\n"
     ]
    },
    {
     "name": "stderr",
     "output_type": "stream",
     "text": [
      "/opt/homebrew/Caskroom/miniforge/base/envs/windisch/lib/python3.11/site-packages/xarray/core/missing.py:589: RuntimeWarning: All-NaN slice encountered\n",
      "  minval = np.nanmin(new_x_loaded)\n",
      "/opt/homebrew/Caskroom/miniforge/base/envs/windisch/lib/python3.11/site-packages/xarray/core/missing.py:590: RuntimeWarning: All-NaN slice encountered\n",
      "  maxval = np.nanmax(new_x_loaded)\n"
     ]
    },
    {
     "name": "stdout",
     "output_type": "stream",
     "text": [
      "Offshore wind turbines\n",
      "Downloaded 830.84 kB for location (54.99276272983288, 13.005441741216147)\n"
     ]
    },
    {
     "name": "stderr",
     "output_type": "stream",
     "text": [
      "/opt/homebrew/Caskroom/miniforge/base/envs/windisch/lib/python3.11/site-packages/xarray/core/missing.py:589: RuntimeWarning: All-NaN slice encountered\n",
      "  minval = np.nanmin(new_x_loaded)\n",
      "/opt/homebrew/Caskroom/miniforge/base/envs/windisch/lib/python3.11/site-packages/xarray/core/missing.py:590: RuntimeWarning: All-NaN slice encountered\n",
      "  maxval = np.nanmax(new_x_loaded)\n"
     ]
    },
    {
     "name": "stdout",
     "output_type": "stream",
     "text": [
      "Offshore wind turbines\n",
      "Downloaded 830.84 kB for location (54.99964530218833, 12.99936954478083)\n"
     ]
    },
    {
     "name": "stderr",
     "output_type": "stream",
     "text": [
      "/opt/homebrew/Caskroom/miniforge/base/envs/windisch/lib/python3.11/site-packages/xarray/core/missing.py:589: RuntimeWarning: All-NaN slice encountered\n",
      "  minval = np.nanmin(new_x_loaded)\n",
      "/opt/homebrew/Caskroom/miniforge/base/envs/windisch/lib/python3.11/site-packages/xarray/core/missing.py:590: RuntimeWarning: All-NaN slice encountered\n",
      "  maxval = np.nanmax(new_x_loaded)\n"
     ]
    },
    {
     "name": "stdout",
     "output_type": "stream",
     "text": [
      "Offshore wind turbines\n",
      "Downloaded 830.84 kB for location (55.00897424085997, 12.99738848084067)\n"
     ]
    },
    {
     "name": "stderr",
     "output_type": "stream",
     "text": [
      "/opt/homebrew/Caskroom/miniforge/base/envs/windisch/lib/python3.11/site-packages/xarray/core/missing.py:589: RuntimeWarning: All-NaN slice encountered\n",
      "  minval = np.nanmin(new_x_loaded)\n",
      "/opt/homebrew/Caskroom/miniforge/base/envs/windisch/lib/python3.11/site-packages/xarray/core/missing.py:590: RuntimeWarning: All-NaN slice encountered\n",
      "  maxval = np.nanmax(new_x_loaded)\n"
     ]
    },
    {
     "name": "stdout",
     "output_type": "stream",
     "text": [
      "Offshore wind turbines\n",
      "Downloaded 830.84 kB for location (54.988567104776315, 13.075597937048412)\n"
     ]
    },
    {
     "name": "stderr",
     "output_type": "stream",
     "text": [
      "/opt/homebrew/Caskroom/miniforge/base/envs/windisch/lib/python3.11/site-packages/xarray/core/missing.py:589: RuntimeWarning: All-NaN slice encountered\n",
      "  minval = np.nanmin(new_x_loaded)\n",
      "/opt/homebrew/Caskroom/miniforge/base/envs/windisch/lib/python3.11/site-packages/xarray/core/missing.py:590: RuntimeWarning: All-NaN slice encountered\n",
      "  maxval = np.nanmax(new_x_loaded)\n"
     ]
    },
    {
     "name": "stdout",
     "output_type": "stream",
     "text": [
      "Offshore wind turbines\n",
      "Downloaded 830.84 kB for location (54.998582822592, 13.090695937267371)\n"
     ]
    },
    {
     "name": "stderr",
     "output_type": "stream",
     "text": [
      "/opt/homebrew/Caskroom/miniforge/base/envs/windisch/lib/python3.11/site-packages/xarray/core/missing.py:589: RuntimeWarning: All-NaN slice encountered\n",
      "  minval = np.nanmin(new_x_loaded)\n",
      "/opt/homebrew/Caskroom/miniforge/base/envs/windisch/lib/python3.11/site-packages/xarray/core/missing.py:590: RuntimeWarning: All-NaN slice encountered\n",
      "  maxval = np.nanmax(new_x_loaded)\n"
     ]
    },
    {
     "name": "stdout",
     "output_type": "stream",
     "text": [
      "Offshore wind turbines\n",
      "Downloaded 830.84 kB for location (55.004027136393745, 13.04900183182751)\n"
     ]
    },
    {
     "name": "stderr",
     "output_type": "stream",
     "text": [
      "/opt/homebrew/Caskroom/miniforge/base/envs/windisch/lib/python3.11/site-packages/xarray/core/missing.py:589: RuntimeWarning: All-NaN slice encountered\n",
      "  minval = np.nanmin(new_x_loaded)\n",
      "/opt/homebrew/Caskroom/miniforge/base/envs/windisch/lib/python3.11/site-packages/xarray/core/missing.py:590: RuntimeWarning: All-NaN slice encountered\n",
      "  maxval = np.nanmax(new_x_loaded)\n"
     ]
    },
    {
     "name": "stdout",
     "output_type": "stream",
     "text": [
      "Offshore wind turbines\n",
      "Downloaded 830.84 kB for location (55.01623540785143, 13.02263888016105)\n"
     ]
    },
    {
     "name": "stderr",
     "output_type": "stream",
     "text": [
      "/opt/homebrew/Caskroom/miniforge/base/envs/windisch/lib/python3.11/site-packages/xarray/core/missing.py:589: RuntimeWarning: All-NaN slice encountered\n",
      "  minval = np.nanmin(new_x_loaded)\n",
      "/opt/homebrew/Caskroom/miniforge/base/envs/windisch/lib/python3.11/site-packages/xarray/core/missing.py:590: RuntimeWarning: All-NaN slice encountered\n",
      "  maxval = np.nanmax(new_x_loaded)\n"
     ]
    },
    {
     "name": "stdout",
     "output_type": "stream",
     "text": [
      "Offshore wind turbines\n",
      "Downloaded 830.84 kB for location (55.01025735975865, 13.104562912593016)\n"
     ]
    },
    {
     "name": "stderr",
     "output_type": "stream",
     "text": [
      "/opt/homebrew/Caskroom/miniforge/base/envs/windisch/lib/python3.11/site-packages/xarray/core/missing.py:589: RuntimeWarning: All-NaN slice encountered\n",
      "  minval = np.nanmin(new_x_loaded)\n",
      "/opt/homebrew/Caskroom/miniforge/base/envs/windisch/lib/python3.11/site-packages/xarray/core/missing.py:590: RuntimeWarning: All-NaN slice encountered\n",
      "  maxval = np.nanmax(new_x_loaded)\n"
     ]
    },
    {
     "name": "stdout",
     "output_type": "stream",
     "text": [
      "Offshore wind turbines\n",
      "Downloaded 830.84 kB for location (55.01960525293102, 13.115381569848562)\n"
     ]
    },
    {
     "name": "stderr",
     "output_type": "stream",
     "text": [
      "/opt/homebrew/Caskroom/miniforge/base/envs/windisch/lib/python3.11/site-packages/xarray/core/missing.py:589: RuntimeWarning: All-NaN slice encountered\n",
      "  minval = np.nanmin(new_x_loaded)\n",
      "/opt/homebrew/Caskroom/miniforge/base/envs/windisch/lib/python3.11/site-packages/xarray/core/missing.py:590: RuntimeWarning: All-NaN slice encountered\n",
      "  maxval = np.nanmax(new_x_loaded)\n"
     ]
    },
    {
     "name": "stdout",
     "output_type": "stream",
     "text": [
      "Offshore wind turbines\n",
      "Downloaded 830.84 kB for location (55.02643878040067, 13.10480996356187)\n"
     ]
    },
    {
     "name": "stderr",
     "output_type": "stream",
     "text": [
      "/opt/homebrew/Caskroom/miniforge/base/envs/windisch/lib/python3.11/site-packages/xarray/core/missing.py:589: RuntimeWarning: All-NaN slice encountered\n",
      "  minval = np.nanmin(new_x_loaded)\n",
      "/opt/homebrew/Caskroom/miniforge/base/envs/windisch/lib/python3.11/site-packages/xarray/core/missing.py:590: RuntimeWarning: All-NaN slice encountered\n",
      "  maxval = np.nanmax(new_x_loaded)\n"
     ]
    },
    {
     "name": "stdout",
     "output_type": "stream",
     "text": [
      "Offshore wind turbines\n",
      "Downloaded 830.84 kB for location (55.03412546313417, 13.092912613770949)\n"
     ]
    },
    {
     "name": "stderr",
     "output_type": "stream",
     "text": [
      "/opt/homebrew/Caskroom/miniforge/base/envs/windisch/lib/python3.11/site-packages/xarray/core/missing.py:589: RuntimeWarning: All-NaN slice encountered\n",
      "  minval = np.nanmin(new_x_loaded)\n",
      "/opt/homebrew/Caskroom/miniforge/base/envs/windisch/lib/python3.11/site-packages/xarray/core/missing.py:590: RuntimeWarning: All-NaN slice encountered\n",
      "  maxval = np.nanmax(new_x_loaded)\n"
     ]
    },
    {
     "name": "stdout",
     "output_type": "stream",
     "text": [
      "Offshore wind turbines\n",
      "Downloaded 830.84 kB for location (55.057772047230365, 13.014948186016916)\n"
     ]
    },
    {
     "name": "stderr",
     "output_type": "stream",
     "text": [
      "/opt/homebrew/Caskroom/miniforge/base/envs/windisch/lib/python3.11/site-packages/xarray/core/missing.py:589: RuntimeWarning: All-NaN slice encountered\n",
      "  minval = np.nanmin(new_x_loaded)\n",
      "/opt/homebrew/Caskroom/miniforge/base/envs/windisch/lib/python3.11/site-packages/xarray/core/missing.py:590: RuntimeWarning: All-NaN slice encountered\n",
      "  maxval = np.nanmax(new_x_loaded)\n"
     ]
    },
    {
     "name": "stdout",
     "output_type": "stream",
     "text": [
      "Offshore wind turbines\n",
      "Downloaded 830.84 kB for location (55.058217515312094, 13.053020867765591)\n"
     ]
    },
    {
     "name": "stderr",
     "output_type": "stream",
     "text": [
      "/opt/homebrew/Caskroom/miniforge/base/envs/windisch/lib/python3.11/site-packages/xarray/core/missing.py:589: RuntimeWarning: All-NaN slice encountered\n",
      "  minval = np.nanmin(new_x_loaded)\n",
      "/opt/homebrew/Caskroom/miniforge/base/envs/windisch/lib/python3.11/site-packages/xarray/core/missing.py:590: RuntimeWarning: All-NaN slice encountered\n",
      "  maxval = np.nanmax(new_x_loaded)\n"
     ]
    },
    {
     "name": "stdout",
     "output_type": "stream",
     "text": [
      "Offshore wind turbines\n",
      "Downloaded 830.84 kB for location (55.06509487278093, 13.0382491508015)\n"
     ]
    },
    {
     "name": "stderr",
     "output_type": "stream",
     "text": [
      "/opt/homebrew/Caskroom/miniforge/base/envs/windisch/lib/python3.11/site-packages/xarray/core/missing.py:589: RuntimeWarning: All-NaN slice encountered\n",
      "  minval = np.nanmin(new_x_loaded)\n",
      "/opt/homebrew/Caskroom/miniforge/base/envs/windisch/lib/python3.11/site-packages/xarray/core/missing.py:590: RuntimeWarning: All-NaN slice encountered\n",
      "  maxval = np.nanmax(new_x_loaded)\n"
     ]
    },
    {
     "name": "stdout",
     "output_type": "stream",
     "text": [
      "Offshore wind turbines\n",
      "Downloaded 830.84 kB for location (55.07132247423753, 13.021855496272845)\n"
     ]
    },
    {
     "name": "stderr",
     "output_type": "stream",
     "text": [
      "/opt/homebrew/Caskroom/miniforge/base/envs/windisch/lib/python3.11/site-packages/xarray/core/missing.py:589: RuntimeWarning: All-NaN slice encountered\n",
      "  minval = np.nanmin(new_x_loaded)\n",
      "/opt/homebrew/Caskroom/miniforge/base/envs/windisch/lib/python3.11/site-packages/xarray/core/missing.py:590: RuntimeWarning: All-NaN slice encountered\n",
      "  maxval = np.nanmax(new_x_loaded)\n"
     ]
    },
    {
     "name": "stdout",
     "output_type": "stream",
     "text": [
      "Offshore wind turbines\n",
      "Downloaded 830.84 kB for location (55.031513484068896, 12.951722090328502)\n"
     ]
    },
    {
     "name": "stderr",
     "output_type": "stream",
     "text": [
      "/opt/homebrew/Caskroom/miniforge/base/envs/windisch/lib/python3.11/site-packages/xarray/core/missing.py:589: RuntimeWarning: All-NaN slice encountered\n",
      "  minval = np.nanmin(new_x_loaded)\n",
      "/opt/homebrew/Caskroom/miniforge/base/envs/windisch/lib/python3.11/site-packages/xarray/core/missing.py:590: RuntimeWarning: All-NaN slice encountered\n",
      "  maxval = np.nanmax(new_x_loaded)\n"
     ]
    },
    {
     "name": "stdout",
     "output_type": "stream",
     "text": [
      "Offshore wind turbines\n",
      "Downloaded 830.84 kB for location (55.04410277696113, 12.962830814406903)\n"
     ]
    },
    {
     "name": "stderr",
     "output_type": "stream",
     "text": [
      "/opt/homebrew/Caskroom/miniforge/base/envs/windisch/lib/python3.11/site-packages/xarray/core/missing.py:589: RuntimeWarning: All-NaN slice encountered\n",
      "  minval = np.nanmin(new_x_loaded)\n",
      "/opt/homebrew/Caskroom/miniforge/base/envs/windisch/lib/python3.11/site-packages/xarray/core/missing.py:590: RuntimeWarning: All-NaN slice encountered\n",
      "  maxval = np.nanmax(new_x_loaded)\n"
     ]
    },
    {
     "name": "stdout",
     "output_type": "stream",
     "text": [
      "Offshore wind turbines\n",
      "Downloaded 830.84 kB for location (55.03748082092345, 12.942444475501743)\n"
     ]
    },
    {
     "name": "stderr",
     "output_type": "stream",
     "text": [
      "/opt/homebrew/Caskroom/miniforge/base/envs/windisch/lib/python3.11/site-packages/xarray/core/missing.py:589: RuntimeWarning: All-NaN slice encountered\n",
      "  minval = np.nanmin(new_x_loaded)\n",
      "/opt/homebrew/Caskroom/miniforge/base/envs/windisch/lib/python3.11/site-packages/xarray/core/missing.py:590: RuntimeWarning: All-NaN slice encountered\n",
      "  maxval = np.nanmax(new_x_loaded)\n"
     ]
    },
    {
     "name": "stdout",
     "output_type": "stream",
     "text": [
      "Offshore wind turbines\n",
      "Downloaded 830.84 kB for location (55.04061179864942, 13.04423944053145)\n"
     ]
    },
    {
     "name": "stderr",
     "output_type": "stream",
     "text": [
      "/opt/homebrew/Caskroom/miniforge/base/envs/windisch/lib/python3.11/site-packages/xarray/core/missing.py:589: RuntimeWarning: All-NaN slice encountered\n",
      "  minval = np.nanmin(new_x_loaded)\n",
      "/opt/homebrew/Caskroom/miniforge/base/envs/windisch/lib/python3.11/site-packages/xarray/core/missing.py:590: RuntimeWarning: All-NaN slice encountered\n",
      "  maxval = np.nanmax(new_x_loaded)\n"
     ]
    },
    {
     "name": "stdout",
     "output_type": "stream",
     "text": [
      "Offshore wind turbines\n",
      "Downloaded 830.84 kB for location (54.98416745506403, 12.81052054231555)\n"
     ]
    },
    {
     "name": "stderr",
     "output_type": "stream",
     "text": [
      "/opt/homebrew/Caskroom/miniforge/base/envs/windisch/lib/python3.11/site-packages/xarray/core/missing.py:589: RuntimeWarning: All-NaN slice encountered\n",
      "  minval = np.nanmin(new_x_loaded)\n",
      "/opt/homebrew/Caskroom/miniforge/base/envs/windisch/lib/python3.11/site-packages/xarray/core/missing.py:590: RuntimeWarning: All-NaN slice encountered\n",
      "  maxval = np.nanmax(new_x_loaded)\n"
     ]
    },
    {
     "name": "stdout",
     "output_type": "stream",
     "text": [
      "Offshore wind turbines\n",
      "Downloaded 830.84 kB for location (54.989678047119135, 12.844842707589404)\n"
     ]
    },
    {
     "name": "stderr",
     "output_type": "stream",
     "text": [
      "/opt/homebrew/Caskroom/miniforge/base/envs/windisch/lib/python3.11/site-packages/xarray/core/missing.py:589: RuntimeWarning: All-NaN slice encountered\n",
      "  minval = np.nanmin(new_x_loaded)\n",
      "/opt/homebrew/Caskroom/miniforge/base/envs/windisch/lib/python3.11/site-packages/xarray/core/missing.py:590: RuntimeWarning: All-NaN slice encountered\n",
      "  maxval = np.nanmax(new_x_loaded)\n"
     ]
    },
    {
     "name": "stdout",
     "output_type": "stream",
     "text": [
      "Offshore wind turbines\n",
      "Downloaded 830.84 kB for location (54.99462897341506, 12.76225561747941)\n"
     ]
    },
    {
     "name": "stderr",
     "output_type": "stream",
     "text": [
      "/opt/homebrew/Caskroom/miniforge/base/envs/windisch/lib/python3.11/site-packages/xarray/core/missing.py:589: RuntimeWarning: All-NaN slice encountered\n",
      "  minval = np.nanmin(new_x_loaded)\n",
      "/opt/homebrew/Caskroom/miniforge/base/envs/windisch/lib/python3.11/site-packages/xarray/core/missing.py:590: RuntimeWarning: All-NaN slice encountered\n",
      "  maxval = np.nanmax(new_x_loaded)\n"
     ]
    },
    {
     "name": "stdout",
     "output_type": "stream",
     "text": [
      "Offshore wind turbines\n",
      "Downloaded 830.84 kB for location (54.99857100145241, 12.81607999122575)\n"
     ]
    },
    {
     "name": "stderr",
     "output_type": "stream",
     "text": [
      "/opt/homebrew/Caskroom/miniforge/base/envs/windisch/lib/python3.11/site-packages/xarray/core/missing.py:589: RuntimeWarning: All-NaN slice encountered\n",
      "  minval = np.nanmin(new_x_loaded)\n",
      "/opt/homebrew/Caskroom/miniforge/base/envs/windisch/lib/python3.11/site-packages/xarray/core/missing.py:590: RuntimeWarning: All-NaN slice encountered\n",
      "  maxval = np.nanmax(new_x_loaded)\n"
     ]
    },
    {
     "name": "stdout",
     "output_type": "stream",
     "text": [
      "Offshore wind turbines\n",
      "Downloaded 830.84 kB for location (55.004530593926546, 12.756142856444047)\n"
     ]
    },
    {
     "name": "stderr",
     "output_type": "stream",
     "text": [
      "/opt/homebrew/Caskroom/miniforge/base/envs/windisch/lib/python3.11/site-packages/xarray/core/missing.py:589: RuntimeWarning: All-NaN slice encountered\n",
      "  minval = np.nanmin(new_x_loaded)\n",
      "/opt/homebrew/Caskroom/miniforge/base/envs/windisch/lib/python3.11/site-packages/xarray/core/missing.py:590: RuntimeWarning: All-NaN slice encountered\n",
      "  maxval = np.nanmax(new_x_loaded)\n"
     ]
    },
    {
     "name": "stdout",
     "output_type": "stream",
     "text": [
      "Offshore wind turbines\n",
      "Downloaded 830.84 kB for location (55.00973554254177, 12.822821855464975)\n"
     ]
    },
    {
     "name": "stderr",
     "output_type": "stream",
     "text": [
      "/opt/homebrew/Caskroom/miniforge/base/envs/windisch/lib/python3.11/site-packages/xarray/core/missing.py:589: RuntimeWarning: All-NaN slice encountered\n",
      "  minval = np.nanmin(new_x_loaded)\n",
      "/opt/homebrew/Caskroom/miniforge/base/envs/windisch/lib/python3.11/site-packages/xarray/core/missing.py:590: RuntimeWarning: All-NaN slice encountered\n",
      "  maxval = np.nanmax(new_x_loaded)\n"
     ]
    },
    {
     "name": "stdout",
     "output_type": "stream",
     "text": [
      "Offshore wind turbines\n",
      "Downloaded 830.84 kB for location (55.01327768265326, 12.761186865828835)\n"
     ]
    },
    {
     "name": "stderr",
     "output_type": "stream",
     "text": [
      "/opt/homebrew/Caskroom/miniforge/base/envs/windisch/lib/python3.11/site-packages/xarray/core/missing.py:589: RuntimeWarning: All-NaN slice encountered\n",
      "  minval = np.nanmin(new_x_loaded)\n",
      "/opt/homebrew/Caskroom/miniforge/base/envs/windisch/lib/python3.11/site-packages/xarray/core/missing.py:590: RuntimeWarning: All-NaN slice encountered\n",
      "  maxval = np.nanmax(new_x_loaded)\n"
     ]
    },
    {
     "name": "stdout",
     "output_type": "stream",
     "text": [
      "Offshore wind turbines\n",
      "Downloaded 830.84 kB for location (55.019551741035855, 12.819531055698555)\n"
     ]
    },
    {
     "name": "stderr",
     "output_type": "stream",
     "text": [
      "/opt/homebrew/Caskroom/miniforge/base/envs/windisch/lib/python3.11/site-packages/xarray/core/missing.py:589: RuntimeWarning: All-NaN slice encountered\n",
      "  minval = np.nanmin(new_x_loaded)\n",
      "/opt/homebrew/Caskroom/miniforge/base/envs/windisch/lib/python3.11/site-packages/xarray/core/missing.py:590: RuntimeWarning: All-NaN slice encountered\n",
      "  maxval = np.nanmax(new_x_loaded)\n"
     ]
    },
    {
     "name": "stdout",
     "output_type": "stream",
     "text": [
      "Offshore wind turbines\n",
      "Downloaded 830.84 kB for location (55.02296206457018, 12.76209480584399)\n"
     ]
    },
    {
     "name": "stderr",
     "output_type": "stream",
     "text": [
      "/opt/homebrew/Caskroom/miniforge/base/envs/windisch/lib/python3.11/site-packages/xarray/core/missing.py:589: RuntimeWarning: All-NaN slice encountered\n",
      "  minval = np.nanmin(new_x_loaded)\n",
      "/opt/homebrew/Caskroom/miniforge/base/envs/windisch/lib/python3.11/site-packages/xarray/core/missing.py:590: RuntimeWarning: All-NaN slice encountered\n",
      "  maxval = np.nanmax(new_x_loaded)\n"
     ]
    },
    {
     "name": "stdout",
     "output_type": "stream",
     "text": [
      "Offshore wind turbines\n",
      "Downloaded 830.84 kB for location (55.032689910364084, 12.761598241898003)\n"
     ]
    },
    {
     "name": "stderr",
     "output_type": "stream",
     "text": [
      "/opt/homebrew/Caskroom/miniforge/base/envs/windisch/lib/python3.11/site-packages/xarray/core/missing.py:589: RuntimeWarning: All-NaN slice encountered\n",
      "  minval = np.nanmin(new_x_loaded)\n",
      "/opt/homebrew/Caskroom/miniforge/base/envs/windisch/lib/python3.11/site-packages/xarray/core/missing.py:590: RuntimeWarning: All-NaN slice encountered\n",
      "  maxval = np.nanmax(new_x_loaded)\n"
     ]
    },
    {
     "name": "stdout",
     "output_type": "stream",
     "text": [
      "Offshore wind turbines\n",
      "Downloaded 830.84 kB for location (55.03344686602687, 12.815217763657754)\n"
     ]
    },
    {
     "name": "stderr",
     "output_type": "stream",
     "text": [
      "/opt/homebrew/Caskroom/miniforge/base/envs/windisch/lib/python3.11/site-packages/xarray/core/missing.py:589: RuntimeWarning: All-NaN slice encountered\n",
      "  minval = np.nanmin(new_x_loaded)\n",
      "/opt/homebrew/Caskroom/miniforge/base/envs/windisch/lib/python3.11/site-packages/xarray/core/missing.py:590: RuntimeWarning: All-NaN slice encountered\n",
      "  maxval = np.nanmax(new_x_loaded)\n"
     ]
    },
    {
     "name": "stdout",
     "output_type": "stream",
     "text": [
      "Offshore wind turbines\n",
      "Downloaded 830.84 kB for location (55.042287230366526, 12.765317705037345)\n"
     ]
    },
    {
     "name": "stderr",
     "output_type": "stream",
     "text": [
      "/opt/homebrew/Caskroom/miniforge/base/envs/windisch/lib/python3.11/site-packages/xarray/core/missing.py:589: RuntimeWarning: All-NaN slice encountered\n",
      "  minval = np.nanmin(new_x_loaded)\n",
      "/opt/homebrew/Caskroom/miniforge/base/envs/windisch/lib/python3.11/site-packages/xarray/core/missing.py:590: RuntimeWarning: All-NaN slice encountered\n",
      "  maxval = np.nanmax(new_x_loaded)\n"
     ]
    },
    {
     "name": "stdout",
     "output_type": "stream",
     "text": [
      "Offshore wind turbines\n",
      "Downloaded 830.84 kB for location (55.04483277106287, 12.813482303790144)\n"
     ]
    },
    {
     "name": "stderr",
     "output_type": "stream",
     "text": [
      "/opt/homebrew/Caskroom/miniforge/base/envs/windisch/lib/python3.11/site-packages/xarray/core/missing.py:589: RuntimeWarning: All-NaN slice encountered\n",
      "  minval = np.nanmin(new_x_loaded)\n",
      "/opt/homebrew/Caskroom/miniforge/base/envs/windisch/lib/python3.11/site-packages/xarray/core/missing.py:590: RuntimeWarning: All-NaN slice encountered\n",
      "  maxval = np.nanmax(new_x_loaded)\n"
     ]
    },
    {
     "name": "stdout",
     "output_type": "stream",
     "text": [
      "Offshore wind turbines\n",
      "Downloaded 830.84 kB for location (55.05349717551826, 12.767780882739379)\n"
     ]
    },
    {
     "name": "stderr",
     "output_type": "stream",
     "text": [
      "/opt/homebrew/Caskroom/miniforge/base/envs/windisch/lib/python3.11/site-packages/xarray/core/missing.py:589: RuntimeWarning: All-NaN slice encountered\n",
      "  minval = np.nanmin(new_x_loaded)\n",
      "/opt/homebrew/Caskroom/miniforge/base/envs/windisch/lib/python3.11/site-packages/xarray/core/missing.py:590: RuntimeWarning: All-NaN slice encountered\n",
      "  maxval = np.nanmax(new_x_loaded)\n"
     ]
    },
    {
     "name": "stdout",
     "output_type": "stream",
     "text": [
      "Offshore wind turbines\n",
      "Downloaded 830.84 kB for location (55.05604222931531, 12.817369149608686)\n"
     ]
    },
    {
     "name": "stderr",
     "output_type": "stream",
     "text": [
      "/opt/homebrew/Caskroom/miniforge/base/envs/windisch/lib/python3.11/site-packages/xarray/core/missing.py:589: RuntimeWarning: All-NaN slice encountered\n",
      "  minval = np.nanmin(new_x_loaded)\n",
      "/opt/homebrew/Caskroom/miniforge/base/envs/windisch/lib/python3.11/site-packages/xarray/core/missing.py:590: RuntimeWarning: All-NaN slice encountered\n",
      "  maxval = np.nanmax(new_x_loaded)\n"
     ]
    },
    {
     "name": "stdout",
     "output_type": "stream",
     "text": [
      "Offshore wind turbines\n",
      "Downloaded 830.84 kB for location (54.984727078435725, 12.768365462683958)\n"
     ]
    },
    {
     "name": "stderr",
     "output_type": "stream",
     "text": [
      "/opt/homebrew/Caskroom/miniforge/base/envs/windisch/lib/python3.11/site-packages/xarray/core/missing.py:589: RuntimeWarning: All-NaN slice encountered\n",
      "  minval = np.nanmin(new_x_loaded)\n",
      "/opt/homebrew/Caskroom/miniforge/base/envs/windisch/lib/python3.11/site-packages/xarray/core/missing.py:590: RuntimeWarning: All-NaN slice encountered\n",
      "  maxval = np.nanmax(new_x_loaded)\n"
     ]
    },
    {
     "name": "stdout",
     "output_type": "stream",
     "text": [
      "Offshore wind turbines\n",
      "Downloaded 830.84 kB for location (55.455675501715476, 8.494789847156815)\n"
     ]
    },
    {
     "name": "stderr",
     "output_type": "stream",
     "text": [
      "/opt/homebrew/Caskroom/miniforge/base/envs/windisch/lib/python3.11/site-packages/xarray/core/missing.py:589: RuntimeWarning: All-NaN slice encountered\n",
      "  minval = np.nanmin(new_x_loaded)\n",
      "/opt/homebrew/Caskroom/miniforge/base/envs/windisch/lib/python3.11/site-packages/xarray/core/missing.py:590: RuntimeWarning: All-NaN slice encountered\n",
      "  maxval = np.nanmax(new_x_loaded)\n"
     ]
    },
    {
     "name": "stdout",
     "output_type": "stream",
     "text": [
      "Offshore wind turbines\n",
      "Downloaded 830.84 kB for location (54.971620996131456, 12.903711905718975)\n"
     ]
    },
    {
     "name": "stderr",
     "output_type": "stream",
     "text": [
      "/opt/homebrew/Caskroom/miniforge/base/envs/windisch/lib/python3.11/site-packages/xarray/core/missing.py:589: RuntimeWarning: All-NaN slice encountered\n",
      "  minval = np.nanmin(new_x_loaded)\n",
      "/opt/homebrew/Caskroom/miniforge/base/envs/windisch/lib/python3.11/site-packages/xarray/core/missing.py:590: RuntimeWarning: All-NaN slice encountered\n",
      "  maxval = np.nanmax(new_x_loaded)\n"
     ]
    },
    {
     "name": "stdout",
     "output_type": "stream",
     "text": [
      "Offshore wind turbines\n",
      "Downloaded 830.84 kB for location (55.076983253994285, 12.922350672936561)\n"
     ]
    },
    {
     "name": "stderr",
     "output_type": "stream",
     "text": [
      "/opt/homebrew/Caskroom/miniforge/base/envs/windisch/lib/python3.11/site-packages/xarray/core/missing.py:589: RuntimeWarning: All-NaN slice encountered\n",
      "  minval = np.nanmin(new_x_loaded)\n",
      "/opt/homebrew/Caskroom/miniforge/base/envs/windisch/lib/python3.11/site-packages/xarray/core/missing.py:590: RuntimeWarning: All-NaN slice encountered\n",
      "  maxval = np.nanmax(new_x_loaded)\n"
     ]
    },
    {
     "name": "stdout",
     "output_type": "stream",
     "text": [
      "Offshore wind turbines\n",
      "Downloaded 830.84 kB for location (55.06635613758388, 12.823993578427602)\n"
     ]
    },
    {
     "name": "stderr",
     "output_type": "stream",
     "text": [
      "/opt/homebrew/Caskroom/miniforge/base/envs/windisch/lib/python3.11/site-packages/xarray/core/missing.py:589: RuntimeWarning: All-NaN slice encountered\n",
      "  minval = np.nanmin(new_x_loaded)\n",
      "/opt/homebrew/Caskroom/miniforge/base/envs/windisch/lib/python3.11/site-packages/xarray/core/missing.py:590: RuntimeWarning: All-NaN slice encountered\n",
      "  maxval = np.nanmax(new_x_loaded)\n"
     ]
    },
    {
     "name": "stdout",
     "output_type": "stream",
     "text": [
      "Offshore wind turbines\n",
      "Downloaded 830.84 kB for location (55.04185821296605, 13.07960588133096)\n"
     ]
    },
    {
     "name": "stderr",
     "output_type": "stream",
     "text": [
      "/opt/homebrew/Caskroom/miniforge/base/envs/windisch/lib/python3.11/site-packages/xarray/core/missing.py:589: RuntimeWarning: All-NaN slice encountered\n",
      "  minval = np.nanmin(new_x_loaded)\n",
      "/opt/homebrew/Caskroom/miniforge/base/envs/windisch/lib/python3.11/site-packages/xarray/core/missing.py:590: RuntimeWarning: All-NaN slice encountered\n",
      "  maxval = np.nanmax(new_x_loaded)\n"
     ]
    },
    {
     "name": "stdout",
     "output_type": "stream",
     "text": [
      "Offshore wind turbines\n",
      "Downloaded 830.84 kB for location (55.04584576282659, 13.009508330746419)\n"
     ]
    },
    {
     "name": "stderr",
     "output_type": "stream",
     "text": [
      "/opt/homebrew/Caskroom/miniforge/base/envs/windisch/lib/python3.11/site-packages/xarray/core/missing.py:589: RuntimeWarning: All-NaN slice encountered\n",
      "  minval = np.nanmin(new_x_loaded)\n",
      "/opt/homebrew/Caskroom/miniforge/base/envs/windisch/lib/python3.11/site-packages/xarray/core/missing.py:590: RuntimeWarning: All-NaN slice encountered\n",
      "  maxval = np.nanmax(new_x_loaded)\n"
     ]
    },
    {
     "name": "stdout",
     "output_type": "stream",
     "text": [
      "Offshore wind turbines\n",
      "Downloaded 830.84 kB for location (55.049542566533255, 13.067699144153393)\n"
     ]
    },
    {
     "name": "stderr",
     "output_type": "stream",
     "text": [
      "/opt/homebrew/Caskroom/miniforge/base/envs/windisch/lib/python3.11/site-packages/xarray/core/missing.py:589: RuntimeWarning: All-NaN slice encountered\n",
      "  minval = np.nanmin(new_x_loaded)\n",
      "/opt/homebrew/Caskroom/miniforge/base/envs/windisch/lib/python3.11/site-packages/xarray/core/missing.py:590: RuntimeWarning: All-NaN slice encountered\n",
      "  maxval = np.nanmax(new_x_loaded)\n"
     ]
    },
    {
     "name": "stdout",
     "output_type": "stream",
     "text": [
      "Offshore wind turbines\n",
      "Downloaded 830.84 kB for location (55.053661338362936, 12.966470872215082)\n"
     ]
    },
    {
     "name": "stderr",
     "output_type": "stream",
     "text": [
      "/opt/homebrew/Caskroom/miniforge/base/envs/windisch/lib/python3.11/site-packages/xarray/core/missing.py:589: RuntimeWarning: All-NaN slice encountered\n",
      "  minval = np.nanmin(new_x_loaded)\n",
      "/opt/homebrew/Caskroom/miniforge/base/envs/windisch/lib/python3.11/site-packages/xarray/core/missing.py:590: RuntimeWarning: All-NaN slice encountered\n",
      "  maxval = np.nanmax(new_x_loaded)\n"
     ]
    },
    {
     "name": "stdout",
     "output_type": "stream",
     "text": [
      "Offshore wind turbines\n",
      "Downloaded 830.84 kB for location (55.066096739504616, 12.98334261482476)\n"
     ]
    },
    {
     "name": "stderr",
     "output_type": "stream",
     "text": [
      "/opt/homebrew/Caskroom/miniforge/base/envs/windisch/lib/python3.11/site-packages/xarray/core/missing.py:589: RuntimeWarning: All-NaN slice encountered\n",
      "  minval = np.nanmin(new_x_loaded)\n",
      "/opt/homebrew/Caskroom/miniforge/base/envs/windisch/lib/python3.11/site-packages/xarray/core/missing.py:590: RuntimeWarning: All-NaN slice encountered\n",
      "  maxval = np.nanmax(new_x_loaded)\n"
     ]
    },
    {
     "name": "stdout",
     "output_type": "stream",
     "text": [
      "Offshore wind turbines\n",
      "Downloaded 830.84 kB for location (55.079258392748955, 13.001583244940488)\n"
     ]
    },
    {
     "name": "stderr",
     "output_type": "stream",
     "text": [
      "/opt/homebrew/Caskroom/miniforge/base/envs/windisch/lib/python3.11/site-packages/xarray/core/missing.py:589: RuntimeWarning: All-NaN slice encountered\n",
      "  minval = np.nanmin(new_x_loaded)\n",
      "/opt/homebrew/Caskroom/miniforge/base/envs/windisch/lib/python3.11/site-packages/xarray/core/missing.py:590: RuntimeWarning: All-NaN slice encountered\n",
      "  maxval = np.nanmax(new_x_loaded)\n"
     ]
    },
    {
     "name": "stdout",
     "output_type": "stream",
     "text": [
      "Offshore wind turbines\n",
      "Downloaded 830.84 kB for location (54.974811110182756, 12.775784395958919)\n"
     ]
    },
    {
     "name": "stderr",
     "output_type": "stream",
     "text": [
      "/opt/homebrew/Caskroom/miniforge/base/envs/windisch/lib/python3.11/site-packages/xarray/core/missing.py:589: RuntimeWarning: All-NaN slice encountered\n",
      "  minval = np.nanmin(new_x_loaded)\n",
      "/opt/homebrew/Caskroom/miniforge/base/envs/windisch/lib/python3.11/site-packages/xarray/core/missing.py:590: RuntimeWarning: All-NaN slice encountered\n",
      "  maxval = np.nanmax(new_x_loaded)\n"
     ]
    },
    {
     "name": "stdout",
     "output_type": "stream",
     "text": [
      "Offshore wind turbines\n",
      "Downloaded 830.84 kB for location (55.0854141198897, 12.986676461708647)\n"
     ]
    },
    {
     "name": "stderr",
     "output_type": "stream",
     "text": [
      "/opt/homebrew/Caskroom/miniforge/base/envs/windisch/lib/python3.11/site-packages/xarray/core/missing.py:589: RuntimeWarning: All-NaN slice encountered\n",
      "  minval = np.nanmin(new_x_loaded)\n",
      "/opt/homebrew/Caskroom/miniforge/base/envs/windisch/lib/python3.11/site-packages/xarray/core/missing.py:590: RuntimeWarning: All-NaN slice encountered\n",
      "  maxval = np.nanmax(new_x_loaded)\n"
     ]
    },
    {
     "name": "stdout",
     "output_type": "stream",
     "text": [
      "Offshore wind turbines\n",
      "Downloaded 830.84 kB for location (55.08760863517339, 12.91915868066664)\n"
     ]
    },
    {
     "name": "stderr",
     "output_type": "stream",
     "text": [
      "/opt/homebrew/Caskroom/miniforge/base/envs/windisch/lib/python3.11/site-packages/xarray/core/missing.py:589: RuntimeWarning: All-NaN slice encountered\n",
      "  minval = np.nanmin(new_x_loaded)\n",
      "/opt/homebrew/Caskroom/miniforge/base/envs/windisch/lib/python3.11/site-packages/xarray/core/missing.py:590: RuntimeWarning: All-NaN slice encountered\n",
      "  maxval = np.nanmax(new_x_loaded)\n"
     ]
    },
    {
     "name": "stdout",
     "output_type": "stream",
     "text": [
      "Offshore wind turbines\n",
      "Downloaded 830.84 kB for location (55.09182021229723, 12.938012355081165)\n"
     ]
    },
    {
     "name": "stderr",
     "output_type": "stream",
     "text": [
      "/opt/homebrew/Caskroom/miniforge/base/envs/windisch/lib/python3.11/site-packages/xarray/core/missing.py:589: RuntimeWarning: All-NaN slice encountered\n",
      "  minval = np.nanmin(new_x_loaded)\n",
      "/opt/homebrew/Caskroom/miniforge/base/envs/windisch/lib/python3.11/site-packages/xarray/core/missing.py:590: RuntimeWarning: All-NaN slice encountered\n",
      "  maxval = np.nanmax(new_x_loaded)\n"
     ]
    },
    {
     "name": "stdout",
     "output_type": "stream",
     "text": [
      "Offshore wind turbines\n",
      "Downloaded 830.84 kB for location (54.970246616718484, 12.868246909900511)\n"
     ]
    },
    {
     "name": "stderr",
     "output_type": "stream",
     "text": [
      "/opt/homebrew/Caskroom/miniforge/base/envs/windisch/lib/python3.11/site-packages/xarray/core/missing.py:589: RuntimeWarning: All-NaN slice encountered\n",
      "  minval = np.nanmin(new_x_loaded)\n",
      "/opt/homebrew/Caskroom/miniforge/base/envs/windisch/lib/python3.11/site-packages/xarray/core/missing.py:590: RuntimeWarning: All-NaN slice encountered\n",
      "  maxval = np.nanmax(new_x_loaded)\n"
     ]
    },
    {
     "name": "stdout",
     "output_type": "stream",
     "text": [
      "Offshore wind turbines\n",
      "Downloaded 830.84 kB for location (54.971321250480386, 12.834644283854313)\n"
     ]
    },
    {
     "name": "stderr",
     "output_type": "stream",
     "text": [
      "/opt/homebrew/Caskroom/miniforge/base/envs/windisch/lib/python3.11/site-packages/xarray/core/missing.py:589: RuntimeWarning: All-NaN slice encountered\n",
      "  minval = np.nanmin(new_x_loaded)\n",
      "/opt/homebrew/Caskroom/miniforge/base/envs/windisch/lib/python3.11/site-packages/xarray/core/missing.py:590: RuntimeWarning: All-NaN slice encountered\n",
      "  maxval = np.nanmax(new_x_loaded)\n"
     ]
    },
    {
     "name": "stdout",
     "output_type": "stream",
     "text": [
      "Offshore wind turbines\n",
      "Downloaded 830.84 kB for location (54.973098757068435, 12.803858371522507)\n"
     ]
    },
    {
     "name": "stderr",
     "output_type": "stream",
     "text": [
      "/opt/homebrew/Caskroom/miniforge/base/envs/windisch/lib/python3.11/site-packages/xarray/core/missing.py:589: RuntimeWarning: All-NaN slice encountered\n",
      "  minval = np.nanmin(new_x_loaded)\n",
      "/opt/homebrew/Caskroom/miniforge/base/envs/windisch/lib/python3.11/site-packages/xarray/core/missing.py:590: RuntimeWarning: All-NaN slice encountered\n",
      "  maxval = np.nanmax(new_x_loaded)\n"
     ]
    },
    {
     "name": "stdout",
     "output_type": "stream",
     "text": [
      "Offshore wind turbines\n",
      "Downloaded 830.84 kB for location (54.97984691929022, 12.87206403286451)\n"
     ]
    },
    {
     "name": "stderr",
     "output_type": "stream",
     "text": [
      "/opt/homebrew/Caskroom/miniforge/base/envs/windisch/lib/python3.11/site-packages/xarray/core/missing.py:589: RuntimeWarning: All-NaN slice encountered\n",
      "  minval = np.nanmin(new_x_loaded)\n",
      "/opt/homebrew/Caskroom/miniforge/base/envs/windisch/lib/python3.11/site-packages/xarray/core/missing.py:590: RuntimeWarning: All-NaN slice encountered\n",
      "  maxval = np.nanmax(new_x_loaded)\n"
     ]
    },
    {
     "name": "stdout",
     "output_type": "stream",
     "text": [
      "Offshore wind turbines\n",
      "Downloaded 830.84 kB for location (55.058579547456205, 12.787999567264636)\n"
     ]
    },
    {
     "name": "stderr",
     "output_type": "stream",
     "text": [
      "/opt/homebrew/Caskroom/miniforge/base/envs/windisch/lib/python3.11/site-packages/xarray/core/missing.py:589: RuntimeWarning: All-NaN slice encountered\n",
      "  minval = np.nanmin(new_x_loaded)\n",
      "/opt/homebrew/Caskroom/miniforge/base/envs/windisch/lib/python3.11/site-packages/xarray/core/missing.py:590: RuntimeWarning: All-NaN slice encountered\n",
      "  maxval = np.nanmax(new_x_loaded)\n"
     ]
    },
    {
     "name": "stdout",
     "output_type": "stream",
     "text": [
      "Offshore wind turbines\n",
      "Downloaded 830.84 kB for location (56.106464199048375, 7.953466628081125)\n"
     ]
    },
    {
     "name": "stderr",
     "output_type": "stream",
     "text": [
      "/opt/homebrew/Caskroom/miniforge/base/envs/windisch/lib/python3.11/site-packages/xarray/core/missing.py:589: RuntimeWarning: All-NaN slice encountered\n",
      "  minval = np.nanmin(new_x_loaded)\n",
      "/opt/homebrew/Caskroom/miniforge/base/envs/windisch/lib/python3.11/site-packages/xarray/core/missing.py:590: RuntimeWarning: All-NaN slice encountered\n",
      "  maxval = np.nanmax(new_x_loaded)\n"
     ]
    },
    {
     "name": "stdout",
     "output_type": "stream",
     "text": [
      "Offshore wind turbines\n",
      "Downloaded 830.84 kB for location (56.07564004329246, 7.953574454006114)\n"
     ]
    },
    {
     "name": "stderr",
     "output_type": "stream",
     "text": [
      "/opt/homebrew/Caskroom/miniforge/base/envs/windisch/lib/python3.11/site-packages/xarray/core/missing.py:589: RuntimeWarning: All-NaN slice encountered\n",
      "  minval = np.nanmin(new_x_loaded)\n",
      "/opt/homebrew/Caskroom/miniforge/base/envs/windisch/lib/python3.11/site-packages/xarray/core/missing.py:590: RuntimeWarning: All-NaN slice encountered\n",
      "  maxval = np.nanmax(new_x_loaded)\n"
     ]
    },
    {
     "name": "stdout",
     "output_type": "stream",
     "text": [
      "Offshore wind turbines\n",
      "Downloaded 830.84 kB for location (56.08179571270262, 7.953553361849093)\n"
     ]
    },
    {
     "name": "stderr",
     "output_type": "stream",
     "text": [
      "/opt/homebrew/Caskroom/miniforge/base/envs/windisch/lib/python3.11/site-packages/xarray/core/missing.py:589: RuntimeWarning: All-NaN slice encountered\n",
      "  minval = np.nanmin(new_x_loaded)\n",
      "/opt/homebrew/Caskroom/miniforge/base/envs/windisch/lib/python3.11/site-packages/xarray/core/missing.py:590: RuntimeWarning: All-NaN slice encountered\n",
      "  maxval = np.nanmax(new_x_loaded)\n"
     ]
    },
    {
     "name": "stdout",
     "output_type": "stream",
     "text": [
      "Offshore wind turbines\n",
      "Downloaded 830.84 kB for location (56.08797628388757, 7.953532298773891)\n"
     ]
    },
    {
     "name": "stderr",
     "output_type": "stream",
     "text": [
      "/opt/homebrew/Caskroom/miniforge/base/envs/windisch/lib/python3.11/site-packages/xarray/core/missing.py:589: RuntimeWarning: All-NaN slice encountered\n",
      "  minval = np.nanmin(new_x_loaded)\n",
      "/opt/homebrew/Caskroom/miniforge/base/envs/windisch/lib/python3.11/site-packages/xarray/core/missing.py:590: RuntimeWarning: All-NaN slice encountered\n",
      "  maxval = np.nanmax(new_x_loaded)\n"
     ]
    },
    {
     "name": "stdout",
     "output_type": "stream",
     "text": [
      "Offshore wind turbines\n",
      "Downloaded 830.84 kB for location (56.0941070153763, 7.953511137740478)\n"
     ]
    },
    {
     "name": "stderr",
     "output_type": "stream",
     "text": [
      "/opt/homebrew/Caskroom/miniforge/base/envs/windisch/lib/python3.11/site-packages/xarray/core/missing.py:589: RuntimeWarning: All-NaN slice encountered\n",
      "  minval = np.nanmin(new_x_loaded)\n",
      "/opt/homebrew/Caskroom/miniforge/base/envs/windisch/lib/python3.11/site-packages/xarray/core/missing.py:590: RuntimeWarning: All-NaN slice encountered\n",
      "  maxval = np.nanmax(new_x_loaded)\n"
     ]
    },
    {
     "name": "stdout",
     "output_type": "stream",
     "text": [
      "Offshore wind turbines\n",
      "Downloaded 830.84 kB for location (56.10026265748802, 7.953489989462129)\n"
     ]
    },
    {
     "name": "stderr",
     "output_type": "stream",
     "text": [
      "/opt/homebrew/Caskroom/miniforge/base/envs/windisch/lib/python3.11/site-packages/xarray/core/missing.py:589: RuntimeWarning: All-NaN slice encountered\n",
      "  minval = np.nanmin(new_x_loaded)\n",
      "/opt/homebrew/Caskroom/miniforge/base/envs/windisch/lib/python3.11/site-packages/xarray/core/missing.py:590: RuntimeWarning: All-NaN slice encountered\n",
      "  maxval = np.nanmax(new_x_loaded)\n"
     ]
    },
    {
     "name": "stdout",
     "output_type": "stream",
     "text": [
      "Offshore wind turbines\n",
      "Downloaded 830.84 kB for location (56.11260939659422, 7.953427375633414)\n"
     ]
    },
    {
     "name": "stderr",
     "output_type": "stream",
     "text": [
      "/opt/homebrew/Caskroom/miniforge/base/envs/windisch/lib/python3.11/site-packages/xarray/core/missing.py:589: RuntimeWarning: All-NaN slice encountered\n",
      "  minval = np.nanmin(new_x_loaded)\n",
      "/opt/homebrew/Caskroom/miniforge/base/envs/windisch/lib/python3.11/site-packages/xarray/core/missing.py:590: RuntimeWarning: All-NaN slice encountered\n",
      "  maxval = np.nanmax(new_x_loaded)\n"
     ]
    },
    {
     "name": "stdout",
     "output_type": "stream",
     "text": [
      "Offshore wind turbines\n",
      "Downloaded 830.84 kB for location (56.11873134895686, 7.953434408902853)\n"
     ]
    },
    {
     "name": "stderr",
     "output_type": "stream",
     "text": [
      "/opt/homebrew/Caskroom/miniforge/base/envs/windisch/lib/python3.11/site-packages/xarray/core/missing.py:589: RuntimeWarning: All-NaN slice encountered\n",
      "  minval = np.nanmin(new_x_loaded)\n",
      "/opt/homebrew/Caskroom/miniforge/base/envs/windisch/lib/python3.11/site-packages/xarray/core/missing.py:590: RuntimeWarning: All-NaN slice encountered\n",
      "  maxval = np.nanmax(new_x_loaded)\n"
     ]
    },
    {
     "name": "stdout",
     "output_type": "stream",
     "text": [
      "Offshore wind turbines\n",
      "Downloaded 830.84 kB for location (56.12488518313917, 7.953405239902286)\n"
     ]
    },
    {
     "name": "stderr",
     "output_type": "stream",
     "text": [
      "/opt/homebrew/Caskroom/miniforge/base/envs/windisch/lib/python3.11/site-packages/xarray/core/missing.py:589: RuntimeWarning: All-NaN slice encountered\n",
      "  minval = np.nanmin(new_x_loaded)\n",
      "/opt/homebrew/Caskroom/miniforge/base/envs/windisch/lib/python3.11/site-packages/xarray/core/missing.py:590: RuntimeWarning: All-NaN slice encountered\n",
      "  maxval = np.nanmax(new_x_loaded)\n"
     ]
    },
    {
     "name": "stdout",
     "output_type": "stream",
     "text": [
      "Offshore wind turbines\n",
      "Downloaded 830.83 kB for location (56.137196400368, 7.95336275239728)\n"
     ]
    },
    {
     "name": "stderr",
     "output_type": "stream",
     "text": [
      "/opt/homebrew/Caskroom/miniforge/base/envs/windisch/lib/python3.11/site-packages/xarray/core/missing.py:589: RuntimeWarning: All-NaN slice encountered\n",
      "  minval = np.nanmin(new_x_loaded)\n",
      "/opt/homebrew/Caskroom/miniforge/base/envs/windisch/lib/python3.11/site-packages/xarray/core/missing.py:590: RuntimeWarning: All-NaN slice encountered\n",
      "  maxval = np.nanmax(new_x_loaded)\n"
     ]
    },
    {
     "name": "stdout",
     "output_type": "stream",
     "text": [
      "Offshore wind turbines\n",
      "Downloaded 830.84 kB for location (56.13104079473613, 7.9533839975275065)\n"
     ]
    },
    {
     "name": "stderr",
     "output_type": "stream",
     "text": [
      "/opt/homebrew/Caskroom/miniforge/base/envs/windisch/lib/python3.11/site-packages/xarray/core/missing.py:589: RuntimeWarning: All-NaN slice encountered\n",
      "  minval = np.nanmin(new_x_loaded)\n",
      "/opt/homebrew/Caskroom/miniforge/base/envs/windisch/lib/python3.11/site-packages/xarray/core/missing.py:590: RuntimeWarning: All-NaN slice encountered\n",
      "  maxval = np.nanmax(new_x_loaded)\n"
     ]
    },
    {
     "name": "stdout",
     "output_type": "stream",
     "text": [
      "Offshore wind turbines\n",
      "Downloaded 830.84 kB for location (56.069484376623386, 7.953595511086001)\n"
     ]
    },
    {
     "name": "stderr",
     "output_type": "stream",
     "text": [
      "/opt/homebrew/Caskroom/miniforge/base/envs/windisch/lib/python3.11/site-packages/xarray/core/missing.py:589: RuntimeWarning: All-NaN slice encountered\n",
      "  minval = np.nanmin(new_x_loaded)\n",
      "/opt/homebrew/Caskroom/miniforge/base/envs/windisch/lib/python3.11/site-packages/xarray/core/missing.py:590: RuntimeWarning: All-NaN slice encountered\n",
      "  maxval = np.nanmax(new_x_loaded)\n"
     ]
    },
    {
     "name": "stdout",
     "output_type": "stream",
     "text": [
      "Offshore wind turbines\n",
      "Downloaded 830.84 kB for location (56.0633135234795, 7.953617137261937)\n"
     ]
    },
    {
     "name": "stderr",
     "output_type": "stream",
     "text": [
      "/opt/homebrew/Caskroom/miniforge/base/envs/windisch/lib/python3.11/site-packages/xarray/core/missing.py:589: RuntimeWarning: All-NaN slice encountered\n",
      "  minval = np.nanmin(new_x_loaded)\n",
      "/opt/homebrew/Caskroom/miniforge/base/envs/windisch/lib/python3.11/site-packages/xarray/core/missing.py:590: RuntimeWarning: All-NaN slice encountered\n",
      "  maxval = np.nanmax(new_x_loaded)\n"
     ]
    },
    {
     "name": "stdout",
     "output_type": "stream",
     "text": [
      "Offshore wind turbines\n",
      "Downloaded 830.84 kB for location (56.05717301625384, 7.953637601324656)\n"
     ]
    },
    {
     "name": "stderr",
     "output_type": "stream",
     "text": [
      "/opt/homebrew/Caskroom/miniforge/base/envs/windisch/lib/python3.11/site-packages/xarray/core/missing.py:589: RuntimeWarning: All-NaN slice encountered\n",
      "  minval = np.nanmin(new_x_loaded)\n",
      "/opt/homebrew/Caskroom/miniforge/base/envs/windisch/lib/python3.11/site-packages/xarray/core/missing.py:590: RuntimeWarning: All-NaN slice encountered\n",
      "  maxval = np.nanmax(new_x_loaded)\n"
     ]
    },
    {
     "name": "stdout",
     "output_type": "stream",
     "text": [
      "Offshore wind turbines\n",
      "Downloaded 830.84 kB for location (56.0510173312634, 7.953658602140602)\n"
     ]
    },
    {
     "name": "stderr",
     "output_type": "stream",
     "text": [
      "/opt/homebrew/Caskroom/miniforge/base/envs/windisch/lib/python3.11/site-packages/xarray/core/missing.py:589: RuntimeWarning: All-NaN slice encountered\n",
      "  minval = np.nanmin(new_x_loaded)\n",
      "/opt/homebrew/Caskroom/miniforge/base/envs/windisch/lib/python3.11/site-packages/xarray/core/missing.py:590: RuntimeWarning: All-NaN slice encountered\n",
      "  maxval = np.nanmax(new_x_loaded)\n"
     ]
    },
    {
     "name": "stdout",
     "output_type": "stream",
     "text": [
      "Offshore wind turbines\n",
      "Downloaded 830.84 kB for location (56.04486164030092, 7.953679600268959)\n"
     ]
    },
    {
     "name": "stderr",
     "output_type": "stream",
     "text": [
      "/opt/homebrew/Caskroom/miniforge/base/envs/windisch/lib/python3.11/site-packages/xarray/core/missing.py:589: RuntimeWarning: All-NaN slice encountered\n",
      "  minval = np.nanmin(new_x_loaded)\n",
      "/opt/homebrew/Caskroom/miniforge/base/envs/windisch/lib/python3.11/site-packages/xarray/core/missing.py:590: RuntimeWarning: All-NaN slice encountered\n",
      "  maxval = np.nanmax(new_x_loaded)\n"
     ]
    },
    {
     "name": "stdout",
     "output_type": "stream",
     "text": [
      "Offshore wind turbines\n",
      "Downloaded 830.84 kB for location (56.038705934110276, 7.95370056385833)\n"
     ]
    },
    {
     "name": "stderr",
     "output_type": "stream",
     "text": [
      "/opt/homebrew/Caskroom/miniforge/base/envs/windisch/lib/python3.11/site-packages/xarray/core/missing.py:589: RuntimeWarning: All-NaN slice encountered\n",
      "  minval = np.nanmin(new_x_loaded)\n",
      "/opt/homebrew/Caskroom/miniforge/base/envs/windisch/lib/python3.11/site-packages/xarray/core/missing.py:590: RuntimeWarning: All-NaN slice encountered\n",
      "  maxval = np.nanmax(new_x_loaded)\n"
     ]
    },
    {
     "name": "stdout",
     "output_type": "stream",
     "text": [
      "Offshore wind turbines\n",
      "Downloaded 830.84 kB for location (56.03255023092989, 7.9537215245273325)\n"
     ]
    },
    {
     "name": "stderr",
     "output_type": "stream",
     "text": [
      "/opt/homebrew/Caskroom/miniforge/base/envs/windisch/lib/python3.11/site-packages/xarray/core/missing.py:589: RuntimeWarning: All-NaN slice encountered\n",
      "  minval = np.nanmin(new_x_loaded)\n",
      "/opt/homebrew/Caskroom/miniforge/base/envs/windisch/lib/python3.11/site-packages/xarray/core/missing.py:590: RuntimeWarning: All-NaN slice encountered\n",
      "  maxval = np.nanmax(new_x_loaded)\n"
     ]
    },
    {
     "name": "stdout",
     "output_type": "stream",
     "text": [
      "Offshore wind turbines\n",
      "Downloaded 830.84 kB for location (56.02641209019048, 7.953741638317083)\n"
     ]
    },
    {
     "name": "stderr",
     "output_type": "stream",
     "text": [
      "/opt/homebrew/Caskroom/miniforge/base/envs/windisch/lib/python3.11/site-packages/xarray/core/missing.py:589: RuntimeWarning: All-NaN slice encountered\n",
      "  minval = np.nanmin(new_x_loaded)\n",
      "/opt/homebrew/Caskroom/miniforge/base/envs/windisch/lib/python3.11/site-packages/xarray/core/missing.py:590: RuntimeWarning: All-NaN slice encountered\n",
      "  maxval = np.nanmax(new_x_loaded)\n"
     ]
    },
    {
     "name": "stdout",
     "output_type": "stream",
     "text": [
      "Offshore wind turbines\n",
      "Downloaded 830.84 kB for location (56.02022348527456, 7.953768600918085)\n"
     ]
    },
    {
     "name": "stderr",
     "output_type": "stream",
     "text": [
      "/opt/homebrew/Caskroom/miniforge/base/envs/windisch/lib/python3.11/site-packages/xarray/core/missing.py:589: RuntimeWarning: All-NaN slice encountered\n",
      "  minval = np.nanmin(new_x_loaded)\n",
      "/opt/homebrew/Caskroom/miniforge/base/envs/windisch/lib/python3.11/site-packages/xarray/core/missing.py:590: RuntimeWarning: All-NaN slice encountered\n",
      "  maxval = np.nanmax(new_x_loaded)\n"
     ]
    },
    {
     "name": "stdout",
     "output_type": "stream",
     "text": [
      "Offshore wind turbines\n",
      "Downloaded 830.84 kB for location (55.66363689608817, 7.7243611445191585)\n"
     ]
    },
    {
     "name": "stderr",
     "output_type": "stream",
     "text": [
      "/opt/homebrew/Caskroom/miniforge/base/envs/windisch/lib/python3.11/site-packages/xarray/core/missing.py:589: RuntimeWarning: All-NaN slice encountered\n",
      "  minval = np.nanmin(new_x_loaded)\n",
      "/opt/homebrew/Caskroom/miniforge/base/envs/windisch/lib/python3.11/site-packages/xarray/core/missing.py:590: RuntimeWarning: All-NaN slice encountered\n",
      "  maxval = np.nanmax(new_x_loaded)\n"
     ]
    },
    {
     "name": "stdout",
     "output_type": "stream",
     "text": [
      "Offshore wind turbines\n",
      "Downloaded 830.84 kB for location (55.655799358540825, 7.701934713042856)\n"
     ]
    },
    {
     "name": "stderr",
     "output_type": "stream",
     "text": [
      "/opt/homebrew/Caskroom/miniforge/base/envs/windisch/lib/python3.11/site-packages/xarray/core/missing.py:589: RuntimeWarning: All-NaN slice encountered\n",
      "  minval = np.nanmin(new_x_loaded)\n",
      "/opt/homebrew/Caskroom/miniforge/base/envs/windisch/lib/python3.11/site-packages/xarray/core/missing.py:590: RuntimeWarning: All-NaN slice encountered\n",
      "  maxval = np.nanmax(new_x_loaded)\n"
     ]
    },
    {
     "name": "stdout",
     "output_type": "stream",
     "text": [
      "Offshore wind turbines\n",
      "Downloaded 830.84 kB for location (55.643664171637525, 7.710106098791352)\n"
     ]
    },
    {
     "name": "stderr",
     "output_type": "stream",
     "text": [
      "/opt/homebrew/Caskroom/miniforge/base/envs/windisch/lib/python3.11/site-packages/xarray/core/missing.py:589: RuntimeWarning: All-NaN slice encountered\n",
      "  minval = np.nanmin(new_x_loaded)\n",
      "/opt/homebrew/Caskroom/miniforge/base/envs/windisch/lib/python3.11/site-packages/xarray/core/missing.py:590: RuntimeWarning: All-NaN slice encountered\n",
      "  maxval = np.nanmax(new_x_loaded)\n"
     ]
    },
    {
     "name": "stdout",
     "output_type": "stream",
     "text": [
      "Offshore wind turbines\n",
      "Downloaded 830.84 kB for location (55.706875567691526, 7.708597257491839)\n"
     ]
    },
    {
     "name": "stderr",
     "output_type": "stream",
     "text": [
      "/opt/homebrew/Caskroom/miniforge/base/envs/windisch/lib/python3.11/site-packages/xarray/core/missing.py:589: RuntimeWarning: All-NaN slice encountered\n",
      "  minval = np.nanmin(new_x_loaded)\n",
      "/opt/homebrew/Caskroom/miniforge/base/envs/windisch/lib/python3.11/site-packages/xarray/core/missing.py:590: RuntimeWarning: All-NaN slice encountered\n",
      "  maxval = np.nanmax(new_x_loaded)\n"
     ]
    },
    {
     "name": "stdout",
     "output_type": "stream",
     "text": [
      "Offshore wind turbines\n",
      "Downloaded 830.84 kB for location (55.69694293524211, 7.709179358760515)\n"
     ]
    },
    {
     "name": "stderr",
     "output_type": "stream",
     "text": [
      "/opt/homebrew/Caskroom/miniforge/base/envs/windisch/lib/python3.11/site-packages/xarray/core/missing.py:589: RuntimeWarning: All-NaN slice encountered\n",
      "  minval = np.nanmin(new_x_loaded)\n",
      "/opt/homebrew/Caskroom/miniforge/base/envs/windisch/lib/python3.11/site-packages/xarray/core/missing.py:590: RuntimeWarning: All-NaN slice encountered\n",
      "  maxval = np.nanmax(new_x_loaded)\n"
     ]
    },
    {
     "name": "stdout",
     "output_type": "stream",
     "text": [
      "Offshore wind turbines\n",
      "Downloaded 830.84 kB for location (55.737316063511315, 7.575647189255997)\n"
     ]
    },
    {
     "name": "stderr",
     "output_type": "stream",
     "text": [
      "/opt/homebrew/Caskroom/miniforge/base/envs/windisch/lib/python3.11/site-packages/xarray/core/missing.py:589: RuntimeWarning: All-NaN slice encountered\n",
      "  minval = np.nanmin(new_x_loaded)\n",
      "/opt/homebrew/Caskroom/miniforge/base/envs/windisch/lib/python3.11/site-packages/xarray/core/missing.py:590: RuntimeWarning: All-NaN slice encountered\n",
      "  maxval = np.nanmax(new_x_loaded)\n"
     ]
    },
    {
     "name": "stdout",
     "output_type": "stream",
     "text": [
      "Offshore wind turbines\n",
      "Downloaded 830.84 kB for location (55.67315517298292, 7.719360510082139)\n"
     ]
    },
    {
     "name": "stderr",
     "output_type": "stream",
     "text": [
      "/opt/homebrew/Caskroom/miniforge/base/envs/windisch/lib/python3.11/site-packages/xarray/core/missing.py:589: RuntimeWarning: All-NaN slice encountered\n",
      "  minval = np.nanmin(new_x_loaded)\n",
      "/opt/homebrew/Caskroom/miniforge/base/envs/windisch/lib/python3.11/site-packages/xarray/core/missing.py:590: RuntimeWarning: All-NaN slice encountered\n",
      "  maxval = np.nanmax(new_x_loaded)\n"
     ]
    },
    {
     "name": "stdout",
     "output_type": "stream",
     "text": [
      "Offshore wind turbines\n",
      "Downloaded 830.84 kB for location (55.728120181178745, 7.6012057809149685)\n"
     ]
    },
    {
     "name": "stderr",
     "output_type": "stream",
     "text": [
      "/opt/homebrew/Caskroom/miniforge/base/envs/windisch/lib/python3.11/site-packages/xarray/core/missing.py:589: RuntimeWarning: All-NaN slice encountered\n",
      "  minval = np.nanmin(new_x_loaded)\n",
      "/opt/homebrew/Caskroom/miniforge/base/envs/windisch/lib/python3.11/site-packages/xarray/core/missing.py:590: RuntimeWarning: All-NaN slice encountered\n",
      "  maxval = np.nanmax(new_x_loaded)\n"
     ]
    },
    {
     "name": "stdout",
     "output_type": "stream",
     "text": [
      "Offshore wind turbines\n",
      "Downloaded 830.84 kB for location (55.6543090719016, 7.730418025970695)\n"
     ]
    },
    {
     "name": "stderr",
     "output_type": "stream",
     "text": [
      "/opt/homebrew/Caskroom/miniforge/base/envs/windisch/lib/python3.11/site-packages/xarray/core/missing.py:589: RuntimeWarning: All-NaN slice encountered\n",
      "  minval = np.nanmin(new_x_loaded)\n",
      "/opt/homebrew/Caskroom/miniforge/base/envs/windisch/lib/python3.11/site-packages/xarray/core/missing.py:590: RuntimeWarning: All-NaN slice encountered\n",
      "  maxval = np.nanmax(new_x_loaded)\n"
     ]
    },
    {
     "name": "stdout",
     "output_type": "stream",
     "text": [
      "Offshore wind turbines\n",
      "Downloaded 830.84 kB for location (55.68427855204728, 7.742680911231624)\n"
     ]
    },
    {
     "name": "stderr",
     "output_type": "stream",
     "text": [
      "/opt/homebrew/Caskroom/miniforge/base/envs/windisch/lib/python3.11/site-packages/xarray/core/missing.py:589: RuntimeWarning: All-NaN slice encountered\n",
      "  minval = np.nanmin(new_x_loaded)\n",
      "/opt/homebrew/Caskroom/miniforge/base/envs/windisch/lib/python3.11/site-packages/xarray/core/missing.py:590: RuntimeWarning: All-NaN slice encountered\n",
      "  maxval = np.nanmax(new_x_loaded)\n"
     ]
    },
    {
     "name": "stdout",
     "output_type": "stream",
     "text": [
      "Offshore wind turbines\n",
      "Downloaded 830.84 kB for location (55.67417871500881, 7.747139343214105)\n"
     ]
    },
    {
     "name": "stderr",
     "output_type": "stream",
     "text": [
      "/opt/homebrew/Caskroom/miniforge/base/envs/windisch/lib/python3.11/site-packages/xarray/core/missing.py:589: RuntimeWarning: All-NaN slice encountered\n",
      "  minval = np.nanmin(new_x_loaded)\n",
      "/opt/homebrew/Caskroom/miniforge/base/envs/windisch/lib/python3.11/site-packages/xarray/core/missing.py:590: RuntimeWarning: All-NaN slice encountered\n",
      "  maxval = np.nanmax(new_x_loaded)\n"
     ]
    },
    {
     "name": "stdout",
     "output_type": "stream",
     "text": [
      "Offshore wind turbines\n",
      "Downloaded 830.84 kB for location (55.66465927699646, 7.75213338548937)\n"
     ]
    },
    {
     "name": "stderr",
     "output_type": "stream",
     "text": [
      "/opt/homebrew/Caskroom/miniforge/base/envs/windisch/lib/python3.11/site-packages/xarray/core/missing.py:589: RuntimeWarning: All-NaN slice encountered\n",
      "  minval = np.nanmin(new_x_loaded)\n",
      "/opt/homebrew/Caskroom/miniforge/base/envs/windisch/lib/python3.11/site-packages/xarray/core/missing.py:590: RuntimeWarning: All-NaN slice encountered\n",
      "  maxval = np.nanmax(new_x_loaded)\n"
     ]
    },
    {
     "name": "stdout",
     "output_type": "stream",
     "text": [
      "Offshore wind turbines\n",
      "Downloaded 830.84 kB for location (55.68250893048322, 7.772941549586679)\n"
     ]
    },
    {
     "name": "stderr",
     "output_type": "stream",
     "text": [
      "/opt/homebrew/Caskroom/miniforge/base/envs/windisch/lib/python3.11/site-packages/xarray/core/missing.py:589: RuntimeWarning: All-NaN slice encountered\n",
      "  minval = np.nanmin(new_x_loaded)\n",
      "/opt/homebrew/Caskroom/miniforge/base/envs/windisch/lib/python3.11/site-packages/xarray/core/missing.py:590: RuntimeWarning: All-NaN slice encountered\n",
      "  maxval = np.nanmax(new_x_loaded)\n"
     ]
    },
    {
     "name": "stdout",
     "output_type": "stream",
     "text": [
      "Offshore wind turbines\n",
      "Downloaded 830.84 kB for location (55.67904987379271, 7.687010302658375)\n"
     ]
    },
    {
     "name": "stderr",
     "output_type": "stream",
     "text": [
      "/opt/homebrew/Caskroom/miniforge/base/envs/windisch/lib/python3.11/site-packages/xarray/core/missing.py:589: RuntimeWarning: All-NaN slice encountered\n",
      "  minval = np.nanmin(new_x_loaded)\n",
      "/opt/homebrew/Caskroom/miniforge/base/envs/windisch/lib/python3.11/site-packages/xarray/core/missing.py:590: RuntimeWarning: All-NaN slice encountered\n",
      "  maxval = np.nanmax(new_x_loaded)\n"
     ]
    },
    {
     "name": "stdout",
     "output_type": "stream",
     "text": [
      "Offshore wind turbines\n",
      "Downloaded 830.84 kB for location (55.66833360590168, 7.6941582935077175)\n"
     ]
    },
    {
     "name": "stderr",
     "output_type": "stream",
     "text": [
      "/opt/homebrew/Caskroom/miniforge/base/envs/windisch/lib/python3.11/site-packages/xarray/core/missing.py:589: RuntimeWarning: All-NaN slice encountered\n",
      "  minval = np.nanmin(new_x_loaded)\n",
      "/opt/homebrew/Caskroom/miniforge/base/envs/windisch/lib/python3.11/site-packages/xarray/core/missing.py:590: RuntimeWarning: All-NaN slice encountered\n",
      "  maxval = np.nanmax(new_x_loaded)\n"
     ]
    },
    {
     "name": "stdout",
     "output_type": "stream",
     "text": [
      "Offshore wind turbines\n",
      "Downloaded 830.84 kB for location (55.682980311765675, 7.714506393744961)\n"
     ]
    },
    {
     "name": "stderr",
     "output_type": "stream",
     "text": [
      "/opt/homebrew/Caskroom/miniforge/base/envs/windisch/lib/python3.11/site-packages/xarray/core/missing.py:589: RuntimeWarning: All-NaN slice encountered\n",
      "  minval = np.nanmin(new_x_loaded)\n",
      "/opt/homebrew/Caskroom/miniforge/base/envs/windisch/lib/python3.11/site-packages/xarray/core/missing.py:590: RuntimeWarning: All-NaN slice encountered\n",
      "  maxval = np.nanmax(new_x_loaded)\n"
     ]
    },
    {
     "name": "stdout",
     "output_type": "stream",
     "text": [
      "Offshore wind turbines\n",
      "Downloaded 830.84 kB for location (55.70150067973771, 7.683106859855637)\n"
     ]
    },
    {
     "name": "stderr",
     "output_type": "stream",
     "text": [
      "/opt/homebrew/Caskroom/miniforge/base/envs/windisch/lib/python3.11/site-packages/xarray/core/missing.py:589: RuntimeWarning: All-NaN slice encountered\n",
      "  minval = np.nanmin(new_x_loaded)\n",
      "/opt/homebrew/Caskroom/miniforge/base/envs/windisch/lib/python3.11/site-packages/xarray/core/missing.py:590: RuntimeWarning: All-NaN slice encountered\n",
      "  maxval = np.nanmax(new_x_loaded)\n"
     ]
    },
    {
     "name": "stdout",
     "output_type": "stream",
     "text": [
      "Offshore wind turbines\n",
      "Downloaded 830.84 kB for location (55.670055504179395, 7.636001256083563)\n"
     ]
    },
    {
     "name": "stderr",
     "output_type": "stream",
     "text": [
      "/opt/homebrew/Caskroom/miniforge/base/envs/windisch/lib/python3.11/site-packages/xarray/core/missing.py:589: RuntimeWarning: All-NaN slice encountered\n",
      "  minval = np.nanmin(new_x_loaded)\n",
      "/opt/homebrew/Caskroom/miniforge/base/envs/windisch/lib/python3.11/site-packages/xarray/core/missing.py:590: RuntimeWarning: All-NaN slice encountered\n",
      "  maxval = np.nanmax(new_x_loaded)\n"
     ]
    },
    {
     "name": "stdout",
     "output_type": "stream",
     "text": [
      "Offshore wind turbines\n",
      "Downloaded 830.84 kB for location (55.69941797852423, 7.62749996200328)\n"
     ]
    },
    {
     "name": "stderr",
     "output_type": "stream",
     "text": [
      "/opt/homebrew/Caskroom/miniforge/base/envs/windisch/lib/python3.11/site-packages/xarray/core/missing.py:589: RuntimeWarning: All-NaN slice encountered\n",
      "  minval = np.nanmin(new_x_loaded)\n",
      "/opt/homebrew/Caskroom/miniforge/base/envs/windisch/lib/python3.11/site-packages/xarray/core/missing.py:590: RuntimeWarning: All-NaN slice encountered\n",
      "  maxval = np.nanmax(new_x_loaded)\n"
     ]
    },
    {
     "name": "stdout",
     "output_type": "stream",
     "text": [
      "Offshore wind turbines\n",
      "Downloaded 830.84 kB for location (55.71143297688159, 7.682502148472695)\n"
     ]
    },
    {
     "name": "stderr",
     "output_type": "stream",
     "text": [
      "/opt/homebrew/Caskroom/miniforge/base/envs/windisch/lib/python3.11/site-packages/xarray/core/missing.py:589: RuntimeWarning: All-NaN slice encountered\n",
      "  minval = np.nanmin(new_x_loaded)\n",
      "/opt/homebrew/Caskroom/miniforge/base/envs/windisch/lib/python3.11/site-packages/xarray/core/missing.py:590: RuntimeWarning: All-NaN slice encountered\n",
      "  maxval = np.nanmax(new_x_loaded)\n"
     ]
    },
    {
     "name": "stdout",
     "output_type": "stream",
     "text": [
      "Offshore wind turbines\n",
      "Downloaded 830.84 kB for location (55.729170814510596, 7.6290359839539486)\n"
     ]
    },
    {
     "name": "stderr",
     "output_type": "stream",
     "text": [
      "/opt/homebrew/Caskroom/miniforge/base/envs/windisch/lib/python3.11/site-packages/xarray/core/missing.py:589: RuntimeWarning: All-NaN slice encountered\n",
      "  minval = np.nanmin(new_x_loaded)\n",
      "/opt/homebrew/Caskroom/miniforge/base/envs/windisch/lib/python3.11/site-packages/xarray/core/missing.py:590: RuntimeWarning: All-NaN slice encountered\n",
      "  maxval = np.nanmax(new_x_loaded)\n"
     ]
    },
    {
     "name": "stdout",
     "output_type": "stream",
     "text": [
      "Offshore wind turbines\n",
      "Downloaded 830.84 kB for location (55.738978497328524, 7.6317822558643575)\n"
     ]
    },
    {
     "name": "stderr",
     "output_type": "stream",
     "text": [
      "/opt/homebrew/Caskroom/miniforge/base/envs/windisch/lib/python3.11/site-packages/xarray/core/missing.py:589: RuntimeWarning: All-NaN slice encountered\n",
      "  minval = np.nanmin(new_x_loaded)\n",
      "/opt/homebrew/Caskroom/miniforge/base/envs/windisch/lib/python3.11/site-packages/xarray/core/missing.py:590: RuntimeWarning: All-NaN slice encountered\n",
      "  maxval = np.nanmax(new_x_loaded)\n"
     ]
    },
    {
     "name": "stdout",
     "output_type": "stream",
     "text": [
      "Offshore wind turbines\n",
      "Downloaded 830.84 kB for location (55.678685221809516, 7.604274814276844)\n"
     ]
    },
    {
     "name": "stderr",
     "output_type": "stream",
     "text": [
      "/opt/homebrew/Caskroom/miniforge/base/envs/windisch/lib/python3.11/site-packages/xarray/core/missing.py:589: RuntimeWarning: All-NaN slice encountered\n",
      "  minval = np.nanmin(new_x_loaded)\n",
      "/opt/homebrew/Caskroom/miniforge/base/envs/windisch/lib/python3.11/site-packages/xarray/core/missing.py:590: RuntimeWarning: All-NaN slice encountered\n",
      "  maxval = np.nanmax(new_x_loaded)\n"
     ]
    },
    {
     "name": "stdout",
     "output_type": "stream",
     "text": [
      "Offshore wind turbines\n",
      "Downloaded 830.84 kB for location (55.6884839262953, 7.601428203754011)\n"
     ]
    },
    {
     "name": "stderr",
     "output_type": "stream",
     "text": [
      "/opt/homebrew/Caskroom/miniforge/base/envs/windisch/lib/python3.11/site-packages/xarray/core/missing.py:589: RuntimeWarning: All-NaN slice encountered\n",
      "  minval = np.nanmin(new_x_loaded)\n",
      "/opt/homebrew/Caskroom/miniforge/base/envs/windisch/lib/python3.11/site-packages/xarray/core/missing.py:590: RuntimeWarning: All-NaN slice encountered\n",
      "  maxval = np.nanmax(new_x_loaded)\n"
     ]
    },
    {
     "name": "stdout",
     "output_type": "stream",
     "text": [
      "Offshore wind turbines\n",
      "Downloaded 830.84 kB for location (55.69837608868186, 7.599690618504241)\n"
     ]
    },
    {
     "name": "stderr",
     "output_type": "stream",
     "text": [
      "/opt/homebrew/Caskroom/miniforge/base/envs/windisch/lib/python3.11/site-packages/xarray/core/missing.py:589: RuntimeWarning: All-NaN slice encountered\n",
      "  minval = np.nanmin(new_x_loaded)\n",
      "/opt/homebrew/Caskroom/miniforge/base/envs/windisch/lib/python3.11/site-packages/xarray/core/missing.py:590: RuntimeWarning: All-NaN slice encountered\n",
      "  maxval = np.nanmax(new_x_loaded)\n"
     ]
    },
    {
     "name": "stdout",
     "output_type": "stream",
     "text": [
      "Offshore wind turbines\n",
      "Downloaded 830.84 kB for location (55.708299062737005, 7.59908104416217)\n"
     ]
    },
    {
     "name": "stderr",
     "output_type": "stream",
     "text": [
      "/opt/homebrew/Caskroom/miniforge/base/envs/windisch/lib/python3.11/site-packages/xarray/core/missing.py:589: RuntimeWarning: All-NaN slice encountered\n",
      "  minval = np.nanmin(new_x_loaded)\n",
      "/opt/homebrew/Caskroom/miniforge/base/envs/windisch/lib/python3.11/site-packages/xarray/core/missing.py:590: RuntimeWarning: All-NaN slice encountered\n",
      "  maxval = np.nanmax(new_x_loaded)\n"
     ]
    },
    {
     "name": "stdout",
     "output_type": "stream",
     "text": [
      "Offshore wind turbines\n",
      "Downloaded 830.84 kB for location (55.7182257402047, 7.599585387298488)\n"
     ]
    },
    {
     "name": "stderr",
     "output_type": "stream",
     "text": [
      "/opt/homebrew/Caskroom/miniforge/base/envs/windisch/lib/python3.11/site-packages/xarray/core/missing.py:589: RuntimeWarning: All-NaN slice encountered\n",
      "  minval = np.nanmin(new_x_loaded)\n",
      "/opt/homebrew/Caskroom/miniforge/base/envs/windisch/lib/python3.11/site-packages/xarray/core/missing.py:590: RuntimeWarning: All-NaN slice encountered\n",
      "  maxval = np.nanmax(new_x_loaded)\n"
     ]
    },
    {
     "name": "stdout",
     "output_type": "stream",
     "text": [
      "Offshore wind turbines\n",
      "Downloaded 830.84 kB for location (55.736035456938815, 7.55067193837288)\n"
     ]
    },
    {
     "name": "stderr",
     "output_type": "stream",
     "text": [
      "/opt/homebrew/Caskroom/miniforge/base/envs/windisch/lib/python3.11/site-packages/xarray/core/missing.py:589: RuntimeWarning: All-NaN slice encountered\n",
      "  minval = np.nanmin(new_x_loaded)\n",
      "/opt/homebrew/Caskroom/miniforge/base/envs/windisch/lib/python3.11/site-packages/xarray/core/missing.py:590: RuntimeWarning: All-NaN slice encountered\n",
      "  maxval = np.nanmax(new_x_loaded)\n"
     ]
    },
    {
     "name": "stdout",
     "output_type": "stream",
     "text": [
      "Offshore wind turbines\n",
      "Downloaded 830.84 kB for location (55.72575097758623, 7.553377753715934)\n"
     ]
    },
    {
     "name": "stderr",
     "output_type": "stream",
     "text": [
      "/opt/homebrew/Caskroom/miniforge/base/envs/windisch/lib/python3.11/site-packages/xarray/core/missing.py:589: RuntimeWarning: All-NaN slice encountered\n",
      "  minval = np.nanmin(new_x_loaded)\n",
      "/opt/homebrew/Caskroom/miniforge/base/envs/windisch/lib/python3.11/site-packages/xarray/core/missing.py:590: RuntimeWarning: All-NaN slice encountered\n",
      "  maxval = np.nanmax(new_x_loaded)\n"
     ]
    },
    {
     "name": "stdout",
     "output_type": "stream",
     "text": [
      "Offshore wind turbines\n",
      "Downloaded 830.84 kB for location (55.71669032477995, 7.5615928511921116)\n"
     ]
    },
    {
     "name": "stderr",
     "output_type": "stream",
     "text": [
      "/opt/homebrew/Caskroom/miniforge/base/envs/windisch/lib/python3.11/site-packages/xarray/core/missing.py:589: RuntimeWarning: All-NaN slice encountered\n",
      "  minval = np.nanmin(new_x_loaded)\n",
      "/opt/homebrew/Caskroom/miniforge/base/envs/windisch/lib/python3.11/site-packages/xarray/core/missing.py:590: RuntimeWarning: All-NaN slice encountered\n",
      "  maxval = np.nanmax(new_x_loaded)\n"
     ]
    },
    {
     "name": "stdout",
     "output_type": "stream",
     "text": [
      "Offshore wind turbines\n",
      "Downloaded 830.84 kB for location (55.70703243253463, 7.568727743080409)\n"
     ]
    },
    {
     "name": "stderr",
     "output_type": "stream",
     "text": [
      "/opt/homebrew/Caskroom/miniforge/base/envs/windisch/lib/python3.11/site-packages/xarray/core/missing.py:589: RuntimeWarning: All-NaN slice encountered\n",
      "  minval = np.nanmin(new_x_loaded)\n",
      "/opt/homebrew/Caskroom/miniforge/base/envs/windisch/lib/python3.11/site-packages/xarray/core/missing.py:590: RuntimeWarning: All-NaN slice encountered\n",
      "  maxval = np.nanmax(new_x_loaded)\n"
     ]
    },
    {
     "name": "stdout",
     "output_type": "stream",
     "text": [
      "Offshore wind turbines\n",
      "Downloaded 830.84 kB for location (55.69731911097384, 7.571899095997834)\n"
     ]
    },
    {
     "name": "stderr",
     "output_type": "stream",
     "text": [
      "/opt/homebrew/Caskroom/miniforge/base/envs/windisch/lib/python3.11/site-packages/xarray/core/missing.py:589: RuntimeWarning: All-NaN slice encountered\n",
      "  minval = np.nanmin(new_x_loaded)\n",
      "/opt/homebrew/Caskroom/miniforge/base/envs/windisch/lib/python3.11/site-packages/xarray/core/missing.py:590: RuntimeWarning: All-NaN slice encountered\n",
      "  maxval = np.nanmax(new_x_loaded)\n"
     ]
    },
    {
     "name": "stdout",
     "output_type": "stream",
     "text": [
      "Offshore wind turbines\n",
      "Downloaded 830.84 kB for location (55.6874273783904, 7.573643640536567)\n"
     ]
    },
    {
     "name": "stderr",
     "output_type": "stream",
     "text": [
      "/opt/homebrew/Caskroom/miniforge/base/envs/windisch/lib/python3.11/site-packages/xarray/core/missing.py:589: RuntimeWarning: All-NaN slice encountered\n",
      "  minval = np.nanmin(new_x_loaded)\n",
      "/opt/homebrew/Caskroom/miniforge/base/envs/windisch/lib/python3.11/site-packages/xarray/core/missing.py:590: RuntimeWarning: All-NaN slice encountered\n",
      "  maxval = np.nanmax(new_x_loaded)\n"
     ]
    },
    {
     "name": "stdout",
     "output_type": "stream",
     "text": [
      "Offshore wind turbines\n",
      "Downloaded 830.84 kB for location (55.67973498837794, 7.63207001735043)\n"
     ]
    },
    {
     "name": "stderr",
     "output_type": "stream",
     "text": [
      "/opt/homebrew/Caskroom/miniforge/base/envs/windisch/lib/python3.11/site-packages/xarray/core/missing.py:589: RuntimeWarning: All-NaN slice encountered\n",
      "  minval = np.nanmin(new_x_loaded)\n",
      "/opt/homebrew/Caskroom/miniforge/base/envs/windisch/lib/python3.11/site-packages/xarray/core/missing.py:590: RuntimeWarning: All-NaN slice encountered\n",
      "  maxval = np.nanmax(new_x_loaded)\n"
     ]
    },
    {
     "name": "stdout",
     "output_type": "stream",
     "text": [
      "Offshore wind turbines\n",
      "Downloaded 830.84 kB for location (55.70934993010149, 7.626881188314232)\n"
     ]
    },
    {
     "name": "stderr",
     "output_type": "stream",
     "text": [
      "/opt/homebrew/Caskroom/miniforge/base/envs/windisch/lib/python3.11/site-packages/xarray/core/missing.py:589: RuntimeWarning: All-NaN slice encountered\n",
      "  minval = np.nanmin(new_x_loaded)\n",
      "/opt/homebrew/Caskroom/miniforge/base/envs/windisch/lib/python3.11/site-packages/xarray/core/missing.py:590: RuntimeWarning: All-NaN slice encountered\n",
      "  maxval = np.nanmax(new_x_loaded)\n"
     ]
    },
    {
     "name": "stdout",
     "output_type": "stream",
     "text": [
      "Offshore wind turbines\n",
      "Downloaded 830.84 kB for location (55.660531917855316, 7.641037860237212)\n"
     ]
    },
    {
     "name": "stderr",
     "output_type": "stream",
     "text": [
      "/opt/homebrew/Caskroom/miniforge/base/envs/windisch/lib/python3.11/site-packages/xarray/core/missing.py:589: RuntimeWarning: All-NaN slice encountered\n",
      "  minval = np.nanmin(new_x_loaded)\n",
      "/opt/homebrew/Caskroom/miniforge/base/envs/windisch/lib/python3.11/site-packages/xarray/core/missing.py:590: RuntimeWarning: All-NaN slice encountered\n",
      "  maxval = np.nanmax(new_x_loaded)\n"
     ]
    },
    {
     "name": "stdout",
     "output_type": "stream",
     "text": [
      "Offshore wind turbines\n",
      "Downloaded 830.84 kB for location (55.69057835356876, 7.657018017304388)\n"
     ]
    },
    {
     "name": "stderr",
     "output_type": "stream",
     "text": [
      "/opt/homebrew/Caskroom/miniforge/base/envs/windisch/lib/python3.11/site-packages/xarray/core/missing.py:589: RuntimeWarning: All-NaN slice encountered\n",
      "  minval = np.nanmin(new_x_loaded)\n",
      "/opt/homebrew/Caskroom/miniforge/base/envs/windisch/lib/python3.11/site-packages/xarray/core/missing.py:590: RuntimeWarning: All-NaN slice encountered\n",
      "  maxval = np.nanmax(new_x_loaded)\n"
     ]
    },
    {
     "name": "stdout",
     "output_type": "stream",
     "text": [
      "Offshore wind turbines\n",
      "Downloaded 830.84 kB for location (55.72135940879975, 7.6830276856882325)\n"
     ]
    },
    {
     "name": "stderr",
     "output_type": "stream",
     "text": [
      "/opt/homebrew/Caskroom/miniforge/base/envs/windisch/lib/python3.11/site-packages/xarray/core/missing.py:589: RuntimeWarning: All-NaN slice encountered\n",
      "  minval = np.nanmin(new_x_loaded)\n",
      "/opt/homebrew/Caskroom/miniforge/base/envs/windisch/lib/python3.11/site-packages/xarray/core/missing.py:590: RuntimeWarning: All-NaN slice encountered\n",
      "  maxval = np.nanmax(new_x_loaded)\n"
     ]
    },
    {
     "name": "stdout",
     "output_type": "stream",
     "text": [
      "Offshore wind turbines\n",
      "Downloaded 830.84 kB for location (55.73125301638465, 7.68468523814456)\n"
     ]
    },
    {
     "name": "stderr",
     "output_type": "stream",
     "text": [
      "/opt/homebrew/Caskroom/miniforge/base/envs/windisch/lib/python3.11/site-packages/xarray/core/missing.py:589: RuntimeWarning: All-NaN slice encountered\n",
      "  minval = np.nanmin(new_x_loaded)\n",
      "/opt/homebrew/Caskroom/miniforge/base/envs/windisch/lib/python3.11/site-packages/xarray/core/missing.py:590: RuntimeWarning: All-NaN slice encountered\n",
      "  maxval = np.nanmax(new_x_loaded)\n"
     ]
    },
    {
     "name": "stdout",
     "output_type": "stream",
     "text": [
      "Offshore wind turbines\n",
      "Downloaded 830.84 kB for location (55.7410595201956, 7.687445624489009)\n"
     ]
    },
    {
     "name": "stderr",
     "output_type": "stream",
     "text": [
      "/opt/homebrew/Caskroom/miniforge/base/envs/windisch/lib/python3.11/site-packages/xarray/core/missing.py:589: RuntimeWarning: All-NaN slice encountered\n",
      "  minval = np.nanmin(new_x_loaded)\n",
      "/opt/homebrew/Caskroom/miniforge/base/envs/windisch/lib/python3.11/site-packages/xarray/core/missing.py:590: RuntimeWarning: All-NaN slice encountered\n",
      "  maxval = np.nanmax(new_x_loaded)\n"
     ]
    },
    {
     "name": "stdout",
     "output_type": "stream",
     "text": [
      "Offshore wind turbines\n",
      "Downloaded 830.84 kB for location (55.63435833376124, 7.690125769077312)\n"
     ]
    },
    {
     "name": "stderr",
     "output_type": "stream",
     "text": [
      "/opt/homebrew/Caskroom/miniforge/base/envs/windisch/lib/python3.11/site-packages/xarray/core/missing.py:589: RuntimeWarning: All-NaN slice encountered\n",
      "  minval = np.nanmin(new_x_loaded)\n",
      "/opt/homebrew/Caskroom/miniforge/base/envs/windisch/lib/python3.11/site-packages/xarray/core/missing.py:590: RuntimeWarning: All-NaN slice encountered\n",
      "  maxval = np.nanmax(new_x_loaded)\n"
     ]
    },
    {
     "name": "stdout",
     "output_type": "stream",
     "text": [
      "Offshore wind turbines\n",
      "Error: HTTPSConnectionPool(host='wps.neweuropeanwindatlas.eu', port=443): Read timed out. (read timeout=25). Retrying (1/10)...\n",
      "Downloaded 830.84 kB for location (55.6431677615122, 7.681998304392809)\n"
     ]
    },
    {
     "name": "stderr",
     "output_type": "stream",
     "text": [
      "/opt/homebrew/Caskroom/miniforge/base/envs/windisch/lib/python3.11/site-packages/xarray/core/missing.py:589: RuntimeWarning: All-NaN slice encountered\n",
      "  minval = np.nanmin(new_x_loaded)\n",
      "/opt/homebrew/Caskroom/miniforge/base/envs/windisch/lib/python3.11/site-packages/xarray/core/missing.py:590: RuntimeWarning: All-NaN slice encountered\n",
      "  maxval = np.nanmax(new_x_loaded)\n"
     ]
    },
    {
     "name": "stdout",
     "output_type": "stream",
     "text": [
      "Offshore wind turbines\n",
      "Downloaded 830.84 kB for location (55.65225726706751, 7.674890729869016)\n"
     ]
    },
    {
     "name": "stderr",
     "output_type": "stream",
     "text": [
      "/opt/homebrew/Caskroom/miniforge/base/envs/windisch/lib/python3.11/site-packages/xarray/core/missing.py:589: RuntimeWarning: All-NaN slice encountered\n",
      "  minval = np.nanmin(new_x_loaded)\n",
      "/opt/homebrew/Caskroom/miniforge/base/envs/windisch/lib/python3.11/site-packages/xarray/core/missing.py:590: RuntimeWarning: All-NaN slice encountered\n",
      "  maxval = np.nanmax(new_x_loaded)\n"
     ]
    },
    {
     "name": "stdout",
     "output_type": "stream",
     "text": [
      "Offshore wind turbines\n",
      "Downloaded 830.84 kB for location (55.67109806193542, 7.6637913051750255)\n"
     ]
    },
    {
     "name": "stderr",
     "output_type": "stream",
     "text": [
      "/opt/homebrew/Caskroom/miniforge/base/envs/windisch/lib/python3.11/site-packages/xarray/core/missing.py:589: RuntimeWarning: All-NaN slice encountered\n",
      "  minval = np.nanmin(new_x_loaded)\n",
      "/opt/homebrew/Caskroom/miniforge/base/envs/windisch/lib/python3.11/site-packages/xarray/core/missing.py:590: RuntimeWarning: All-NaN slice encountered\n",
      "  maxval = np.nanmax(new_x_loaded)\n"
     ]
    },
    {
     "name": "stdout",
     "output_type": "stream",
     "text": [
      "Offshore wind turbines\n",
      "Downloaded 830.84 kB for location (55.66157313136281, 7.668805425273567)\n"
     ]
    },
    {
     "name": "stderr",
     "output_type": "stream",
     "text": [
      "/opt/homebrew/Caskroom/miniforge/base/envs/windisch/lib/python3.11/site-packages/xarray/core/missing.py:589: RuntimeWarning: All-NaN slice encountered\n",
      "  minval = np.nanmin(new_x_loaded)\n",
      "/opt/homebrew/Caskroom/miniforge/base/envs/windisch/lib/python3.11/site-packages/xarray/core/missing.py:590: RuntimeWarning: All-NaN slice encountered\n",
      "  maxval = np.nanmax(new_x_loaded)\n"
     ]
    },
    {
     "name": "stdout",
     "output_type": "stream",
     "text": [
      "Offshore wind turbines\n",
      "Downloaded 830.84 kB for location (55.74002224431473, 7.6596211109858245)\n"
     ]
    },
    {
     "name": "stderr",
     "output_type": "stream",
     "text": [
      "/opt/homebrew/Caskroom/miniforge/base/envs/windisch/lib/python3.11/site-packages/xarray/core/missing.py:589: RuntimeWarning: All-NaN slice encountered\n",
      "  minval = np.nanmin(new_x_loaded)\n",
      "/opt/homebrew/Caskroom/miniforge/base/envs/windisch/lib/python3.11/site-packages/xarray/core/missing.py:590: RuntimeWarning: All-NaN slice encountered\n",
      "  maxval = np.nanmax(new_x_loaded)\n"
     ]
    },
    {
     "name": "stdout",
     "output_type": "stream",
     "text": [
      "Offshore wind turbines\n",
      "Downloaded 830.84 kB for location (55.7302149759367, 7.656851861003414)\n"
     ]
    },
    {
     "name": "stderr",
     "output_type": "stream",
     "text": [
      "/opt/homebrew/Caskroom/miniforge/base/envs/windisch/lib/python3.11/site-packages/xarray/core/missing.py:589: RuntimeWarning: All-NaN slice encountered\n",
      "  minval = np.nanmin(new_x_loaded)\n",
      "/opt/homebrew/Caskroom/miniforge/base/envs/windisch/lib/python3.11/site-packages/xarray/core/missing.py:590: RuntimeWarning: All-NaN slice encountered\n",
      "  maxval = np.nanmax(new_x_loaded)\n"
     ]
    },
    {
     "name": "stdout",
     "output_type": "stream",
     "text": [
      "Offshore wind turbines\n",
      "Downloaded 830.84 kB for location (55.720321201898024, 7.655217306740489)\n"
     ]
    },
    {
     "name": "stderr",
     "output_type": "stream",
     "text": [
      "/opt/homebrew/Caskroom/miniforge/base/envs/windisch/lib/python3.11/site-packages/xarray/core/missing.py:589: RuntimeWarning: All-NaN slice encountered\n",
      "  minval = np.nanmin(new_x_loaded)\n",
      "/opt/homebrew/Caskroom/miniforge/base/envs/windisch/lib/python3.11/site-packages/xarray/core/missing.py:590: RuntimeWarning: All-NaN slice encountered\n",
      "  maxval = np.nanmax(new_x_loaded)\n"
     ]
    },
    {
     "name": "stdout",
     "output_type": "stream",
     "text": [
      "Offshore wind turbines\n",
      "Downloaded 830.84 kB for location (55.73792863105417, 7.603960915005622)\n"
     ]
    },
    {
     "name": "stderr",
     "output_type": "stream",
     "text": [
      "/opt/homebrew/Caskroom/miniforge/base/envs/windisch/lib/python3.11/site-packages/xarray/core/missing.py:589: RuntimeWarning: All-NaN slice encountered\n",
      "  minval = np.nanmin(new_x_loaded)\n",
      "/opt/homebrew/Caskroom/miniforge/base/envs/windisch/lib/python3.11/site-packages/xarray/core/missing.py:590: RuntimeWarning: All-NaN slice encountered\n",
      "  maxval = np.nanmax(new_x_loaded)\n"
     ]
    },
    {
     "name": "stdout",
     "output_type": "stream",
     "text": [
      "Offshore wind turbines\n",
      "Downloaded 830.84 kB for location (57.056958962044426, 8.884025264870193)\n",
      "Onshore wind turbines\n",
      "Downloaded 830.84 kB for location (55.45280520510544, 8.510371088004975)\n",
      "Offshore wind turbines\n",
      "Downloaded 830.84 kB for location (55.451929604605624, 8.518429780308034)\n",
      "Onshore wind turbines\n",
      "Downloaded 830.84 kB for location (57.06537282079246, 8.883346831433135)\n",
      "Onshore wind turbines\n",
      "Downloaded 830.84 kB for location (57.056958962044426, 8.884025264870193)\n",
      "Onshore wind turbines\n",
      "Downloaded 830.84 kB for location (57.05685721763989, 8.884065974337359)\n",
      "Onshore wind turbines\n",
      "Downloaded 830.84 kB for location (56.66483477449755, 8.241502510243556)\n",
      "Offshore wind turbines\n",
      "Downloaded 830.84 kB for location (56.67252475222875, 8.23406973640159)\n",
      "Offshore wind turbines\n",
      "Downloaded 830.84 kB for location (56.66925295088557, 8.256050600603366)\n",
      "Offshore wind turbines\n",
      "Downloaded 830.84 kB for location (56.677079439891585, 8.25175082545469)\n",
      "Offshore wind turbines\n",
      "Downloaded 830.84 kB for location (57.05151206899128, 8.88404966040692)\n",
      "Onshore wind turbines\n",
      "Downloaded 830.84 kB for location (56.43605839278696, 8.150526280326893)\n",
      "Offshore wind turbines\n",
      "Downloaded 830.84 kB for location (56.439645040052476, 8.15080926992227)\n",
      "Onshore wind turbines\n",
      "Downloaded 830.84 kB for location (55.80300611726471, 8.280933812989534)\n",
      "Onshore wind turbines\n",
      "Downloaded 830.84 kB for location (55.80616850068865, 8.268218399771648)\n",
      "Onshore wind turbines\n",
      "Downloaded 830.84 kB for location (55.807802057398185, 8.261647196349633)\n",
      "Onshore wind turbines\n",
      "Downloaded 830.84 kB for location (55.80458690433284, 8.274578766617305)\n",
      "Onshore wind turbines\n",
      "Downloaded 830.84 kB for location (55.80943850604626, 8.25506229917854)\n",
      "Onshore wind turbines\n",
      "Downloaded 830.84 kB for location (57.07309081769106, 8.884708098855429)\n",
      "Onshore wind turbines\n",
      "Downloaded 830.84 kB for location (56.190208231719076, 8.26335339120321)\n",
      "Onshore wind turbines\n",
      "Downloaded 830.84 kB for location (56.18787762169348, 8.266178603836137)\n",
      "Onshore wind turbines\n",
      "Downloaded 830.84 kB for location (56.18545484305751, 8.269123966949808)\n",
      "Onshore wind turbines\n",
      "Downloaded 830.84 kB for location (56.18313474618889, 8.271910578761585)\n",
      "Onshore wind turbines\n",
      "Downloaded 830.84 kB for location (56.18080652928678, 8.274732769137358)\n",
      "Onshore wind turbines\n",
      "Downloaded 830.84 kB for location (56.1784698905973, 8.277539309783412)\n",
      "Onshore wind turbines\n",
      "Downloaded 830.84 kB for location (57.06770018798634, 8.884065154446324)\n",
      "Onshore wind turbines\n",
      "Downloaded 830.84 kB for location (57.08389428747417, 8.883987581637015)\n",
      "Onshore wind turbines\n",
      "Downloaded 830.84 kB for location (56.02276618538015, 8.318344392255062)\n",
      "Onshore wind turbines\n",
      "Downloaded 830.84 kB for location (56.0289206070662, 8.316647361981582)\n",
      "Onshore wind turbines\n",
      "Downloaded 830.84 kB for location (57.0420160007538, 8.883420039866907)\n",
      "Onshore wind turbines\n",
      "Downloaded 830.84 kB for location (56.6685496462539, 8.479654854938332)\n",
      "Onshore wind turbines\n",
      "Downloaded 830.84 kB for location (56.44773059360944, 8.151461973022123)\n",
      "Onshore wind turbines\n",
      "Downloaded 830.84 kB for location (56.67101693617985, 8.476712975882563)\n",
      "Onshore wind turbines\n",
      "Downloaded 830.84 kB for location (56.673484065782674, 8.473770876170944)\n",
      "Onshore wind turbines\n",
      "Downloaded 830.84 kB for location (57.062679529610236, 8.883371603173117)\n",
      "Onshore wind turbines\n",
      "Downloaded 830.84 kB for location (57.078517760287205, 8.884014590410462)\n",
      "Onshore wind turbines\n",
      "Downloaded 830.84 kB for location (57.02167917512887, 9.216594643394789)\n",
      "Onshore wind turbines\n",
      "Downloaded 830.84 kB for location (57.019051813074384, 9.219000450344188)\n",
      "Onshore wind turbines\n",
      "Downloaded 830.84 kB for location (57.00824918634595, 9.221538468269483)\n",
      "Onshore wind turbines\n",
      "Downloaded 830.84 kB for location (57.02412659683355, 9.214319240465072)\n",
      "Onshore wind turbines\n",
      "Downloaded 830.84 kB for location (57.02678084531139, 9.211896456307773)\n",
      "Onshore wind turbines\n",
      "Downloaded 830.84 kB for location (57.02936309626796, 9.209522345947027)\n",
      "Onshore wind turbines\n",
      "Downloaded 830.84 kB for location (57.013859919853594, 9.223762022696562)\n",
      "Onshore wind turbines\n",
      "Downloaded 830.84 kB for location (57.016442399860104, 9.221389556472733)\n",
      "Onshore wind turbines\n",
      "Downloaded 830.83 kB for location (57.02892544422, 9.202518302911061)\n",
      "Onshore wind turbines\n",
      "Downloaded 830.84 kB for location (57.011268380934375, 9.226150572252156)\n",
      "Onshore wind turbines\n",
      "Downloaded 830.84 kB for location (56.44233085934673, 8.151023503104673)\n",
      "Onshore wind turbines\n",
      "Downloaded 830.84 kB for location (57.026334342150115, 9.204892821938712)\n",
      "Onshore wind turbines\n",
      "Downloaded 830.84 kB for location (57.02381514315338, 9.207217995124584)\n",
      "Onshore wind turbines\n"
     ]
    }
   ],
   "source": [
    "dk[\"Predicted load factor\"] = None\n",
    "dk.iloc[:200, -1] = dk.iloc[:200, :].apply(get_load_factor, axis=1)"
   ]
  },
  {
   "cell_type": "code",
   "execution_count": 36,
   "metadata": {},
   "outputs": [
    {
     "data": {
      "text/plain": [
       "<Axes: >"
      ]
     },
     "execution_count": 36,
     "metadata": {},
     "output_type": "execute_result"
    },
    {
     "data": {
      "image/png": "[encoded data removed]",
      "text/plain": [
       "<Figure size 640x480 with 1 Axes>"
      ]
     },
     "metadata": {},
     "output_type": "display_data"
    }
   ],
   "source": [
    "dk.loc[dk[\"Predicted load factor\"] > 0, [\"Load factor\", \"Predicted load factor\"]].plot(kind=\"bar\")"
   ]
  },
  {
   "cell_type": "code",
   "execution_count": 7,
   "metadata": {},
   "outputs": [
    {
     "data": {
      "text/plain": [
       "<Axes: xlabel='size,application'>"
      ]
     },
     "execution_count": 7,
     "metadata": {},
     "output_type": "execute_result"
    },
    {
     "data": {
      "image/png": "[encoded data removed]",
      "text/plain": [
       "<Figure size 640x480 with 1 Axes>"
      ]
     },
     "metadata": {},
     "output_type": "display_data"
    }
   ],
   "source": [
    "list_mass = [\n",
    "    \"rotor mass\",\n",
    "    \"nacelle mass\",\n",
    "    \"tower mass\",\n",
    "    \"electronics mass\",\n",
    "    \"cable mass\",\n",
    "    \"foundation mass\",\n",
    "]\n",
    "wt.array.sel(year=2020, value=0, parameter=list_mass).to_dataframe(\"val\").unstack()[\"val\"].plot(kind=\"bar\", stacked=True)"
   ]
  },
  {
   "cell_type": "code",
   "execution_count": 24,
   "metadata": {},
   "outputs": [
    {
     "data": {
      "text/plain": [
       "Coordinates:\n",
       "  * size         (size) <U6 '1000kW' '100kW' '3000kW' '500kW' '8000kW'\n",
       "  * application  (application) <U8 'offshore' 'onshore'\n",
       "  * parameter    (parameter) <U36 'access road' ... 'turbines per farm'\n",
       "  * year         (year) int64 2000 2010 2020 2030 2040 2050\n",
       "  * value        (value) int64 0"
      ]
     },
     "execution_count": 24,
     "metadata": {},
     "output_type": "execute_result"
    }
   ],
   "source": [
    "wt.array.coords"
   ]
  },
  {
   "cell_type": "code",
   "execution_count": 22,
   "metadata": {},
   "outputs": [
    {
     "data": {
      "text/html": [
       "<div>\n",
       "<style scoped>\n",
       "    .dataframe tbody tr th:only-of-type {\n",
       "        vertical-align: middle;\n",
       "    }\n",
       "\n",
       "    .dataframe tbody tr th {\n",
       "        vertical-align: top;\n",
       "    }\n",
       "\n",
       "    .dataframe thead th {\n",
       "        text-align: right;\n",
       "    }\n",
       "</style>\n",
       "<table border=\"1\" class=\"dataframe\">\n",
       "  <thead>\n",
       "    <tr style=\"text-align: right;\">\n",
       "      <th>application</th>\n",
       "      <th>offshore</th>\n",
       "      <th>onshore</th>\n",
       "    </tr>\n",
       "    <tr>\n",
       "      <th>size</th>\n",
       "      <th></th>\n",
       "      <th></th>\n",
       "    </tr>\n",
       "  </thead>\n",
       "  <tbody>\n",
       "    <tr>\n",
       "      <th>1000kW</th>\n",
       "      <td>256779.661017</td>\n",
       "      <td>6250.0</td>\n",
       "    </tr>\n",
       "    <tr>\n",
       "      <th>100kW</th>\n",
       "      <td>0.000000</td>\n",
       "      <td>6250.0</td>\n",
       "    </tr>\n",
       "    <tr>\n",
       "      <th>3000kW</th>\n",
       "      <td>256779.661017</td>\n",
       "      <td>6250.0</td>\n",
       "    </tr>\n",
       "    <tr>\n",
       "      <th>500kW</th>\n",
       "      <td>0.000000</td>\n",
       "      <td>6250.0</td>\n",
       "    </tr>\n",
       "    <tr>\n",
       "      <th>8000kW</th>\n",
       "      <td>256779.661017</td>\n",
       "      <td>6250.0</td>\n",
       "    </tr>\n",
       "  </tbody>\n",
       "</table>\n",
       "</div>"
      ],
      "text/plain": [
       "application       offshore  onshore\n",
       "size                               \n",
       "1000kW       256779.661017   6250.0\n",
       "100kW             0.000000   6250.0\n",
       "3000kW       256779.661017   6250.0\n",
       "500kW             0.000000   6250.0\n",
       "8000kW       256779.661017   6250.0"
      ]
     },
     "execution_count": 22,
     "metadata": {},
     "output_type": "execute_result"
    }
   ],
   "source": [
    "wt.array.sel(year=2020, value=0, parameter=\"maintenance transport\").to_dataframe(\"val\").unstack()[\"val\"]"
   ]
  },
  {
   "cell_type": "code",
   "execution_count": 34,
   "metadata": {},
   "outputs": [
    {
     "data": {
      "text/plain": [
       "<AxesSubplot: >"
      ]
     },
     "execution_count": 34,
     "metadata": {},
     "output_type": "execute_result"
    },
    {
     "data": {
      "image/png": "[encoded data removed]",
      "text/plain": [
       "<Figure size 640x480 with 1 Axes>"
      ]
     },
     "metadata": {},
     "output_type": "display_data"
    }
   ],
   "source": [
    "wt.array.sel(parameter=\"total mass\", application=\"offshore\", size=\"8000kW\").to_dataframe(\"val\").unstack()[\"val\"].T.boxplot()"
   ]
  },
  {
   "cell_type": "code",
   "execution_count": 6,
   "metadata": {},
   "outputs": [
    {
     "data": {
      "text/plain": [
       "9762.425285500001"
      ]
     },
     "execution_count": 6,
     "metadata": {},
     "output_type": "execute_result"
    }
   ],
   "source": [
    "from windisch.model import func_tower_weight_d2h\n",
    "func_tower_weight_d2h(5, 10, 3.03584782e-04, 9.68652909e00)"
   ]
  },
  {
   "cell_type": "code",
   "execution_count": 7,
   "metadata": {},
   "outputs": [
    {
     "data": {
      "text/html": [
       "<div><svg style=\"position: absolute; width: 0; height: 0; overflow: hidden\">\n",
       "<defs>\n",
       "<symbol id=\"icon-database\" viewBox=\"0 0 32 32\">\n",
       "<path d=\"M16 0c-8.837 0-16 2.239-16 5v4c0 2.761 7.163 5 16 5s16-2.239 16-5v-4c0-2.761-7.163-5-16-5z\"></path>\n",
       "<path d=\"M16 17c-8.837 0-16-2.239-16-5v6c0 2.761 7.163 5 16 5s16-2.239 16-5v-6c0 2.761-7.163 5-16 5z\"></path>\n",
       "<path d=\"M16 26c-8.837 0-16-2.239-16-5v6c0 2.761 7.163 5 16 5s16-2.239 16-5v-6c0 2.761-7.163 5-16 5z\"></path>\n",
       "</symbol>\n",
       "<symbol id=\"icon-file-text2\" viewBox=\"0 0 32 32\">\n",
       "<path d=\"M28.681 7.159c-0.694-0.947-1.662-2.053-2.724-3.116s-2.169-2.030-3.116-2.724c-1.612-1.182-2.393-1.319-2.841-1.319h-15.5c-1.378 0-2.5 1.121-2.5 2.5v27c0 1.378 1.122 2.5 2.5 2.5h23c1.378 0 2.5-1.122 2.5-2.5v-19.5c0-0.448-0.137-1.23-1.319-2.841zM24.543 5.457c0.959 0.959 1.712 1.825 2.268 2.543h-4.811v-4.811c0.718 0.556 1.584 1.309 2.543 2.268zM28 29.5c0 0.271-0.229 0.5-0.5 0.5h-23c-0.271 0-0.5-0.229-0.5-0.5v-27c0-0.271 0.229-0.5 0.5-0.5 0 0 15.499-0 15.5 0v7c0 0.552 0.448 1 1 1h7v19.5z\"></path>\n",
       "<path d=\"M23 26h-14c-0.552 0-1-0.448-1-1s0.448-1 1-1h14c0.552 0 1 0.448 1 1s-0.448 1-1 1z\"></path>\n",
       "<path d=\"M23 22h-14c-0.552 0-1-0.448-1-1s0.448-1 1-1h14c0.552 0 1 0.448 1 1s-0.448 1-1 1z\"></path>\n",
       "<path d=\"M23 18h-14c-0.552 0-1-0.448-1-1s0.448-1 1-1h14c0.552 0 1 0.448 1 1s-0.448 1-1 1z\"></path>\n",
       "</symbol>\n",
       "</defs>\n",
       "</svg>\n",
       "<style>/* CSS stylesheet for displaying xarray objects in jupyterlab.\n",
       " *\n",
       " */\n",
       "\n",
       ":root {\n",
       "  --xr-font-color0: var(--jp-content-font-color0, rgba(0, 0, 0, 1));\n",
       "  --xr-font-color2: var(--jp-content-font-color2, rgba(0, 0, 0, 0.54));\n",
       "  --xr-font-color3: var(--jp-content-font-color3, rgba(0, 0, 0, 0.38));\n",
       "  --xr-border-color: var(--jp-border-color2, #e0e0e0);\n",
       "  --xr-disabled-color: var(--jp-layout-color3, #bdbdbd);\n",
       "  --xr-background-color: var(--jp-layout-color0, white);\n",
       "  --xr-background-color-row-even: var(--jp-layout-color1, white);\n",
       "  --xr-background-color-row-odd: var(--jp-layout-color2, #eeeeee);\n",
       "}\n",
       "\n",
       "html[theme=dark],\n",
       "body[data-theme=dark],\n",
       "body.vscode-dark {\n",
       "  --xr-font-color0: rgba(255, 255, 255, 1);\n",
       "  --xr-font-color2: rgba(255, 255, 255, 0.54);\n",
       "  --xr-font-color3: rgba(255, 255, 255, 0.38);\n",
       "  --xr-border-color: #1F1F1F;\n",
       "  --xr-disabled-color: #515151;\n",
       "  --xr-background-color: #111111;\n",
       "  --xr-background-color-row-even: #111111;\n",
       "  --xr-background-color-row-odd: #313131;\n",
       "}\n",
       "\n",
       ".xr-wrap {\n",
       "  display: block !important;\n",
       "  min-width: 300px;\n",
       "  max-width: 700px;\n",
       "}\n",
       "\n",
       ".xr-text-repr-fallback {\n",
       "  /* fallback to plain text repr when CSS is not injected (untrusted notebook) */\n",
       "  display: none;\n",
       "}\n",
       "\n",
       ".xr-header {\n",
       "  padding-top: 6px;\n",
       "  padding-bottom: 6px;\n",
       "  margin-bottom: 4px;\n",
       "  border-bottom: solid 1px var(--xr-border-color);\n",
       "}\n",
       "\n",
       ".xr-header > div,\n",
       ".xr-header > ul {\n",
       "  display: inline;\n",
       "  margin-top: 0;\n",
       "  margin-bottom: 0;\n",
       "}\n",
       "\n",
       ".xr-obj-type,\n",
       ".xr-array-name {\n",
       "  margin-left: 2px;\n",
       "  margin-right: 10px;\n",
       "}\n",
       "\n",
       ".xr-obj-type {\n",
       "  color: var(--xr-font-color2);\n",
       "}\n",
       "\n",
       ".xr-sections {\n",
       "  padding-left: 0 !important;\n",
       "  display: grid;\n",
       "  grid-template-columns: 150px auto auto 1fr 20px 20px;\n",
       "}\n",
       "\n",
       ".xr-section-item {\n",
       "  display: contents;\n",
       "}\n",
       "\n",
       ".xr-section-item input {\n",
       "  display: none;\n",
       "}\n",
       "\n",
       ".xr-section-item input + label {\n",
       "  color: var(--xr-disabled-color);\n",
       "}\n",
       "\n",
       ".xr-section-item input:enabled + label {\n",
       "  cursor: pointer;\n",
       "  color: var(--xr-font-color2);\n",
       "}\n",
       "\n",
       ".xr-section-item input:enabled + label:hover {\n",
       "  color: var(--xr-font-color0);\n",
       "}\n",
       "\n",
       ".xr-section-summary {\n",
       "  grid-column: 1;\n",
       "  color: var(--xr-font-color2);\n",
       "  font-weight: 500;\n",
       "}\n",
       "\n",
       ".xr-section-summary > span {\n",
       "  display: inline-block;\n",
       "  padding-left: 0.5em;\n",
       "}\n",
       "\n",
       ".xr-section-summary-in:disabled + label {\n",
       "  color: var(--xr-font-color2);\n",
       "}\n",
       "\n",
       ".xr-section-summary-in + label:before {\n",
       "  display: inline-block;\n",
       "  content: '►';\n",
       "  font-size: 11px;\n",
       "  width: 15px;\n",
       "  text-align: center;\n",
       "}\n",
       "\n",
       ".xr-section-summary-in:disabled + label:before {\n",
       "  color: var(--xr-disabled-color);\n",
       "}\n",
       "\n",
       ".xr-section-summary-in:checked + label:before {\n",
       "  content: '▼';\n",
       "}\n",
       "\n",
       ".xr-section-summary-in:checked + label > span {\n",
       "  display: none;\n",
       "}\n",
       "\n",
       ".xr-section-summary,\n",
       ".xr-section-inline-details {\n",
       "  padding-top: 4px;\n",
       "  padding-bottom: 4px;\n",
       "}\n",
       "\n",
       ".xr-section-inline-details {\n",
       "  grid-column: 2 / -1;\n",
       "}\n",
       "\n",
       ".xr-section-details {\n",
       "  display: none;\n",
       "  grid-column: 1 / -1;\n",
       "  margin-bottom: 5px;\n",
       "}\n",
       "\n",
       ".xr-section-summary-in:checked ~ .xr-section-details {\n",
       "  display: contents;\n",
       "}\n",
       "\n",
       ".xr-array-wrap {\n",
       "  grid-column: 1 / -1;\n",
       "  display: grid;\n",
       "  grid-template-columns: 20px auto;\n",
       "}\n",
       "\n",
       ".xr-array-wrap > label {\n",
       "  grid-column: 1;\n",
       "  vertical-align: top;\n",
       "}\n",
       "\n",
       ".xr-preview {\n",
       "  color: var(--xr-font-color3);\n",
       "}\n",
       "\n",
       ".xr-array-preview,\n",
       ".xr-array-data {\n",
       "  padding: 0 5px !important;\n",
       "  grid-column: 2;\n",
       "}\n",
       "\n",
       ".xr-array-data,\n",
       ".xr-array-in:checked ~ .xr-array-preview {\n",
       "  display: none;\n",
       "}\n",
       "\n",
       ".xr-array-in:checked ~ .xr-array-data,\n",
       ".xr-array-preview {\n",
       "  display: inline-block;\n",
       "}\n",
       "\n",
       ".xr-dim-list {\n",
       "  display: inline-block !important;\n",
       "  list-style: none;\n",
       "  padding: 0 !important;\n",
       "  margin: 0;\n",
       "}\n",
       "\n",
       ".xr-dim-list li {\n",
       "  display: inline-block;\n",
       "  padding: 0;\n",
       "  margin: 0;\n",
       "}\n",
       "\n",
       ".xr-dim-list:before {\n",
       "  content: '(';\n",
       "}\n",
       "\n",
       ".xr-dim-list:after {\n",
       "  content: ')';\n",
       "}\n",
       "\n",
       ".xr-dim-list li:not(:last-child):after {\n",
       "  content: ',';\n",
       "  padding-right: 5px;\n",
       "}\n",
       "\n",
       ".xr-has-index {\n",
       "  font-weight: bold;\n",
       "}\n",
       "\n",
       ".xr-var-list,\n",
       ".xr-var-item {\n",
       "  display: contents;\n",
       "}\n",
       "\n",
       ".xr-var-item > div,\n",
       ".xr-var-item label,\n",
       ".xr-var-item > .xr-var-name span {\n",
       "  background-color: var(--xr-background-color-row-even);\n",
       "  margin-bottom: 0;\n",
       "}\n",
       "\n",
       ".xr-var-item > .xr-var-name:hover span {\n",
       "  padding-right: 5px;\n",
       "}\n",
       "\n",
       ".xr-var-list > li:nth-child(odd) > div,\n",
       ".xr-var-list > li:nth-child(odd) > label,\n",
       ".xr-var-list > li:nth-child(odd) > .xr-var-name span {\n",
       "  background-color: var(--xr-background-color-row-odd);\n",
       "}\n",
       "\n",
       ".xr-var-name {\n",
       "  grid-column: 1;\n",
       "}\n",
       "\n",
       ".xr-var-dims {\n",
       "  grid-column: 2;\n",
       "}\n",
       "\n",
       ".xr-var-dtype {\n",
       "  grid-column: 3;\n",
       "  text-align: right;\n",
       "  color: var(--xr-font-color2);\n",
       "}\n",
       "\n",
       ".xr-var-preview {\n",
       "  grid-column: 4;\n",
       "}\n",
       "\n",
       ".xr-index-preview {\n",
       "  grid-column: 2 / 5;\n",
       "  color: var(--xr-font-color2);\n",
       "}\n",
       "\n",
       ".xr-var-name,\n",
       ".xr-var-dims,\n",
       ".xr-var-dtype,\n",
       ".xr-preview,\n",
       ".xr-attrs dt {\n",
       "  white-space: nowrap;\n",
       "  overflow: hidden;\n",
       "  text-overflow: ellipsis;\n",
       "  padding-right: 10px;\n",
       "}\n",
       "\n",
       ".xr-var-name:hover,\n",
       ".xr-var-dims:hover,\n",
       ".xr-var-dtype:hover,\n",
       ".xr-attrs dt:hover {\n",
       "  overflow: visible;\n",
       "  width: auto;\n",
       "  z-index: 1;\n",
       "}\n",
       "\n",
       ".xr-var-attrs,\n",
       ".xr-var-data,\n",
       ".xr-index-data {\n",
       "  display: none;\n",
       "  background-color: var(--xr-background-color) !important;\n",
       "  padding-bottom: 5px !important;\n",
       "}\n",
       "\n",
       ".xr-var-attrs-in:checked ~ .xr-var-attrs,\n",
       ".xr-var-data-in:checked ~ .xr-var-data,\n",
       ".xr-index-data-in:checked ~ .xr-index-data {\n",
       "  display: block;\n",
       "}\n",
       "\n",
       ".xr-var-data > table {\n",
       "  float: right;\n",
       "}\n",
       "\n",
       ".xr-var-name span,\n",
       ".xr-var-data,\n",
       ".xr-index-name div,\n",
       ".xr-index-data,\n",
       ".xr-attrs {\n",
       "  padding-left: 25px !important;\n",
       "}\n",
       "\n",
       ".xr-attrs,\n",
       ".xr-var-attrs,\n",
       ".xr-var-data,\n",
       ".xr-index-data {\n",
       "  grid-column: 1 / -1;\n",
       "}\n",
       "\n",
       "dl.xr-attrs {\n",
       "  padding: 0;\n",
       "  margin: 0;\n",
       "  display: grid;\n",
       "  grid-template-columns: 125px auto;\n",
       "}\n",
       "\n",
       ".xr-attrs dt,\n",
       ".xr-attrs dd {\n",
       "  padding: 0;\n",
       "  margin: 0;\n",
       "  float: left;\n",
       "  padding-right: 10px;\n",
       "  width: auto;\n",
       "}\n",
       "\n",
       ".xr-attrs dt {\n",
       "  font-weight: normal;\n",
       "  grid-column: 1;\n",
       "}\n",
       "\n",
       ".xr-attrs dt:hover span {\n",
       "  display: inline-block;\n",
       "  background: var(--xr-background-color);\n",
       "  padding-right: 10px;\n",
       "}\n",
       "\n",
       ".xr-attrs dd {\n",
       "  grid-column: 2;\n",
       "  white-space: pre-wrap;\n",
       "  word-break: break-all;\n",
       "}\n",
       "\n",
       ".xr-icon-database,\n",
       ".xr-icon-file-text2,\n",
       ".xr-no-icon {\n",
       "  display: inline-block;\n",
       "  vertical-align: middle;\n",
       "  width: 1em;\n",
       "  height: 1.5em !important;\n",
       "  stroke-width: 0;\n",
       "  stroke: currentColor;\n",
       "  fill: currentColor;\n",
       "}\n",
       "</style><pre class='xr-text-repr-fallback'>&lt;xarray.DataArray (size: 5, application: 2, year: 6, value: 1)&gt;\n",
       "array([[[[ 73374.90009306],\n",
       "         [ 73374.90009306],\n",
       "         [ 73374.90009306],\n",
       "         [ 73374.90009306],\n",
       "         [ 73374.90009306],\n",
       "         [ 73374.90009306]],\n",
       "\n",
       "        [[ 72712.91953994],\n",
       "         [ 72712.91953994],\n",
       "         [ 72712.91953994],\n",
       "         [ 72712.91953994],\n",
       "         [ 72712.91953994],\n",
       "         [ 72712.91953994]]],\n",
       "\n",
       "\n",
       "       [[[  9686.52909   ],\n",
       "         [  9686.52909   ],\n",
       "         [  9686.52909   ],\n",
       "         [  9686.52909   ],\n",
       "         [  9686.52909   ],\n",
       "...\n",
       "         [ 30434.02672168],\n",
       "         [ 30434.02672168],\n",
       "         [ 30434.02672168],\n",
       "         [ 30434.02672168],\n",
       "         [ 30434.02672168]]],\n",
       "\n",
       "\n",
       "       [[[840467.97204929],\n",
       "         [840467.97204929],\n",
       "         [840467.97204929],\n",
       "         [840467.97204929],\n",
       "         [840467.97204929],\n",
       "         [840467.97204929]],\n",
       "\n",
       "        [[754455.95551841],\n",
       "         [754455.95551841],\n",
       "         [754455.95551841],\n",
       "         [754455.95551841],\n",
       "         [754455.95551841],\n",
       "         [754455.95551841]]]])\n",
       "Coordinates:\n",
       "  * size         (size) &lt;U6 &#x27;1000kW&#x27; &#x27;100kW&#x27; &#x27;3000kW&#x27; &#x27;500kW&#x27; &#x27;8000kW&#x27;\n",
       "  * application  (application) &lt;U8 &#x27;offshore&#x27; &#x27;onshore&#x27;\n",
       "  * year         (year) int64 2000 2010 2020 2030 2040 2050\n",
       "  * value        (value) int64 0\n",
       "    tower mass   (size, application, year, value) float64 7.337e+04 ... 7.545...</pre><div class='xr-wrap' style='display:none'><div class='xr-header'><div class='xr-obj-type'>xarray.DataArray</div><div class='xr-array-name'></div><ul class='xr-dim-list'><li><span class='xr-has-index'>size</span>: 5</li><li><span class='xr-has-index'>application</span>: 2</li><li><span class='xr-has-index'>year</span>: 6</li><li><span class='xr-has-index'>value</span>: 1</li></ul></div><ul class='xr-sections'><li class='xr-section-item'><div class='xr-array-wrap'><input id='section-85864ee8-ebd3-488c-9c20-bb0cc9d2b2fb' class='xr-array-in' type='checkbox' checked><label for='section-85864ee8-ebd3-488c-9c20-bb0cc9d2b2fb' title='Show/hide data repr'><svg class='icon xr-icon-database'><use xlink:href='#icon-database'></use></svg></label><div class='xr-array-preview xr-preview'><span>7.337e+04 7.337e+04 7.337e+04 ... 7.545e+05 7.545e+05 7.545e+05</span></div><div class='xr-array-data'><pre>array([[[[ 73374.90009306],\n",
       "         [ 73374.90009306],\n",
       "         [ 73374.90009306],\n",
       "         [ 73374.90009306],\n",
       "         [ 73374.90009306],\n",
       "         [ 73374.90009306]],\n",
       "\n",
       "        [[ 72712.91953994],\n",
       "         [ 72712.91953994],\n",
       "         [ 72712.91953994],\n",
       "         [ 72712.91953994],\n",
       "         [ 72712.91953994],\n",
       "         [ 72712.91953994]]],\n",
       "\n",
       "\n",
       "       [[[  9686.52909   ],\n",
       "         [  9686.52909   ],\n",
       "         [  9686.52909   ],\n",
       "         [  9686.52909   ],\n",
       "         [  9686.52909   ],\n",
       "...\n",
       "         [ 30434.02672168],\n",
       "         [ 30434.02672168],\n",
       "         [ 30434.02672168],\n",
       "         [ 30434.02672168],\n",
       "         [ 30434.02672168]]],\n",
       "\n",
       "\n",
       "       [[[840467.97204929],\n",
       "         [840467.97204929],\n",
       "         [840467.97204929],\n",
       "         [840467.97204929],\n",
       "         [840467.97204929],\n",
       "         [840467.97204929]],\n",
       "\n",
       "        [[754455.95551841],\n",
       "         [754455.95551841],\n",
       "         [754455.95551841],\n",
       "         [754455.95551841],\n",
       "         [754455.95551841],\n",
       "         [754455.95551841]]]])</pre></div></div></li><li class='xr-section-item'><input id='section-2c34820f-cc24-4613-aadf-7b61399e9e9a' class='xr-section-summary-in' type='checkbox'  checked><label for='section-2c34820f-cc24-4613-aadf-7b61399e9e9a' class='xr-section-summary' >Coordinates: <span>(5)</span></label><div class='xr-section-inline-details'></div><div class='xr-section-details'><ul class='xr-var-list'><li class='xr-var-item'><div class='xr-var-name'><span class='xr-has-index'>size</span></div><div class='xr-var-dims'>(size)</div><div class='xr-var-dtype'>&lt;U6</div><div class='xr-var-preview xr-preview'>&#x27;1000kW&#x27; &#x27;100kW&#x27; ... &#x27;8000kW&#x27;</div><input id='attrs-99df1db3-100e-46a8-ac37-702c71887404' class='xr-var-attrs-in' type='checkbox' disabled><label for='attrs-99df1db3-100e-46a8-ac37-702c71887404' title='Show/Hide attributes'><svg class='icon xr-icon-file-text2'><use xlink:href='#icon-file-text2'></use></svg></label><input id='data-728e9832-1167-4968-9e0a-57603b0dd07a' class='xr-var-data-in' type='checkbox'><label for='data-728e9832-1167-4968-9e0a-57603b0dd07a' title='Show/Hide data repr'><svg class='icon xr-icon-database'><use xlink:href='#icon-database'></use></svg></label><div class='xr-var-attrs'><dl class='xr-attrs'></dl></div><div class='xr-var-data'><pre>array([&#x27;1000kW&#x27;, &#x27;100kW&#x27;, &#x27;3000kW&#x27;, &#x27;500kW&#x27;, &#x27;8000kW&#x27;], dtype=&#x27;&lt;U6&#x27;)</pre></div></li><li class='xr-var-item'><div class='xr-var-name'><span class='xr-has-index'>application</span></div><div class='xr-var-dims'>(application)</div><div class='xr-var-dtype'>&lt;U8</div><div class='xr-var-preview xr-preview'>&#x27;offshore&#x27; &#x27;onshore&#x27;</div><input id='attrs-5fe2a81b-0d72-480b-80c2-7f95f9710e8f' class='xr-var-attrs-in' type='checkbox' disabled><label for='attrs-5fe2a81b-0d72-480b-80c2-7f95f9710e8f' title='Show/Hide attributes'><svg class='icon xr-icon-file-text2'><use xlink:href='#icon-file-text2'></use></svg></label><input id='data-0179785f-1fc5-4aaa-be4f-1e020e0d001c' class='xr-var-data-in' type='checkbox'><label for='data-0179785f-1fc5-4aaa-be4f-1e020e0d001c' title='Show/Hide data repr'><svg class='icon xr-icon-database'><use xlink:href='#icon-database'></use></svg></label><div class='xr-var-attrs'><dl class='xr-attrs'></dl></div><div class='xr-var-data'><pre>array([&#x27;offshore&#x27;, &#x27;onshore&#x27;], dtype=&#x27;&lt;U8&#x27;)</pre></div></li><li class='xr-var-item'><div class='xr-var-name'><span class='xr-has-index'>year</span></div><div class='xr-var-dims'>(year)</div><div class='xr-var-dtype'>int64</div><div class='xr-var-preview xr-preview'>2000 2010 2020 2030 2040 2050</div><input id='attrs-13d9efda-acdd-465b-9efd-c4c3a45f92c2' class='xr-var-attrs-in' type='checkbox' disabled><label for='attrs-13d9efda-acdd-465b-9efd-c4c3a45f92c2' title='Show/Hide attributes'><svg class='icon xr-icon-file-text2'><use xlink:href='#icon-file-text2'></use></svg></label><input id='data-ac2ea723-9ed2-4f6b-bed5-9accec53e622' class='xr-var-data-in' type='checkbox'><label for='data-ac2ea723-9ed2-4f6b-bed5-9accec53e622' title='Show/Hide data repr'><svg class='icon xr-icon-database'><use xlink:href='#icon-database'></use></svg></label><div class='xr-var-attrs'><dl class='xr-attrs'></dl></div><div class='xr-var-data'><pre>array([2000, 2010, 2020, 2030, 2040, 2050])</pre></div></li><li class='xr-var-item'><div class='xr-var-name'><span class='xr-has-index'>value</span></div><div class='xr-var-dims'>(value)</div><div class='xr-var-dtype'>int64</div><div class='xr-var-preview xr-preview'>0</div><input id='attrs-36ef0794-a90a-4267-a8f0-5507447e6406' class='xr-var-attrs-in' type='checkbox' disabled><label for='attrs-36ef0794-a90a-4267-a8f0-5507447e6406' title='Show/Hide attributes'><svg class='icon xr-icon-file-text2'><use xlink:href='#icon-file-text2'></use></svg></label><input id='data-a7e5dbaf-6bac-43bf-8626-749ea8be79d7' class='xr-var-data-in' type='checkbox'><label for='data-a7e5dbaf-6bac-43bf-8626-749ea8be79d7' title='Show/Hide data repr'><svg class='icon xr-icon-database'><use xlink:href='#icon-database'></use></svg></label><div class='xr-var-attrs'><dl class='xr-attrs'></dl></div><div class='xr-var-data'><pre>array([0])</pre></div></li><li class='xr-var-item'><div class='xr-var-name'><span>tower mass</span></div><div class='xr-var-dims'>(size, application, year, value)</div><div class='xr-var-dtype'>float64</div><div class='xr-var-preview xr-preview'>7.337e+04 7.337e+04 ... 7.545e+05</div><input id='attrs-4b1ebadd-7683-4a1a-b443-7a57aa30dc5c' class='xr-var-attrs-in' type='checkbox' disabled><label for='attrs-4b1ebadd-7683-4a1a-b443-7a57aa30dc5c' title='Show/Hide attributes'><svg class='icon xr-icon-file-text2'><use xlink:href='#icon-file-text2'></use></svg></label><input id='data-82f81057-6b3f-4a5c-a786-68dbdb742873' class='xr-var-data-in' type='checkbox'><label for='data-82f81057-6b3f-4a5c-a786-68dbdb742873' title='Show/Hide data repr'><svg class='icon xr-icon-database'><use xlink:href='#icon-database'></use></svg></label><div class='xr-var-attrs'><dl class='xr-attrs'></dl></div><div class='xr-var-data'><pre>array([[[[ 73374.90009306],\n",
       "         [ 73374.90009306],\n",
       "         [ 73374.90009306],\n",
       "         [ 73374.90009306],\n",
       "         [ 73374.90009306],\n",
       "         [ 73374.90009306]],\n",
       "\n",
       "        [[ 72712.91953994],\n",
       "         [ 72712.91953994],\n",
       "         [ 72712.91953994],\n",
       "         [ 72712.91953994],\n",
       "         [ 72712.91953994],\n",
       "         [ 72712.91953994]]],\n",
       "\n",
       "\n",
       "       [[[ 25629.08234162],\n",
       "         [ 25629.08234162],\n",
       "         [ 25629.08234162],\n",
       "         [ 25629.08234162],\n",
       "         [ 25629.08234162],\n",
       "...\n",
       "         [ 30434.02672168],\n",
       "         [ 30434.02672168],\n",
       "         [ 30434.02672168],\n",
       "         [ 30434.02672168],\n",
       "         [ 30434.02672168]]],\n",
       "\n",
       "\n",
       "       [[[840467.97204929],\n",
       "         [840467.97204929],\n",
       "         [840467.97204929],\n",
       "         [840467.97204929],\n",
       "         [840467.97204929],\n",
       "         [840467.97204929]],\n",
       "\n",
       "        [[754455.95551841],\n",
       "         [754455.95551841],\n",
       "         [754455.95551841],\n",
       "         [754455.95551841],\n",
       "         [754455.95551841],\n",
       "         [754455.95551841]]]])</pre></div></li></ul></div></li><li class='xr-section-item'><input id='section-ea60e35e-2e03-462e-b548-856a7d83ec91' class='xr-section-summary-in' type='checkbox'  ><label for='section-ea60e35e-2e03-462e-b548-856a7d83ec91' class='xr-section-summary' >Indexes: <span>(4)</span></label><div class='xr-section-inline-details'></div><div class='xr-section-details'><ul class='xr-var-list'><li class='xr-var-item'><div class='xr-index-name'><div>size</div></div><div class='xr-index-preview'>PandasIndex</div><div></div><input id='index-1c16b802-1695-43c6-b125-14f189a1e197' class='xr-index-data-in' type='checkbox'/><label for='index-1c16b802-1695-43c6-b125-14f189a1e197' title='Show/Hide index repr'><svg class='icon xr-icon-database'><use xlink:href='#icon-database'></use></svg></label><div class='xr-index-data'><pre>PandasIndex(Index([&#x27;1000kW&#x27;, &#x27;100kW&#x27;, &#x27;3000kW&#x27;, &#x27;500kW&#x27;, &#x27;8000kW&#x27;], dtype=&#x27;object&#x27;, name=&#x27;size&#x27;))</pre></div></li><li class='xr-var-item'><div class='xr-index-name'><div>application</div></div><div class='xr-index-preview'>PandasIndex</div><div></div><input id='index-12c6e360-604e-4dac-936d-fe69b364e77d' class='xr-index-data-in' type='checkbox'/><label for='index-12c6e360-604e-4dac-936d-fe69b364e77d' title='Show/Hide index repr'><svg class='icon xr-icon-database'><use xlink:href='#icon-database'></use></svg></label><div class='xr-index-data'><pre>PandasIndex(Index([&#x27;offshore&#x27;, &#x27;onshore&#x27;], dtype=&#x27;object&#x27;, name=&#x27;application&#x27;))</pre></div></li><li class='xr-var-item'><div class='xr-index-name'><div>year</div></div><div class='xr-index-preview'>PandasIndex</div><div></div><input id='index-731789d9-f4ba-4566-8ba8-5ca53d5f71ac' class='xr-index-data-in' type='checkbox'/><label for='index-731789d9-f4ba-4566-8ba8-5ca53d5f71ac' title='Show/Hide index repr'><svg class='icon xr-icon-database'><use xlink:href='#icon-database'></use></svg></label><div class='xr-index-data'><pre>PandasIndex(Int64Index([2000, 2010, 2020, 2030, 2040, 2050], dtype=&#x27;int64&#x27;, name=&#x27;year&#x27;))</pre></div></li><li class='xr-var-item'><div class='xr-index-name'><div>value</div></div><div class='xr-index-preview'>PandasIndex</div><div></div><input id='index-c03255d8-44a6-4cef-975f-c366e30c99d1' class='xr-index-data-in' type='checkbox'/><label for='index-c03255d8-44a6-4cef-975f-c366e30c99d1' title='Show/Hide index repr'><svg class='icon xr-icon-database'><use xlink:href='#icon-database'></use></svg></label><div class='xr-index-data'><pre>PandasIndex(Int64Index([0], dtype=&#x27;int64&#x27;, name=&#x27;value&#x27;))</pre></div></li></ul></div></li><li class='xr-section-item'><input id='section-29c40150-869c-4b33-9313-a593236e971c' class='xr-section-summary-in' type='checkbox' disabled ><label for='section-29c40150-869c-4b33-9313-a593236e971c' class='xr-section-summary'  title='Expand/collapse section'>Attributes: <span>(0)</span></label><div class='xr-section-inline-details'></div><div class='xr-section-details'><dl class='xr-attrs'></dl></div></li></ul></div></div>"
      ],
      "text/plain": [
       "<xarray.DataArray (size: 5, application: 2, year: 6, value: 1)>\n",
       "array([[[[ 73374.90009306],\n",
       "         [ 73374.90009306],\n",
       "         [ 73374.90009306],\n",
       "         [ 73374.90009306],\n",
       "         [ 73374.90009306],\n",
       "         [ 73374.90009306]],\n",
       "\n",
       "        [[ 72712.91953994],\n",
       "         [ 72712.91953994],\n",
       "         [ 72712.91953994],\n",
       "         [ 72712.91953994],\n",
       "         [ 72712.91953994],\n",
       "         [ 72712.91953994]]],\n",
       "\n",
       "\n",
       "       [[[  9686.52909   ],\n",
       "         [  9686.52909   ],\n",
       "         [  9686.52909   ],\n",
       "         [  9686.52909   ],\n",
       "         [  9686.52909   ],\n",
       "...\n",
       "         [ 30434.02672168],\n",
       "         [ 30434.02672168],\n",
       "         [ 30434.02672168],\n",
       "         [ 30434.02672168],\n",
       "         [ 30434.02672168]]],\n",
       "\n",
       "\n",
       "       [[[840467.97204929],\n",
       "         [840467.97204929],\n",
       "         [840467.97204929],\n",
       "         [840467.97204929],\n",
       "         [840467.97204929],\n",
       "         [840467.97204929]],\n",
       "\n",
       "        [[754455.95551841],\n",
       "         [754455.95551841],\n",
       "         [754455.95551841],\n",
       "         [754455.95551841],\n",
       "         [754455.95551841],\n",
       "         [754455.95551841]]]])\n",
       "Coordinates:\n",
       "  * size         (size) <U6 '1000kW' '100kW' '3000kW' '500kW' '8000kW'\n",
       "  * application  (application) <U8 'offshore' 'onshore'\n",
       "  * year         (year) int64 2000 2010 2020 2030 2040 2050\n",
       "  * value        (value) int64 0\n",
       "    tower mass   (size, application, year, value) float64 7.337e+04 ... 7.545..."
      ]
     },
     "execution_count": 7,
     "metadata": {},
     "output_type": "execute_result"
    }
   ],
   "source": [
    "func_tower_weight_d2h(wt[\"rotor diameter\"], wt[\"tower height\"], 3.03584782e-04, 9.68652909e00)"
   ]
  },
  {
   "cell_type": "code",
   "execution_count": 6,
   "metadata": {},
   "outputs": [
    {
     "data": {
      "text/html": [
       "<div><svg style=\"position: absolute; width: 0; height: 0; overflow: hidden\">\n",
       "<defs>\n",
       "<symbol id=\"icon-database\" viewBox=\"0 0 32 32\">\n",
       "<path d=\"M16 0c-8.837 0-16 2.239-16 5v4c0 2.761 7.163 5 16 5s16-2.239 16-5v-4c0-2.761-7.163-5-16-5z\"></path>\n",
       "<path d=\"M16 17c-8.837 0-16-2.239-16-5v6c0 2.761 7.163 5 16 5s16-2.239 16-5v-6c0 2.761-7.163 5-16 5z\"></path>\n",
       "<path d=\"M16 26c-8.837 0-16-2.239-16-5v6c0 2.761 7.163 5 16 5s16-2.239 16-5v-6c0 2.761-7.163 5-16 5z\"></path>\n",
       "</symbol>\n",
       "<symbol id=\"icon-file-text2\" viewBox=\"0 0 32 32\">\n",
       "<path d=\"M28.681 7.159c-0.694-0.947-1.662-2.053-2.724-3.116s-2.169-2.030-3.116-2.724c-1.612-1.182-2.393-1.319-2.841-1.319h-15.5c-1.378 0-2.5 1.121-2.5 2.5v27c0 1.378 1.122 2.5 2.5 2.5h23c1.378 0 2.5-1.122 2.5-2.5v-19.5c0-0.448-0.137-1.23-1.319-2.841zM24.543 5.457c0.959 0.959 1.712 1.825 2.268 2.543h-4.811v-4.811c0.718 0.556 1.584 1.309 2.543 2.268zM28 29.5c0 0.271-0.229 0.5-0.5 0.5h-23c-0.271 0-0.5-0.229-0.5-0.5v-27c0-0.271 0.229-0.5 0.5-0.5 0 0 15.499-0 15.5 0v7c0 0.552 0.448 1 1 1h7v19.5z\"></path>\n",
       "<path d=\"M23 26h-14c-0.552 0-1-0.448-1-1s0.448-1 1-1h14c0.552 0 1 0.448 1 1s-0.448 1-1 1z\"></path>\n",
       "<path d=\"M23 22h-14c-0.552 0-1-0.448-1-1s0.448-1 1-1h14c0.552 0 1 0.448 1 1s-0.448 1-1 1z\"></path>\n",
       "<path d=\"M23 18h-14c-0.552 0-1-0.448-1-1s0.448-1 1-1h14c0.552 0 1 0.448 1 1s-0.448 1-1 1z\"></path>\n",
       "</symbol>\n",
       "</defs>\n",
       "</svg>\n",
       "<style>/* CSS stylesheet for displaying xarray objects in jupyterlab.\n",
       " *\n",
       " */\n",
       "\n",
       ":root {\n",
       "  --xr-font-color0: var(--jp-content-font-color0, rgba(0, 0, 0, 1));\n",
       "  --xr-font-color2: var(--jp-content-font-color2, rgba(0, 0, 0, 0.54));\n",
       "  --xr-font-color3: var(--jp-content-font-color3, rgba(0, 0, 0, 0.38));\n",
       "  --xr-border-color: var(--jp-border-color2, #e0e0e0);\n",
       "  --xr-disabled-color: var(--jp-layout-color3, #bdbdbd);\n",
       "  --xr-background-color: var(--jp-layout-color0, white);\n",
       "  --xr-background-color-row-even: var(--jp-layout-color1, white);\n",
       "  --xr-background-color-row-odd: var(--jp-layout-color2, #eeeeee);\n",
       "}\n",
       "\n",
       "html[theme=dark],\n",
       "body[data-theme=dark],\n",
       "body.vscode-dark {\n",
       "  --xr-font-color0: rgba(255, 255, 255, 1);\n",
       "  --xr-font-color2: rgba(255, 255, 255, 0.54);\n",
       "  --xr-font-color3: rgba(255, 255, 255, 0.38);\n",
       "  --xr-border-color: #1F1F1F;\n",
       "  --xr-disabled-color: #515151;\n",
       "  --xr-background-color: #111111;\n",
       "  --xr-background-color-row-even: #111111;\n",
       "  --xr-background-color-row-odd: #313131;\n",
       "}\n",
       "\n",
       ".xr-wrap {\n",
       "  display: block !important;\n",
       "  min-width: 300px;\n",
       "  max-width: 700px;\n",
       "}\n",
       "\n",
       ".xr-text-repr-fallback {\n",
       "  /* fallback to plain text repr when CSS is not injected (untrusted notebook) */\n",
       "  display: none;\n",
       "}\n",
       "\n",
       ".xr-header {\n",
       "  padding-top: 6px;\n",
       "  padding-bottom: 6px;\n",
       "  margin-bottom: 4px;\n",
       "  border-bottom: solid 1px var(--xr-border-color);\n",
       "}\n",
       "\n",
       ".xr-header > div,\n",
       ".xr-header > ul {\n",
       "  display: inline;\n",
       "  margin-top: 0;\n",
       "  margin-bottom: 0;\n",
       "}\n",
       "\n",
       ".xr-obj-type,\n",
       ".xr-array-name {\n",
       "  margin-left: 2px;\n",
       "  margin-right: 10px;\n",
       "}\n",
       "\n",
       ".xr-obj-type {\n",
       "  color: var(--xr-font-color2);\n",
       "}\n",
       "\n",
       ".xr-sections {\n",
       "  padding-left: 0 !important;\n",
       "  display: grid;\n",
       "  grid-template-columns: 150px auto auto 1fr 20px 20px;\n",
       "}\n",
       "\n",
       ".xr-section-item {\n",
       "  display: contents;\n",
       "}\n",
       "\n",
       ".xr-section-item input {\n",
       "  display: none;\n",
       "}\n",
       "\n",
       ".xr-section-item input + label {\n",
       "  color: var(--xr-disabled-color);\n",
       "}\n",
       "\n",
       ".xr-section-item input:enabled + label {\n",
       "  cursor: pointer;\n",
       "  color: var(--xr-font-color2);\n",
       "}\n",
       "\n",
       ".xr-section-item input:enabled + label:hover {\n",
       "  color: var(--xr-font-color0);\n",
       "}\n",
       "\n",
       ".xr-section-summary {\n",
       "  grid-column: 1;\n",
       "  color: var(--xr-font-color2);\n",
       "  font-weight: 500;\n",
       "}\n",
       "\n",
       ".xr-section-summary > span {\n",
       "  display: inline-block;\n",
       "  padding-left: 0.5em;\n",
       "}\n",
       "\n",
       ".xr-section-summary-in:disabled + label {\n",
       "  color: var(--xr-font-color2);\n",
       "}\n",
       "\n",
       ".xr-section-summary-in + label:before {\n",
       "  display: inline-block;\n",
       "  content: '►';\n",
       "  font-size: 11px;\n",
       "  width: 15px;\n",
       "  text-align: center;\n",
       "}\n",
       "\n",
       ".xr-section-summary-in:disabled + label:before {\n",
       "  color: var(--xr-disabled-color);\n",
       "}\n",
       "\n",
       ".xr-section-summary-in:checked + label:before {\n",
       "  content: '▼';\n",
       "}\n",
       "\n",
       ".xr-section-summary-in:checked + label > span {\n",
       "  display: none;\n",
       "}\n",
       "\n",
       ".xr-section-summary,\n",
       ".xr-section-inline-details {\n",
       "  padding-top: 4px;\n",
       "  padding-bottom: 4px;\n",
       "}\n",
       "\n",
       ".xr-section-inline-details {\n",
       "  grid-column: 2 / -1;\n",
       "}\n",
       "\n",
       ".xr-section-details {\n",
       "  display: none;\n",
       "  grid-column: 1 / -1;\n",
       "  margin-bottom: 5px;\n",
       "}\n",
       "\n",
       ".xr-section-summary-in:checked ~ .xr-section-details {\n",
       "  display: contents;\n",
       "}\n",
       "\n",
       ".xr-array-wrap {\n",
       "  grid-column: 1 / -1;\n",
       "  display: grid;\n",
       "  grid-template-columns: 20px auto;\n",
       "}\n",
       "\n",
       ".xr-array-wrap > label {\n",
       "  grid-column: 1;\n",
       "  vertical-align: top;\n",
       "}\n",
       "\n",
       ".xr-preview {\n",
       "  color: var(--xr-font-color3);\n",
       "}\n",
       "\n",
       ".xr-array-preview,\n",
       ".xr-array-data {\n",
       "  padding: 0 5px !important;\n",
       "  grid-column: 2;\n",
       "}\n",
       "\n",
       ".xr-array-data,\n",
       ".xr-array-in:checked ~ .xr-array-preview {\n",
       "  display: none;\n",
       "}\n",
       "\n",
       ".xr-array-in:checked ~ .xr-array-data,\n",
       ".xr-array-preview {\n",
       "  display: inline-block;\n",
       "}\n",
       "\n",
       ".xr-dim-list {\n",
       "  display: inline-block !important;\n",
       "  list-style: none;\n",
       "  padding: 0 !important;\n",
       "  margin: 0;\n",
       "}\n",
       "\n",
       ".xr-dim-list li {\n",
       "  display: inline-block;\n",
       "  padding: 0;\n",
       "  margin: 0;\n",
       "}\n",
       "\n",
       ".xr-dim-list:before {\n",
       "  content: '(';\n",
       "}\n",
       "\n",
       ".xr-dim-list:after {\n",
       "  content: ')';\n",
       "}\n",
       "\n",
       ".xr-dim-list li:not(:last-child):after {\n",
       "  content: ',';\n",
       "  padding-right: 5px;\n",
       "}\n",
       "\n",
       ".xr-has-index {\n",
       "  font-weight: bold;\n",
       "}\n",
       "\n",
       ".xr-var-list,\n",
       ".xr-var-item {\n",
       "  display: contents;\n",
       "}\n",
       "\n",
       ".xr-var-item > div,\n",
       ".xr-var-item label,\n",
       ".xr-var-item > .xr-var-name span {\n",
       "  background-color: var(--xr-background-color-row-even);\n",
       "  margin-bottom: 0;\n",
       "}\n",
       "\n",
       ".xr-var-item > .xr-var-name:hover span {\n",
       "  padding-right: 5px;\n",
       "}\n",
       "\n",
       ".xr-var-list > li:nth-child(odd) > div,\n",
       ".xr-var-list > li:nth-child(odd) > label,\n",
       ".xr-var-list > li:nth-child(odd) > .xr-var-name span {\n",
       "  background-color: var(--xr-background-color-row-odd);\n",
       "}\n",
       "\n",
       ".xr-var-name {\n",
       "  grid-column: 1;\n",
       "}\n",
       "\n",
       ".xr-var-dims {\n",
       "  grid-column: 2;\n",
       "}\n",
       "\n",
       ".xr-var-dtype {\n",
       "  grid-column: 3;\n",
       "  text-align: right;\n",
       "  color: var(--xr-font-color2);\n",
       "}\n",
       "\n",
       ".xr-var-preview {\n",
       "  grid-column: 4;\n",
       "}\n",
       "\n",
       ".xr-index-preview {\n",
       "  grid-column: 2 / 5;\n",
       "  color: var(--xr-font-color2);\n",
       "}\n",
       "\n",
       ".xr-var-name,\n",
       ".xr-var-dims,\n",
       ".xr-var-dtype,\n",
       ".xr-preview,\n",
       ".xr-attrs dt {\n",
       "  white-space: nowrap;\n",
       "  overflow: hidden;\n",
       "  text-overflow: ellipsis;\n",
       "  padding-right: 10px;\n",
       "}\n",
       "\n",
       ".xr-var-name:hover,\n",
       ".xr-var-dims:hover,\n",
       ".xr-var-dtype:hover,\n",
       ".xr-attrs dt:hover {\n",
       "  overflow: visible;\n",
       "  width: auto;\n",
       "  z-index: 1;\n",
       "}\n",
       "\n",
       ".xr-var-attrs,\n",
       ".xr-var-data,\n",
       ".xr-index-data {\n",
       "  display: none;\n",
       "  background-color: var(--xr-background-color) !important;\n",
       "  padding-bottom: 5px !important;\n",
       "}\n",
       "\n",
       ".xr-var-attrs-in:checked ~ .xr-var-attrs,\n",
       ".xr-var-data-in:checked ~ .xr-var-data,\n",
       ".xr-index-data-in:checked ~ .xr-index-data {\n",
       "  display: block;\n",
       "}\n",
       "\n",
       ".xr-var-data > table {\n",
       "  float: right;\n",
       "}\n",
       "\n",
       ".xr-var-name span,\n",
       ".xr-var-data,\n",
       ".xr-index-name div,\n",
       ".xr-index-data,\n",
       ".xr-attrs {\n",
       "  padding-left: 25px !important;\n",
       "}\n",
       "\n",
       ".xr-attrs,\n",
       ".xr-var-attrs,\n",
       ".xr-var-data,\n",
       ".xr-index-data {\n",
       "  grid-column: 1 / -1;\n",
       "}\n",
       "\n",
       "dl.xr-attrs {\n",
       "  padding: 0;\n",
       "  margin: 0;\n",
       "  display: grid;\n",
       "  grid-template-columns: 125px auto;\n",
       "}\n",
       "\n",
       ".xr-attrs dt,\n",
       ".xr-attrs dd {\n",
       "  padding: 0;\n",
       "  margin: 0;\n",
       "  float: left;\n",
       "  padding-right: 10px;\n",
       "  width: auto;\n",
       "}\n",
       "\n",
       ".xr-attrs dt {\n",
       "  font-weight: normal;\n",
       "  grid-column: 1;\n",
       "}\n",
       "\n",
       ".xr-attrs dt:hover span {\n",
       "  display: inline-block;\n",
       "  background: var(--xr-background-color);\n",
       "  padding-right: 10px;\n",
       "}\n",
       "\n",
       ".xr-attrs dd {\n",
       "  grid-column: 2;\n",
       "  white-space: pre-wrap;\n",
       "  word-break: break-all;\n",
       "}\n",
       "\n",
       ".xr-icon-database,\n",
       ".xr-icon-file-text2,\n",
       ".xr-no-icon {\n",
       "  display: inline-block;\n",
       "  vertical-align: middle;\n",
       "  width: 1em;\n",
       "  height: 1.5em !important;\n",
       "  stroke-width: 0;\n",
       "  stroke: currentColor;\n",
       "  fill: currentColor;\n",
       "}\n",
       "</style><pre class='xr-text-repr-fallback'>&lt;xarray.DataArray (size: 5, application: 2)&gt;\n",
       "array([[0., 0.],\n",
       "       [0., 0.],\n",
       "       [0., 0.],\n",
       "       [0., 0.],\n",
       "       [0., 0.]])\n",
       "Coordinates:\n",
       "  * size         (size) &lt;U6 &#x27;1000kW&#x27; &#x27;100kW&#x27; &#x27;3000kW&#x27; &#x27;500kW&#x27; &#x27;8000kW&#x27;\n",
       "  * application  (application) &lt;U8 &#x27;offshore&#x27; &#x27;onshore&#x27;\n",
       "    parameter    &lt;U36 &#x27;tower mass&#x27;\n",
       "    year         int64 2020\n",
       "    value        int64 0</pre><div class='xr-wrap' style='display:none'><div class='xr-header'><div class='xr-obj-type'>xarray.DataArray</div><div class='xr-array-name'></div><ul class='xr-dim-list'><li><span class='xr-has-index'>size</span>: 5</li><li><span class='xr-has-index'>application</span>: 2</li></ul></div><ul class='xr-sections'><li class='xr-section-item'><div class='xr-array-wrap'><input id='section-7a69b900-f68b-4b30-ab1c-008bea45722f' class='xr-array-in' type='checkbox' checked><label for='section-7a69b900-f68b-4b30-ab1c-008bea45722f' title='Show/hide data repr'><svg class='icon xr-icon-database'><use xlink:href='#icon-database'></use></svg></label><div class='xr-array-preview xr-preview'><span>0.0 0.0 0.0 0.0 0.0 0.0 0.0 0.0 0.0 0.0</span></div><div class='xr-array-data'><pre>array([[0., 0.],\n",
       "       [0., 0.],\n",
       "       [0., 0.],\n",
       "       [0., 0.],\n",
       "       [0., 0.]])</pre></div></div></li><li class='xr-section-item'><input id='section-a0aec4fa-3150-4caf-b6ae-8b21c0b055a7' class='xr-section-summary-in' type='checkbox'  checked><label for='section-a0aec4fa-3150-4caf-b6ae-8b21c0b055a7' class='xr-section-summary' >Coordinates: <span>(5)</span></label><div class='xr-section-inline-details'></div><div class='xr-section-details'><ul class='xr-var-list'><li class='xr-var-item'><div class='xr-var-name'><span class='xr-has-index'>size</span></div><div class='xr-var-dims'>(size)</div><div class='xr-var-dtype'>&lt;U6</div><div class='xr-var-preview xr-preview'>&#x27;1000kW&#x27; &#x27;100kW&#x27; ... &#x27;8000kW&#x27;</div><input id='attrs-a88ee3f3-cdf9-40b0-bc7a-346e456cb042' class='xr-var-attrs-in' type='checkbox' disabled><label for='attrs-a88ee3f3-cdf9-40b0-bc7a-346e456cb042' title='Show/Hide attributes'><svg class='icon xr-icon-file-text2'><use xlink:href='#icon-file-text2'></use></svg></label><input id='data-43deba33-13fb-4e1e-aaa7-5b53b4325105' class='xr-var-data-in' type='checkbox'><label for='data-43deba33-13fb-4e1e-aaa7-5b53b4325105' title='Show/Hide data repr'><svg class='icon xr-icon-database'><use xlink:href='#icon-database'></use></svg></label><div class='xr-var-attrs'><dl class='xr-attrs'></dl></div><div class='xr-var-data'><pre>array([&#x27;1000kW&#x27;, &#x27;100kW&#x27;, &#x27;3000kW&#x27;, &#x27;500kW&#x27;, &#x27;8000kW&#x27;], dtype=&#x27;&lt;U6&#x27;)</pre></div></li><li class='xr-var-item'><div class='xr-var-name'><span class='xr-has-index'>application</span></div><div class='xr-var-dims'>(application)</div><div class='xr-var-dtype'>&lt;U8</div><div class='xr-var-preview xr-preview'>&#x27;offshore&#x27; &#x27;onshore&#x27;</div><input id='attrs-5fd1a83e-5fe6-4dd8-9825-4b76ab9bc186' class='xr-var-attrs-in' type='checkbox' disabled><label for='attrs-5fd1a83e-5fe6-4dd8-9825-4b76ab9bc186' title='Show/Hide attributes'><svg class='icon xr-icon-file-text2'><use xlink:href='#icon-file-text2'></use></svg></label><input id='data-5c52a08a-1ea7-4c4b-b285-7dc0f2acff6d' class='xr-var-data-in' type='checkbox'><label for='data-5c52a08a-1ea7-4c4b-b285-7dc0f2acff6d' title='Show/Hide data repr'><svg class='icon xr-icon-database'><use xlink:href='#icon-database'></use></svg></label><div class='xr-var-attrs'><dl class='xr-attrs'></dl></div><div class='xr-var-data'><pre>array([&#x27;offshore&#x27;, &#x27;onshore&#x27;], dtype=&#x27;&lt;U8&#x27;)</pre></div></li><li class='xr-var-item'><div class='xr-var-name'><span>parameter</span></div><div class='xr-var-dims'>()</div><div class='xr-var-dtype'>&lt;U36</div><div class='xr-var-preview xr-preview'>&#x27;tower mass&#x27;</div><input id='attrs-e8585c71-0e04-4f00-b5dd-f4a34e120639' class='xr-var-attrs-in' type='checkbox' disabled><label for='attrs-e8585c71-0e04-4f00-b5dd-f4a34e120639' title='Show/Hide attributes'><svg class='icon xr-icon-file-text2'><use xlink:href='#icon-file-text2'></use></svg></label><input id='data-27e6e0a5-7ce2-40d4-8f30-7ed655e11a29' class='xr-var-data-in' type='checkbox'><label for='data-27e6e0a5-7ce2-40d4-8f30-7ed655e11a29' title='Show/Hide data repr'><svg class='icon xr-icon-database'><use xlink:href='#icon-database'></use></svg></label><div class='xr-var-attrs'><dl class='xr-attrs'></dl></div><div class='xr-var-data'><pre>array(&#x27;tower mass&#x27;, dtype=&#x27;&lt;U36&#x27;)</pre></div></li><li class='xr-var-item'><div class='xr-var-name'><span>year</span></div><div class='xr-var-dims'>()</div><div class='xr-var-dtype'>int64</div><div class='xr-var-preview xr-preview'>2020</div><input id='attrs-e5970321-28c5-445b-9eee-8d5e71986076' class='xr-var-attrs-in' type='checkbox' disabled><label for='attrs-e5970321-28c5-445b-9eee-8d5e71986076' title='Show/Hide attributes'><svg class='icon xr-icon-file-text2'><use xlink:href='#icon-file-text2'></use></svg></label><input id='data-6290651d-92af-46ca-8a08-174975fd00ed' class='xr-var-data-in' type='checkbox'><label for='data-6290651d-92af-46ca-8a08-174975fd00ed' title='Show/Hide data repr'><svg class='icon xr-icon-database'><use xlink:href='#icon-database'></use></svg></label><div class='xr-var-attrs'><dl class='xr-attrs'></dl></div><div class='xr-var-data'><pre>array(2020)</pre></div></li><li class='xr-var-item'><div class='xr-var-name'><span>value</span></div><div class='xr-var-dims'>()</div><div class='xr-var-dtype'>int64</div><div class='xr-var-preview xr-preview'>0</div><input id='attrs-8636c1e3-756b-4e7a-8b4b-89506a7063ca' class='xr-var-attrs-in' type='checkbox' disabled><label for='attrs-8636c1e3-756b-4e7a-8b4b-89506a7063ca' title='Show/Hide attributes'><svg class='icon xr-icon-file-text2'><use xlink:href='#icon-file-text2'></use></svg></label><input id='data-6e8f011e-5cc3-4f2c-b728-440ebe1f66c8' class='xr-var-data-in' type='checkbox'><label for='data-6e8f011e-5cc3-4f2c-b728-440ebe1f66c8' title='Show/Hide data repr'><svg class='icon xr-icon-database'><use xlink:href='#icon-database'></use></svg></label><div class='xr-var-attrs'><dl class='xr-attrs'></dl></div><div class='xr-var-data'><pre>array(0)</pre></div></li></ul></div></li><li class='xr-section-item'><input id='section-571b536e-28a4-455b-b0e2-8031754292d4' class='xr-section-summary-in' type='checkbox'  ><label for='section-571b536e-28a4-455b-b0e2-8031754292d4' class='xr-section-summary' >Indexes: <span>(2)</span></label><div class='xr-section-inline-details'></div><div class='xr-section-details'><ul class='xr-var-list'><li class='xr-var-item'><div class='xr-index-name'><div>size</div></div><div class='xr-index-preview'>PandasIndex</div><div></div><input id='index-257d2865-40f9-43e7-9393-b7f7fed10dc0' class='xr-index-data-in' type='checkbox'/><label for='index-257d2865-40f9-43e7-9393-b7f7fed10dc0' title='Show/Hide index repr'><svg class='icon xr-icon-database'><use xlink:href='#icon-database'></use></svg></label><div class='xr-index-data'><pre>PandasIndex(Index([&#x27;1000kW&#x27;, &#x27;100kW&#x27;, &#x27;3000kW&#x27;, &#x27;500kW&#x27;, &#x27;8000kW&#x27;], dtype=&#x27;object&#x27;, name=&#x27;size&#x27;))</pre></div></li><li class='xr-var-item'><div class='xr-index-name'><div>application</div></div><div class='xr-index-preview'>PandasIndex</div><div></div><input id='index-24b03380-077f-459d-8c20-6f42a2a7d247' class='xr-index-data-in' type='checkbox'/><label for='index-24b03380-077f-459d-8c20-6f42a2a7d247' title='Show/Hide index repr'><svg class='icon xr-icon-database'><use xlink:href='#icon-database'></use></svg></label><div class='xr-index-data'><pre>PandasIndex(Index([&#x27;offshore&#x27;, &#x27;onshore&#x27;], dtype=&#x27;object&#x27;, name=&#x27;application&#x27;))</pre></div></li></ul></div></li><li class='xr-section-item'><input id='section-f40ddba8-e20d-4e1b-bd54-334d6b0aa5a1' class='xr-section-summary-in' type='checkbox' disabled ><label for='section-f40ddba8-e20d-4e1b-bd54-334d6b0aa5a1' class='xr-section-summary'  title='Expand/collapse section'>Attributes: <span>(0)</span></label><div class='xr-section-inline-details'></div><div class='xr-section-details'><dl class='xr-attrs'></dl></div></li></ul></div></div>"
      ],
      "text/plain": [
       "<xarray.DataArray (size: 5, application: 2)>\n",
       "array([[0., 0.],\n",
       "       [0., 0.],\n",
       "       [0., 0.],\n",
       "       [0., 0.],\n",
       "       [0., 0.]])\n",
       "Coordinates:\n",
       "  * size         (size) <U6 '1000kW' '100kW' '3000kW' '500kW' '8000kW'\n",
       "  * application  (application) <U8 'offshore' 'onshore'\n",
       "    parameter    <U36 'tower mass'\n",
       "    year         int64 2020\n",
       "    value        int64 0"
      ]
     },
     "execution_count": 6,
     "metadata": {},
     "output_type": "execute_result"
    }
   ],
   "source": [
    "wt.array.sel(year=2020, value=0, parameter=\"tower mass\")"
   ]
  },
  {
   "cell_type": "code",
   "execution_count": null,
   "metadata": {},
   "outputs": [],
   "source": []
  }
 ],
 "metadata": {
  "kernelspec": {
   "display_name": "Python 3 (ipykernel)",
   "language": "python",
   "name": "python3"
  },
  "language_info": {
   "codemirror_mode": {
    "name": "ipython",
    "version": 3
   },
   "file_extension": ".py",
   "mimetype": "text/x-python",
   "name": "python",
   "nbconvert_exporter": "python",
   "pygments_lexer": "ipython3",
   "version": "3.11.11"
  }
 },
 "nbformat": 4,
 "nbformat_minor": 4
}
